{
  "cells": [
    {
      "cell_type": "code",
      "execution_count": 1,
      "metadata": {
        "colab": {
          "base_uri": "https://localhost:8080/"
        },
        "id": "CMFbPKMr2g2d",
        "outputId": "48b89b92-ac2c-4797-bf15-abc68b8812e9"
      },
      "outputs": [
        {
          "output_type": "stream",
          "name": "stdout",
          "text": [
            "\u001b[K     |████████████████████████████████| 720 kB 4.4 MB/s \n",
            "\u001b[K     |████████████████████████████████| 46 kB 2.6 MB/s \n",
            "\u001b[K     |████████████████████████████████| 189 kB 43.5 MB/s \n",
            "\u001b[K     |████████████████████████████████| 1.2 MB 26.2 MB/s \n",
            "\u001b[K     |████████████████████████████████| 56 kB 4.0 MB/s \n",
            "\u001b[K     |████████████████████████████████| 51 kB 249 kB/s \n",
            "\u001b[?25hMounted at /content/gdrive\n"
          ]
        }
      ],
      "source": [
        "#hide\n",
        "!pip install -Uqq fastbook\n",
        "import fastbook\n",
        "fastbook.setup_book()"
      ]
    },
    {
      "cell_type": "code",
      "execution_count": 2,
      "metadata": {
        "id": "BZ9vOPdU2g2g"
      },
      "outputs": [],
      "source": [
        "#hide\n",
        "from fastai.vision.all import *\n",
        "from fastbook import *\n",
        "\n",
        "matplotlib.rc('image', cmap='Greys')"
      ]
    },
    {
      "cell_type": "markdown",
      "metadata": {
        "id": "vaU4EJly2g2h"
      },
      "source": [
        "# Under the Hood: Training a Digit Classifier"
      ]
    },
    {
      "cell_type": "markdown",
      "metadata": {
        "id": "zlT8c3AC2g2i"
      },
      "source": [
        "## Pixels: The Foundations of Computer Vision"
      ]
    },
    {
      "cell_type": "markdown",
      "metadata": {
        "id": "yh3fn_wE2g2j"
      },
      "source": [
        "## Sidebar: Tenacity and Deep Learning"
      ]
    },
    {
      "cell_type": "markdown",
      "metadata": {
        "id": "qSR6ydsA2g2j"
      },
      "source": [
        "## End sidebar"
      ]
    },
    {
      "cell_type": "code",
      "execution_count": 3,
      "metadata": {
        "colab": {
          "base_uri": "https://localhost:8080/",
          "height": 37
        },
        "id": "WnMD6kQ12g2j",
        "outputId": "e3a9616e-3f13-4762-ffe5-3720115b38e4"
      },
      "outputs": [
        {
          "output_type": "display_data",
          "data": {
            "text/html": [
              "\n",
              "    <div>\n",
              "        <style>\n",
              "            /* Turns off some styling */\n",
              "            progress {\n",
              "                /* gets rid of default border in Firefox and Opera. */\n",
              "                border: none;\n",
              "                /* Needs to be in here for Safari polyfill so background images work as expected. */\n",
              "                background-size: auto;\n",
              "            }\n",
              "            .progress-bar-interrupted, .progress-bar-interrupted::-webkit-progress-bar {\n",
              "                background: #F44336;\n",
              "            }\n",
              "        </style>\n",
              "      <progress value='3219456' class='' max='3214948' style='width:300px; height:20px; vertical-align: middle;'></progress>\n",
              "      100.14% [3219456/3214948 00:01<00:00]\n",
              "    </div>\n",
              "    "
            ],
            "text/plain": [
              "<IPython.core.display.HTML object>"
            ]
          },
          "metadata": {}
        }
      ],
      "source": [
        "path = untar_data(URLs.MNIST_SAMPLE)"
      ]
    },
    {
      "cell_type": "code",
      "execution_count": 4,
      "metadata": {
        "id": "-0b-kQmw2g2k"
      },
      "outputs": [],
      "source": [
        "#hide\n",
        "Path.BASE_PATH = path"
      ]
    },
    {
      "cell_type": "code",
      "execution_count": 5,
      "metadata": {
        "colab": {
          "base_uri": "https://localhost:8080/"
        },
        "id": "uu27NnAl2g2l",
        "outputId": "adcfc16b-745a-453e-8619-836af4a60dd6"
      },
      "outputs": [
        {
          "output_type": "execute_result",
          "data": {
            "text/plain": [
              "(#3) [Path('valid'),Path('labels.csv'),Path('train')]"
            ]
          },
          "metadata": {},
          "execution_count": 5
        }
      ],
      "source": [
        "path.ls()"
      ]
    },
    {
      "cell_type": "code",
      "source": [
        "# path.ls?"
      ],
      "metadata": {
        "id": "KCN_pamG3Yf_"
      },
      "execution_count": 6,
      "outputs": []
    },
    {
      "cell_type": "code",
      "source": [
        "# path.ls??"
      ],
      "metadata": {
        "id": "TFWj3fGy3egc"
      },
      "execution_count": 7,
      "outputs": []
    },
    {
      "cell_type": "code",
      "source": [
        "doc(path.ls)"
      ],
      "metadata": {
        "colab": {
          "base_uri": "https://localhost:8080/",
          "height": 145
        },
        "id": "3eeLN4vp3hLT",
        "outputId": "f72f6ad3-c9b0-4681-b239-0dca16843b83"
      },
      "execution_count": 8,
      "outputs": [
        {
          "output_type": "display_data",
          "data": {
            "text/html": [
              "<h4 id=\"Path.ls\" class=\"doc_header\"><code>Path.ls</code><a href=\"https://github.com/fastai/fastcore/tree/master/fastcore/xtras.py#L312\" class=\"source_link\" style=\"float:right\">[source]</a></h4><blockquote><p><code>Path.ls</code>(<strong><code>n_max</code></strong>=<em><code>None</code></em>, <strong><code>file_type</code></strong>=<em><code>None</code></em>, <strong><code>file_exts</code></strong>=<em><code>None</code></em>)</p>\n",
              "</blockquote>\n",
              "<p>Contents of path as a list</p>\n",
              "<p><a href=\"https://fastcore.fast.ai/xtras#Path.ls\" target=\"_blank\" rel=\"noreferrer noopener\">Show in docs</a></p>\n"
            ],
            "text/plain": [
              "<IPython.core.display.HTML object>"
            ]
          },
          "metadata": {}
        }
      ]
    },
    {
      "cell_type": "code",
      "execution_count": 9,
      "metadata": {
        "colab": {
          "base_uri": "https://localhost:8080/"
        },
        "id": "DiSyIv0U2g2l",
        "outputId": "3ab18860-b78f-4492-c62e-7e495b06bf84"
      },
      "outputs": [
        {
          "output_type": "execute_result",
          "data": {
            "text/plain": [
              "(#2) [Path('train/7'),Path('train/3')]"
            ]
          },
          "metadata": {},
          "execution_count": 9
        }
      ],
      "source": [
        "(path/'train').ls()"
      ]
    },
    {
      "cell_type": "code",
      "execution_count": 10,
      "metadata": {
        "colab": {
          "base_uri": "https://localhost:8080/"
        },
        "id": "YIGpAII52g2m",
        "outputId": "82b70dc1-75b7-411d-eb52-89eaf7616fb4"
      },
      "outputs": [
        {
          "output_type": "execute_result",
          "data": {
            "text/plain": [
              "(#6131) [Path('train/3/10.png'),Path('train/3/10000.png'),Path('train/3/10011.png'),Path('train/3/10031.png'),Path('train/3/10034.png'),Path('train/3/10042.png'),Path('train/3/10052.png'),Path('train/3/1007.png'),Path('train/3/10074.png'),Path('train/3/10091.png')...]"
            ]
          },
          "metadata": {},
          "execution_count": 10
        }
      ],
      "source": [
        "threes = (path/'train'/'3').ls().sorted()\n",
        "sevens = (path/'train'/'7').ls().sorted()\n",
        "threes"
      ]
    },
    {
      "cell_type": "code",
      "execution_count": 11,
      "metadata": {
        "colab": {
          "base_uri": "https://localhost:8080/",
          "height": 45
        },
        "id": "3pZA00pF2g2m",
        "outputId": "83b2a44e-0756-4671-f336-c8f5d7004b82"
      },
      "outputs": [
        {
          "output_type": "execute_result",
          "data": {
            "image/png": "[encoded data removed]",
            "text/plain": [
              "<PIL.PngImagePlugin.PngImageFile image mode=L size=28x28 at 0x7F73CD398C10>"
            ]
          },
          "metadata": {},
          "execution_count": 11
        }
      ],
      "source": [
        "im3_path = threes[1]\n",
        "im3 = Image.open(im3_path)\n",
        "im3"
      ]
    },
    {
      "cell_type": "code",
      "execution_count": 12,
      "metadata": {
        "colab": {
          "base_uri": "https://localhost:8080/"
        },
        "id": "nmUaM2LE2g2n",
        "outputId": "265a1eef-b3f4-4446-f839-e3fef700ee01"
      },
      "outputs": [
        {
          "output_type": "execute_result",
          "data": {
            "text/plain": [
              "array([[  0,   0,   0,   0,   0,   0],\n",
              "       [  0,   0,   0,   0,   0,  29],\n",
              "       [  0,   0,   0,  48, 166, 224],\n",
              "       [  0,  93, 244, 249, 253, 187],\n",
              "       [  0, 107, 253, 253, 230,  48],\n",
              "       [  0,   3,  20,  20,  15,   0]], dtype=uint8)"
            ]
          },
          "metadata": {},
          "execution_count": 12
        }
      ],
      "source": [
        "array(im3)[4:10,4:10]"
      ]
    },
    {
      "cell_type": "code",
      "execution_count": 13,
      "metadata": {
        "colab": {
          "base_uri": "https://localhost:8080/"
        },
        "id": "XVARSP7R2g2o",
        "outputId": "3eb94736-f3d5-48aa-954f-90f1f12fb82b"
      },
      "outputs": [
        {
          "output_type": "execute_result",
          "data": {
            "text/plain": [
              "tensor([[  0,   0,   0,   0,   0,   0],\n",
              "        [  0,   0,   0,   0,   0,  29],\n",
              "        [  0,   0,   0,  48, 166, 224],\n",
              "        [  0,  93, 244, 249, 253, 187],\n",
              "        [  0, 107, 253, 253, 230,  48],\n",
              "        [  0,   3,  20,  20,  15,   0]], dtype=torch.uint8)"
            ]
          },
          "metadata": {},
          "execution_count": 13
        }
      ],
      "source": [
        "tensor(im3)[4:10,4:10]"
      ]
    },
    {
      "cell_type": "code",
      "execution_count": 14,
      "metadata": {
        "colab": {
          "base_uri": "https://localhost:8080/",
          "height": 394
        },
        "id": "Arzi-GsB2g2p",
        "outputId": "540395fc-c3ef-4899-a5cc-44a4da3be117"
      },
      "outputs": [
        {
          "output_type": "execute_result",
          "data": {
            "text/html": [
              "<style type=\"text/css\">\n",
              "#T_4f902_row0_col0, #T_4f902_row0_col1, #T_4f902_row0_col2, #T_4f902_row0_col3, #T_4f902_row0_col4, #T_4f902_row0_col5, #T_4f902_row0_col6, #T_4f902_row0_col7, #T_4f902_row0_col8, #T_4f902_row0_col9, #T_4f902_row0_col10, #T_4f902_row0_col11, #T_4f902_row0_col12, #T_4f902_row0_col13, #T_4f902_row0_col14, #T_4f902_row0_col15, #T_4f902_row0_col16, #T_4f902_row0_col17, #T_4f902_row1_col0, #T_4f902_row1_col1, #T_4f902_row1_col2, #T_4f902_row1_col3, #T_4f902_row1_col4, #T_4f902_row1_col15, #T_4f902_row1_col16, #T_4f902_row1_col17, #T_4f902_row2_col0, #T_4f902_row2_col1, #T_4f902_row2_col2, #T_4f902_row2_col15, #T_4f902_row2_col16, #T_4f902_row2_col17, #T_4f902_row3_col0, #T_4f902_row3_col15, #T_4f902_row3_col16, #T_4f902_row3_col17, #T_4f902_row4_col0, #T_4f902_row4_col6, #T_4f902_row4_col7, #T_4f902_row4_col8, #T_4f902_row4_col9, #T_4f902_row4_col10, #T_4f902_row4_col15, #T_4f902_row4_col16, #T_4f902_row4_col17, #T_4f902_row5_col0, #T_4f902_row5_col5, #T_4f902_row5_col6, #T_4f902_row5_col7, #T_4f902_row5_col8, #T_4f902_row5_col9, #T_4f902_row5_col15, #T_4f902_row5_col16, #T_4f902_row5_col17, #T_4f902_row6_col0, #T_4f902_row6_col1, #T_4f902_row6_col2, #T_4f902_row6_col3, #T_4f902_row6_col4, #T_4f902_row6_col5, #T_4f902_row6_col6, #T_4f902_row6_col7, #T_4f902_row6_col8, #T_4f902_row6_col9, #T_4f902_row6_col14, #T_4f902_row6_col15, #T_4f902_row6_col16, #T_4f902_row6_col17, #T_4f902_row7_col0, #T_4f902_row7_col1, #T_4f902_row7_col2, #T_4f902_row7_col3, #T_4f902_row7_col4, #T_4f902_row7_col5, #T_4f902_row7_col6, #T_4f902_row7_col13, #T_4f902_row7_col14, #T_4f902_row7_col15, #T_4f902_row7_col16, #T_4f902_row7_col17, #T_4f902_row8_col0, #T_4f902_row8_col1, #T_4f902_row8_col2, #T_4f902_row8_col3, #T_4f902_row8_col4, #T_4f902_row8_col13, #T_4f902_row8_col14, #T_4f902_row8_col15, #T_4f902_row8_col16, #T_4f902_row8_col17, #T_4f902_row9_col0, #T_4f902_row9_col1, #T_4f902_row9_col2, #T_4f902_row9_col3, #T_4f902_row9_col4, #T_4f902_row9_col16, #T_4f902_row9_col17, #T_4f902_row10_col0, #T_4f902_row10_col1, #T_4f902_row10_col2, #T_4f902_row10_col3, #T_4f902_row10_col4, #T_4f902_row10_col5, #T_4f902_row10_col6, #T_4f902_row10_col17 {\n",
              "  font-size: 6pt;\n",
              "  background-color: #ffffff;\n",
              "  color: #000000;\n",
              "}\n",
              "#T_4f902_row1_col5 {\n",
              "  font-size: 6pt;\n",
              "  background-color: #efefef;\n",
              "  color: #000000;\n",
              "}\n",
              "#T_4f902_row1_col6, #T_4f902_row1_col13 {\n",
              "  font-size: 6pt;\n",
              "  background-color: #7c7c7c;\n",
              "  color: #f1f1f1;\n",
              "}\n",
              "#T_4f902_row1_col7 {\n",
              "  font-size: 6pt;\n",
              "  background-color: #4a4a4a;\n",
              "  color: #f1f1f1;\n",
              "}\n",
              "#T_4f902_row1_col8, #T_4f902_row1_col9, #T_4f902_row1_col10, #T_4f902_row2_col5, #T_4f902_row2_col6, #T_4f902_row2_col7, #T_4f902_row2_col11, #T_4f902_row2_col12, #T_4f902_row2_col13, #T_4f902_row3_col4, #T_4f902_row3_col12, #T_4f902_row3_col13, #T_4f902_row4_col1, #T_4f902_row4_col2, #T_4f902_row4_col3, #T_4f902_row4_col12, #T_4f902_row4_col13, #T_4f902_row5_col12, #T_4f902_row6_col11, #T_4f902_row9_col11, #T_4f902_row10_col11, #T_4f902_row10_col12, #T_4f902_row10_col13, #T_4f902_row10_col14, #T_4f902_row10_col15, #T_4f902_row10_col16 {\n",
              "  font-size: 6pt;\n",
              "  background-color: #000000;\n",
              "  color: #f1f1f1;\n",
              "}\n",
              "#T_4f902_row1_col11 {\n",
              "  font-size: 6pt;\n",
              "  background-color: #606060;\n",
              "  color: #f1f1f1;\n",
              "}\n",
              "#T_4f902_row1_col12 {\n",
              "  font-size: 6pt;\n",
              "  background-color: #4d4d4d;\n",
              "  color: #f1f1f1;\n",
              "}\n",
              "#T_4f902_row1_col14 {\n",
              "  font-size: 6pt;\n",
              "  background-color: #bbbbbb;\n",
              "  color: #000000;\n",
              "}\n",
              "#T_4f902_row2_col3 {\n",
              "  font-size: 6pt;\n",
              "  background-color: #e4e4e4;\n",
              "  color: #000000;\n",
              "}\n",
              "#T_4f902_row2_col4, #T_4f902_row8_col6 {\n",
              "  font-size: 6pt;\n",
              "  background-color: #6b6b6b;\n",
              "  color: #f1f1f1;\n",
              "}\n",
              "#T_4f902_row2_col8, #T_4f902_row2_col14, #T_4f902_row3_col14 {\n",
              "  font-size: 6pt;\n",
              "  background-color: #171717;\n",
              "  color: #f1f1f1;\n",
              "}\n",
              "#T_4f902_row2_col9, #T_4f902_row3_col11 {\n",
              "  font-size: 6pt;\n",
              "  background-color: #4b4b4b;\n",
              "  color: #f1f1f1;\n",
              "}\n",
              "#T_4f902_row2_col10, #T_4f902_row7_col10, #T_4f902_row8_col8, #T_4f902_row8_col10, #T_4f902_row9_col8, #T_4f902_row9_col10 {\n",
              "  font-size: 6pt;\n",
              "  background-color: #010101;\n",
              "  color: #f1f1f1;\n",
              "}\n",
              "#T_4f902_row3_col1 {\n",
              "  font-size: 6pt;\n",
              "  background-color: #272727;\n",
              "  color: #f1f1f1;\n",
              "}\n",
              "#T_4f902_row3_col2 {\n",
              "  font-size: 6pt;\n",
              "  background-color: #0a0a0a;\n",
              "  color: #f1f1f1;\n",
              "}\n",
              "#T_4f902_row3_col3 {\n",
              "  font-size: 6pt;\n",
              "  background-color: #050505;\n",
              "  color: #f1f1f1;\n",
              "}\n",
              "#T_4f902_row3_col5 {\n",
              "  font-size: 6pt;\n",
              "  background-color: #333333;\n",
              "  color: #f1f1f1;\n",
              "}\n",
              "#T_4f902_row3_col6 {\n",
              "  font-size: 6pt;\n",
              "  background-color: #e6e6e6;\n",
              "  color: #000000;\n",
              "}\n",
              "#T_4f902_row3_col7, #T_4f902_row3_col10 {\n",
              "  font-size: 6pt;\n",
              "  background-color: #fafafa;\n",
              "  color: #000000;\n",
              "}\n",
              "#T_4f902_row3_col8 {\n",
              "  font-size: 6pt;\n",
              "  background-color: #fbfbfb;\n",
              "  color: #000000;\n",
              "}\n",
              "#T_4f902_row3_col9 {\n",
              "  font-size: 6pt;\n",
              "  background-color: #fdfdfd;\n",
              "  color: #000000;\n",
              "}\n",
              "#T_4f902_row4_col4 {\n",
              "  font-size: 6pt;\n",
              "  background-color: #1b1b1b;\n",
              "  color: #f1f1f1;\n",
              "}\n",
              "#T_4f902_row4_col5 {\n",
              "  font-size: 6pt;\n",
              "  background-color: #e0e0e0;\n",
              "  color: #000000;\n",
              "}\n",
              "#T_4f902_row4_col11 {\n",
              "  font-size: 6pt;\n",
              "  background-color: #4e4e4e;\n",
              "  color: #f1f1f1;\n",
              "}\n",
              "#T_4f902_row4_col14 {\n",
              "  font-size: 6pt;\n",
              "  background-color: #767676;\n",
              "  color: #f1f1f1;\n",
              "}\n",
              "#T_4f902_row5_col1 {\n",
              "  font-size: 6pt;\n",
              "  background-color: #fcfcfc;\n",
              "  color: #000000;\n",
              "}\n",
              "#T_4f902_row5_col2, #T_4f902_row5_col3 {\n",
              "  font-size: 6pt;\n",
              "  background-color: #f6f6f6;\n",
              "  color: #000000;\n",
              "}\n",
              "#T_4f902_row5_col4, #T_4f902_row7_col7 {\n",
              "  font-size: 6pt;\n",
              "  background-color: #f8f8f8;\n",
              "  color: #000000;\n",
              "}\n",
              "#T_4f902_row5_col10, #T_4f902_row10_col7 {\n",
              "  font-size: 6pt;\n",
              "  background-color: #e8e8e8;\n",
              "  color: #000000;\n",
              "}\n",
              "#T_4f902_row5_col11 {\n",
              "  font-size: 6pt;\n",
              "  background-color: #222222;\n",
              "  color: #f1f1f1;\n",
              "}\n",
              "#T_4f902_row5_col13, #T_4f902_row6_col12 {\n",
              "  font-size: 6pt;\n",
              "  background-color: #090909;\n",
              "  color: #f1f1f1;\n",
              "}\n",
              "#T_4f902_row5_col14 {\n",
              "  font-size: 6pt;\n",
              "  background-color: #d0d0d0;\n",
              "  color: #000000;\n",
              "}\n",
              "#T_4f902_row6_col10, #T_4f902_row7_col11, #T_4f902_row9_col6 {\n",
              "  font-size: 6pt;\n",
              "  background-color: #060606;\n",
              "  color: #f1f1f1;\n",
              "}\n",
              "#T_4f902_row6_col13 {\n",
              "  font-size: 6pt;\n",
              "  background-color: #979797;\n",
              "  color: #f1f1f1;\n",
              "}\n",
              "#T_4f902_row7_col8 {\n",
              "  font-size: 6pt;\n",
              "  background-color: #b6b6b6;\n",
              "  color: #000000;\n",
              "}\n",
              "#T_4f902_row7_col9 {\n",
              "  font-size: 6pt;\n",
              "  background-color: #252525;\n",
              "  color: #f1f1f1;\n",
              "}\n",
              "#T_4f902_row7_col12 {\n",
              "  font-size: 6pt;\n",
              "  background-color: #999999;\n",
              "  color: #f1f1f1;\n",
              "}\n",
              "#T_4f902_row8_col5 {\n",
              "  font-size: 6pt;\n",
              "  background-color: #f9f9f9;\n",
              "  color: #000000;\n",
              "}\n",
              "#T_4f902_row8_col7 {\n",
              "  font-size: 6pt;\n",
              "  background-color: #101010;\n",
              "  color: #f1f1f1;\n",
              "}\n",
              "#T_4f902_row8_col9, #T_4f902_row9_col9 {\n",
              "  font-size: 6pt;\n",
              "  background-color: #020202;\n",
              "  color: #f1f1f1;\n",
              "}\n",
              "#T_4f902_row8_col11 {\n",
              "  font-size: 6pt;\n",
              "  background-color: #545454;\n",
              "  color: #f1f1f1;\n",
              "}\n",
              "#T_4f902_row8_col12 {\n",
              "  font-size: 6pt;\n",
              "  background-color: #f1f1f1;\n",
              "  color: #000000;\n",
              "}\n",
              "#T_4f902_row9_col5 {\n",
              "  font-size: 6pt;\n",
              "  background-color: #f7f7f7;\n",
              "  color: #000000;\n",
              "}\n",
              "#T_4f902_row9_col7 {\n",
              "  font-size: 6pt;\n",
              "  background-color: #030303;\n",
              "  color: #f1f1f1;\n",
              "}\n",
              "#T_4f902_row9_col12 {\n",
              "  font-size: 6pt;\n",
              "  background-color: #181818;\n",
              "  color: #f1f1f1;\n",
              "}\n",
              "#T_4f902_row9_col13 {\n",
              "  font-size: 6pt;\n",
              "  background-color: #303030;\n",
              "  color: #f1f1f1;\n",
              "}\n",
              "#T_4f902_row9_col14 {\n",
              "  font-size: 6pt;\n",
              "  background-color: #a9a9a9;\n",
              "  color: #f1f1f1;\n",
              "}\n",
              "#T_4f902_row9_col15 {\n",
              "  font-size: 6pt;\n",
              "  background-color: #fefefe;\n",
              "  color: #000000;\n",
              "}\n",
              "#T_4f902_row10_col8, #T_4f902_row10_col9 {\n",
              "  font-size: 6pt;\n",
              "  background-color: #bababa;\n",
              "  color: #000000;\n",
              "}\n",
              "#T_4f902_row10_col10 {\n",
              "  font-size: 6pt;\n",
              "  background-color: #393939;\n",
              "  color: #f1f1f1;\n",
              "}\n",
              "</style>\n",
              "<table id=\"T_4f902_\" class=\"dataframe\">\n",
              "  <thead>\n",
              "    <tr>\n",
              "      <th class=\"blank level0\" >&nbsp;</th>\n",
              "      <th class=\"col_heading level0 col0\" >0</th>\n",
              "      <th class=\"col_heading level0 col1\" >1</th>\n",
              "      <th class=\"col_heading level0 col2\" >2</th>\n",
              "      <th class=\"col_heading level0 col3\" >3</th>\n",
              "      <th class=\"col_heading level0 col4\" >4</th>\n",
              "      <th class=\"col_heading level0 col5\" >5</th>\n",
              "      <th class=\"col_heading level0 col6\" >6</th>\n",
              "      <th class=\"col_heading level0 col7\" >7</th>\n",
              "      <th class=\"col_heading level0 col8\" >8</th>\n",
              "      <th class=\"col_heading level0 col9\" >9</th>\n",
              "      <th class=\"col_heading level0 col10\" >10</th>\n",
              "      <th class=\"col_heading level0 col11\" >11</th>\n",
              "      <th class=\"col_heading level0 col12\" >12</th>\n",
              "      <th class=\"col_heading level0 col13\" >13</th>\n",
              "      <th class=\"col_heading level0 col14\" >14</th>\n",
              "      <th class=\"col_heading level0 col15\" >15</th>\n",
              "      <th class=\"col_heading level0 col16\" >16</th>\n",
              "      <th class=\"col_heading level0 col17\" >17</th>\n",
              "    </tr>\n",
              "  </thead>\n",
              "  <tbody>\n",
              "    <tr>\n",
              "      <th id=\"T_4f902_level0_row0\" class=\"row_heading level0 row0\" >0</th>\n",
              "      <td id=\"T_4f902_row0_col0\" class=\"data row0 col0\" >0</td>\n",
              "      <td id=\"T_4f902_row0_col1\" class=\"data row0 col1\" >0</td>\n",
              "      <td id=\"T_4f902_row0_col2\" class=\"data row0 col2\" >0</td>\n",
              "      <td id=\"T_4f902_row0_col3\" class=\"data row0 col3\" >0</td>\n",
              "      <td id=\"T_4f902_row0_col4\" class=\"data row0 col4\" >0</td>\n",
              "      <td id=\"T_4f902_row0_col5\" class=\"data row0 col5\" >0</td>\n",
              "      <td id=\"T_4f902_row0_col6\" class=\"data row0 col6\" >0</td>\n",
              "      <td id=\"T_4f902_row0_col7\" class=\"data row0 col7\" >0</td>\n",
              "      <td id=\"T_4f902_row0_col8\" class=\"data row0 col8\" >0</td>\n",
              "      <td id=\"T_4f902_row0_col9\" class=\"data row0 col9\" >0</td>\n",
              "      <td id=\"T_4f902_row0_col10\" class=\"data row0 col10\" >0</td>\n",
              "      <td id=\"T_4f902_row0_col11\" class=\"data row0 col11\" >0</td>\n",
              "      <td id=\"T_4f902_row0_col12\" class=\"data row0 col12\" >0</td>\n",
              "      <td id=\"T_4f902_row0_col13\" class=\"data row0 col13\" >0</td>\n",
              "      <td id=\"T_4f902_row0_col14\" class=\"data row0 col14\" >0</td>\n",
              "      <td id=\"T_4f902_row0_col15\" class=\"data row0 col15\" >0</td>\n",
              "      <td id=\"T_4f902_row0_col16\" class=\"data row0 col16\" >0</td>\n",
              "      <td id=\"T_4f902_row0_col17\" class=\"data row0 col17\" >0</td>\n",
              "    </tr>\n",
              "    <tr>\n",
              "      <th id=\"T_4f902_level0_row1\" class=\"row_heading level0 row1\" >1</th>\n",
              "      <td id=\"T_4f902_row1_col0\" class=\"data row1 col0\" >0</td>\n",
              "      <td id=\"T_4f902_row1_col1\" class=\"data row1 col1\" >0</td>\n",
              "      <td id=\"T_4f902_row1_col2\" class=\"data row1 col2\" >0</td>\n",
              "      <td id=\"T_4f902_row1_col3\" class=\"data row1 col3\" >0</td>\n",
              "      <td id=\"T_4f902_row1_col4\" class=\"data row1 col4\" >0</td>\n",
              "      <td id=\"T_4f902_row1_col5\" class=\"data row1 col5\" >29</td>\n",
              "      <td id=\"T_4f902_row1_col6\" class=\"data row1 col6\" >150</td>\n",
              "      <td id=\"T_4f902_row1_col7\" class=\"data row1 col7\" >195</td>\n",
              "      <td id=\"T_4f902_row1_col8\" class=\"data row1 col8\" >254</td>\n",
              "      <td id=\"T_4f902_row1_col9\" class=\"data row1 col9\" >255</td>\n",
              "      <td id=\"T_4f902_row1_col10\" class=\"data row1 col10\" >254</td>\n",
              "      <td id=\"T_4f902_row1_col11\" class=\"data row1 col11\" >176</td>\n",
              "      <td id=\"T_4f902_row1_col12\" class=\"data row1 col12\" >193</td>\n",
              "      <td id=\"T_4f902_row1_col13\" class=\"data row1 col13\" >150</td>\n",
              "      <td id=\"T_4f902_row1_col14\" class=\"data row1 col14\" >96</td>\n",
              "      <td id=\"T_4f902_row1_col15\" class=\"data row1 col15\" >0</td>\n",
              "      <td id=\"T_4f902_row1_col16\" class=\"data row1 col16\" >0</td>\n",
              "      <td id=\"T_4f902_row1_col17\" class=\"data row1 col17\" >0</td>\n",
              "    </tr>\n",
              "    <tr>\n",
              "      <th id=\"T_4f902_level0_row2\" class=\"row_heading level0 row2\" >2</th>\n",
              "      <td id=\"T_4f902_row2_col0\" class=\"data row2 col0\" >0</td>\n",
              "      <td id=\"T_4f902_row2_col1\" class=\"data row2 col1\" >0</td>\n",
              "      <td id=\"T_4f902_row2_col2\" class=\"data row2 col2\" >0</td>\n",
              "      <td id=\"T_4f902_row2_col3\" class=\"data row2 col3\" >48</td>\n",
              "      <td id=\"T_4f902_row2_col4\" class=\"data row2 col4\" >166</td>\n",
              "      <td id=\"T_4f902_row2_col5\" class=\"data row2 col5\" >224</td>\n",
              "      <td id=\"T_4f902_row2_col6\" class=\"data row2 col6\" >253</td>\n",
              "      <td id=\"T_4f902_row2_col7\" class=\"data row2 col7\" >253</td>\n",
              "      <td id=\"T_4f902_row2_col8\" class=\"data row2 col8\" >234</td>\n",
              "      <td id=\"T_4f902_row2_col9\" class=\"data row2 col9\" >196</td>\n",
              "      <td id=\"T_4f902_row2_col10\" class=\"data row2 col10\" >253</td>\n",
              "      <td id=\"T_4f902_row2_col11\" class=\"data row2 col11\" >253</td>\n",
              "      <td id=\"T_4f902_row2_col12\" class=\"data row2 col12\" >253</td>\n",
              "      <td id=\"T_4f902_row2_col13\" class=\"data row2 col13\" >253</td>\n",
              "      <td id=\"T_4f902_row2_col14\" class=\"data row2 col14\" >233</td>\n",
              "      <td id=\"T_4f902_row2_col15\" class=\"data row2 col15\" >0</td>\n",
              "      <td id=\"T_4f902_row2_col16\" class=\"data row2 col16\" >0</td>\n",
              "      <td id=\"T_4f902_row2_col17\" class=\"data row2 col17\" >0</td>\n",
              "    </tr>\n",
              "    <tr>\n",
              "      <th id=\"T_4f902_level0_row3\" class=\"row_heading level0 row3\" >3</th>\n",
              "      <td id=\"T_4f902_row3_col0\" class=\"data row3 col0\" >0</td>\n",
              "      <td id=\"T_4f902_row3_col1\" class=\"data row3 col1\" >93</td>\n",
              "      <td id=\"T_4f902_row3_col2\" class=\"data row3 col2\" >244</td>\n",
              "      <td id=\"T_4f902_row3_col3\" class=\"data row3 col3\" >249</td>\n",
              "      <td id=\"T_4f902_row3_col4\" class=\"data row3 col4\" >253</td>\n",
              "      <td id=\"T_4f902_row3_col5\" class=\"data row3 col5\" >187</td>\n",
              "      <td id=\"T_4f902_row3_col6\" class=\"data row3 col6\" >46</td>\n",
              "      <td id=\"T_4f902_row3_col7\" class=\"data row3 col7\" >10</td>\n",
              "      <td id=\"T_4f902_row3_col8\" class=\"data row3 col8\" >8</td>\n",
              "      <td id=\"T_4f902_row3_col9\" class=\"data row3 col9\" >4</td>\n",
              "      <td id=\"T_4f902_row3_col10\" class=\"data row3 col10\" >10</td>\n",
              "      <td id=\"T_4f902_row3_col11\" class=\"data row3 col11\" >194</td>\n",
              "      <td id=\"T_4f902_row3_col12\" class=\"data row3 col12\" >253</td>\n",
              "      <td id=\"T_4f902_row3_col13\" class=\"data row3 col13\" >253</td>\n",
              "      <td id=\"T_4f902_row3_col14\" class=\"data row3 col14\" >233</td>\n",
              "      <td id=\"T_4f902_row3_col15\" class=\"data row3 col15\" >0</td>\n",
              "      <td id=\"T_4f902_row3_col16\" class=\"data row3 col16\" >0</td>\n",
              "      <td id=\"T_4f902_row3_col17\" class=\"data row3 col17\" >0</td>\n",
              "    </tr>\n",
              "    <tr>\n",
              "      <th id=\"T_4f902_level0_row4\" class=\"row_heading level0 row4\" >4</th>\n",
              "      <td id=\"T_4f902_row4_col0\" class=\"data row4 col0\" >0</td>\n",
              "      <td id=\"T_4f902_row4_col1\" class=\"data row4 col1\" >107</td>\n",
              "      <td id=\"T_4f902_row4_col2\" class=\"data row4 col2\" >253</td>\n",
              "      <td id=\"T_4f902_row4_col3\" class=\"data row4 col3\" >253</td>\n",
              "      <td id=\"T_4f902_row4_col4\" class=\"data row4 col4\" >230</td>\n",
              "      <td id=\"T_4f902_row4_col5\" class=\"data row4 col5\" >48</td>\n",
              "      <td id=\"T_4f902_row4_col6\" class=\"data row4 col6\" >0</td>\n",
              "      <td id=\"T_4f902_row4_col7\" class=\"data row4 col7\" >0</td>\n",
              "      <td id=\"T_4f902_row4_col8\" class=\"data row4 col8\" >0</td>\n",
              "      <td id=\"T_4f902_row4_col9\" class=\"data row4 col9\" >0</td>\n",
              "      <td id=\"T_4f902_row4_col10\" class=\"data row4 col10\" >0</td>\n",
              "      <td id=\"T_4f902_row4_col11\" class=\"data row4 col11\" >192</td>\n",
              "      <td id=\"T_4f902_row4_col12\" class=\"data row4 col12\" >253</td>\n",
              "      <td id=\"T_4f902_row4_col13\" class=\"data row4 col13\" >253</td>\n",
              "      <td id=\"T_4f902_row4_col14\" class=\"data row4 col14\" >156</td>\n",
              "      <td id=\"T_4f902_row4_col15\" class=\"data row4 col15\" >0</td>\n",
              "      <td id=\"T_4f902_row4_col16\" class=\"data row4 col16\" >0</td>\n",
              "      <td id=\"T_4f902_row4_col17\" class=\"data row4 col17\" >0</td>\n",
              "    </tr>\n",
              "    <tr>\n",
              "      <th id=\"T_4f902_level0_row5\" class=\"row_heading level0 row5\" >5</th>\n",
              "      <td id=\"T_4f902_row5_col0\" class=\"data row5 col0\" >0</td>\n",
              "      <td id=\"T_4f902_row5_col1\" class=\"data row5 col1\" >3</td>\n",
              "      <td id=\"T_4f902_row5_col2\" class=\"data row5 col2\" >20</td>\n",
              "      <td id=\"T_4f902_row5_col3\" class=\"data row5 col3\" >20</td>\n",
              "      <td id=\"T_4f902_row5_col4\" class=\"data row5 col4\" >15</td>\n",
              "      <td id=\"T_4f902_row5_col5\" class=\"data row5 col5\" >0</td>\n",
              "      <td id=\"T_4f902_row5_col6\" class=\"data row5 col6\" >0</td>\n",
              "      <td id=\"T_4f902_row5_col7\" class=\"data row5 col7\" >0</td>\n",
              "      <td id=\"T_4f902_row5_col8\" class=\"data row5 col8\" >0</td>\n",
              "      <td id=\"T_4f902_row5_col9\" class=\"data row5 col9\" >0</td>\n",
              "      <td id=\"T_4f902_row5_col10\" class=\"data row5 col10\" >43</td>\n",
              "      <td id=\"T_4f902_row5_col11\" class=\"data row5 col11\" >224</td>\n",
              "      <td id=\"T_4f902_row5_col12\" class=\"data row5 col12\" >253</td>\n",
              "      <td id=\"T_4f902_row5_col13\" class=\"data row5 col13\" >245</td>\n",
              "      <td id=\"T_4f902_row5_col14\" class=\"data row5 col14\" >74</td>\n",
              "      <td id=\"T_4f902_row5_col15\" class=\"data row5 col15\" >0</td>\n",
              "      <td id=\"T_4f902_row5_col16\" class=\"data row5 col16\" >0</td>\n",
              "      <td id=\"T_4f902_row5_col17\" class=\"data row5 col17\" >0</td>\n",
              "    </tr>\n",
              "    <tr>\n",
              "      <th id=\"T_4f902_level0_row6\" class=\"row_heading level0 row6\" >6</th>\n",
              "      <td id=\"T_4f902_row6_col0\" class=\"data row6 col0\" >0</td>\n",
              "      <td id=\"T_4f902_row6_col1\" class=\"data row6 col1\" >0</td>\n",
              "      <td id=\"T_4f902_row6_col2\" class=\"data row6 col2\" >0</td>\n",
              "      <td id=\"T_4f902_row6_col3\" class=\"data row6 col3\" >0</td>\n",
              "      <td id=\"T_4f902_row6_col4\" class=\"data row6 col4\" >0</td>\n",
              "      <td id=\"T_4f902_row6_col5\" class=\"data row6 col5\" >0</td>\n",
              "      <td id=\"T_4f902_row6_col6\" class=\"data row6 col6\" >0</td>\n",
              "      <td id=\"T_4f902_row6_col7\" class=\"data row6 col7\" >0</td>\n",
              "      <td id=\"T_4f902_row6_col8\" class=\"data row6 col8\" >0</td>\n",
              "      <td id=\"T_4f902_row6_col9\" class=\"data row6 col9\" >0</td>\n",
              "      <td id=\"T_4f902_row6_col10\" class=\"data row6 col10\" >249</td>\n",
              "      <td id=\"T_4f902_row6_col11\" class=\"data row6 col11\" >253</td>\n",
              "      <td id=\"T_4f902_row6_col12\" class=\"data row6 col12\" >245</td>\n",
              "      <td id=\"T_4f902_row6_col13\" class=\"data row6 col13\" >126</td>\n",
              "      <td id=\"T_4f902_row6_col14\" class=\"data row6 col14\" >0</td>\n",
              "      <td id=\"T_4f902_row6_col15\" class=\"data row6 col15\" >0</td>\n",
              "      <td id=\"T_4f902_row6_col16\" class=\"data row6 col16\" >0</td>\n",
              "      <td id=\"T_4f902_row6_col17\" class=\"data row6 col17\" >0</td>\n",
              "    </tr>\n",
              "    <tr>\n",
              "      <th id=\"T_4f902_level0_row7\" class=\"row_heading level0 row7\" >7</th>\n",
              "      <td id=\"T_4f902_row7_col0\" class=\"data row7 col0\" >0</td>\n",
              "      <td id=\"T_4f902_row7_col1\" class=\"data row7 col1\" >0</td>\n",
              "      <td id=\"T_4f902_row7_col2\" class=\"data row7 col2\" >0</td>\n",
              "      <td id=\"T_4f902_row7_col3\" class=\"data row7 col3\" >0</td>\n",
              "      <td id=\"T_4f902_row7_col4\" class=\"data row7 col4\" >0</td>\n",
              "      <td id=\"T_4f902_row7_col5\" class=\"data row7 col5\" >0</td>\n",
              "      <td id=\"T_4f902_row7_col6\" class=\"data row7 col6\" >0</td>\n",
              "      <td id=\"T_4f902_row7_col7\" class=\"data row7 col7\" >14</td>\n",
              "      <td id=\"T_4f902_row7_col8\" class=\"data row7 col8\" >101</td>\n",
              "      <td id=\"T_4f902_row7_col9\" class=\"data row7 col9\" >223</td>\n",
              "      <td id=\"T_4f902_row7_col10\" class=\"data row7 col10\" >253</td>\n",
              "      <td id=\"T_4f902_row7_col11\" class=\"data row7 col11\" >248</td>\n",
              "      <td id=\"T_4f902_row7_col12\" class=\"data row7 col12\" >124</td>\n",
              "      <td id=\"T_4f902_row7_col13\" class=\"data row7 col13\" >0</td>\n",
              "      <td id=\"T_4f902_row7_col14\" class=\"data row7 col14\" >0</td>\n",
              "      <td id=\"T_4f902_row7_col15\" class=\"data row7 col15\" >0</td>\n",
              "      <td id=\"T_4f902_row7_col16\" class=\"data row7 col16\" >0</td>\n",
              "      <td id=\"T_4f902_row7_col17\" class=\"data row7 col17\" >0</td>\n",
              "    </tr>\n",
              "    <tr>\n",
              "      <th id=\"T_4f902_level0_row8\" class=\"row_heading level0 row8\" >8</th>\n",
              "      <td id=\"T_4f902_row8_col0\" class=\"data row8 col0\" >0</td>\n",
              "      <td id=\"T_4f902_row8_col1\" class=\"data row8 col1\" >0</td>\n",
              "      <td id=\"T_4f902_row8_col2\" class=\"data row8 col2\" >0</td>\n",
              "      <td id=\"T_4f902_row8_col3\" class=\"data row8 col3\" >0</td>\n",
              "      <td id=\"T_4f902_row8_col4\" class=\"data row8 col4\" >0</td>\n",
              "      <td id=\"T_4f902_row8_col5\" class=\"data row8 col5\" >11</td>\n",
              "      <td id=\"T_4f902_row8_col6\" class=\"data row8 col6\" >166</td>\n",
              "      <td id=\"T_4f902_row8_col7\" class=\"data row8 col7\" >239</td>\n",
              "      <td id=\"T_4f902_row8_col8\" class=\"data row8 col8\" >253</td>\n",
              "      <td id=\"T_4f902_row8_col9\" class=\"data row8 col9\" >253</td>\n",
              "      <td id=\"T_4f902_row8_col10\" class=\"data row8 col10\" >253</td>\n",
              "      <td id=\"T_4f902_row8_col11\" class=\"data row8 col11\" >187</td>\n",
              "      <td id=\"T_4f902_row8_col12\" class=\"data row8 col12\" >30</td>\n",
              "      <td id=\"T_4f902_row8_col13\" class=\"data row8 col13\" >0</td>\n",
              "      <td id=\"T_4f902_row8_col14\" class=\"data row8 col14\" >0</td>\n",
              "      <td id=\"T_4f902_row8_col15\" class=\"data row8 col15\" >0</td>\n",
              "      <td id=\"T_4f902_row8_col16\" class=\"data row8 col16\" >0</td>\n",
              "      <td id=\"T_4f902_row8_col17\" class=\"data row8 col17\" >0</td>\n",
              "    </tr>\n",
              "    <tr>\n",
              "      <th id=\"T_4f902_level0_row9\" class=\"row_heading level0 row9\" >9</th>\n",
              "      <td id=\"T_4f902_row9_col0\" class=\"data row9 col0\" >0</td>\n",
              "      <td id=\"T_4f902_row9_col1\" class=\"data row9 col1\" >0</td>\n",
              "      <td id=\"T_4f902_row9_col2\" class=\"data row9 col2\" >0</td>\n",
              "      <td id=\"T_4f902_row9_col3\" class=\"data row9 col3\" >0</td>\n",
              "      <td id=\"T_4f902_row9_col4\" class=\"data row9 col4\" >0</td>\n",
              "      <td id=\"T_4f902_row9_col5\" class=\"data row9 col5\" >16</td>\n",
              "      <td id=\"T_4f902_row9_col6\" class=\"data row9 col6\" >248</td>\n",
              "      <td id=\"T_4f902_row9_col7\" class=\"data row9 col7\" >250</td>\n",
              "      <td id=\"T_4f902_row9_col8\" class=\"data row9 col8\" >253</td>\n",
              "      <td id=\"T_4f902_row9_col9\" class=\"data row9 col9\" >253</td>\n",
              "      <td id=\"T_4f902_row9_col10\" class=\"data row9 col10\" >253</td>\n",
              "      <td id=\"T_4f902_row9_col11\" class=\"data row9 col11\" >253</td>\n",
              "      <td id=\"T_4f902_row9_col12\" class=\"data row9 col12\" >232</td>\n",
              "      <td id=\"T_4f902_row9_col13\" class=\"data row9 col13\" >213</td>\n",
              "      <td id=\"T_4f902_row9_col14\" class=\"data row9 col14\" >111</td>\n",
              "      <td id=\"T_4f902_row9_col15\" class=\"data row9 col15\" >2</td>\n",
              "      <td id=\"T_4f902_row9_col16\" class=\"data row9 col16\" >0</td>\n",
              "      <td id=\"T_4f902_row9_col17\" class=\"data row9 col17\" >0</td>\n",
              "    </tr>\n",
              "    <tr>\n",
              "      <th id=\"T_4f902_level0_row10\" class=\"row_heading level0 row10\" >10</th>\n",
              "      <td id=\"T_4f902_row10_col0\" class=\"data row10 col0\" >0</td>\n",
              "      <td id=\"T_4f902_row10_col1\" class=\"data row10 col1\" >0</td>\n",
              "      <td id=\"T_4f902_row10_col2\" class=\"data row10 col2\" >0</td>\n",
              "      <td id=\"T_4f902_row10_col3\" class=\"data row10 col3\" >0</td>\n",
              "      <td id=\"T_4f902_row10_col4\" class=\"data row10 col4\" >0</td>\n",
              "      <td id=\"T_4f902_row10_col5\" class=\"data row10 col5\" >0</td>\n",
              "      <td id=\"T_4f902_row10_col6\" class=\"data row10 col6\" >0</td>\n",
              "      <td id=\"T_4f902_row10_col7\" class=\"data row10 col7\" >43</td>\n",
              "      <td id=\"T_4f902_row10_col8\" class=\"data row10 col8\" >98</td>\n",
              "      <td id=\"T_4f902_row10_col9\" class=\"data row10 col9\" >98</td>\n",
              "      <td id=\"T_4f902_row10_col10\" class=\"data row10 col10\" >208</td>\n",
              "      <td id=\"T_4f902_row10_col11\" class=\"data row10 col11\" >253</td>\n",
              "      <td id=\"T_4f902_row10_col12\" class=\"data row10 col12\" >253</td>\n",
              "      <td id=\"T_4f902_row10_col13\" class=\"data row10 col13\" >253</td>\n",
              "      <td id=\"T_4f902_row10_col14\" class=\"data row10 col14\" >253</td>\n",
              "      <td id=\"T_4f902_row10_col15\" class=\"data row10 col15\" >187</td>\n",
              "      <td id=\"T_4f902_row10_col16\" class=\"data row10 col16\" >22</td>\n",
              "      <td id=\"T_4f902_row10_col17\" class=\"data row10 col17\" >0</td>\n",
              "    </tr>\n",
              "  </tbody>\n",
              "</table>\n"
            ],
            "text/plain": [
              "<pandas.io.formats.style.Styler at 0x7f73cd30cad0>"
            ]
          },
          "metadata": {},
          "execution_count": 14
        }
      ],
      "source": [
        "im3_t = tensor(im3)\n",
        "df = pd.DataFrame(im3_t[4:15,4:22])\n",
        "df.style.set_properties(**{'font-size':'6pt'}).background_gradient('Greys')"
      ]
    },
    {
      "cell_type": "markdown",
      "metadata": {
        "id": "LXYAbCNJ2g2p"
      },
      "source": [
        "## First Try: Pixel Similarity"
      ]
    },
    {
      "cell_type": "code",
      "execution_count": 15,
      "metadata": {
        "colab": {
          "base_uri": "https://localhost:8080/"
        },
        "id": "ut6quOxZ2g2q",
        "outputId": "5c1e026c-0a6b-4b82-e1da-fe545bd6b749"
      },
      "outputs": [
        {
          "output_type": "execute_result",
          "data": {
            "text/plain": [
              "(6131, 6265)"
            ]
          },
          "metadata": {},
          "execution_count": 15
        }
      ],
      "source": [
        "seven_tensors = [tensor(Image.open(o)) for o in sevens]\n",
        "three_tensors = [tensor(Image.open(o)) for o in threes]\n",
        "len(three_tensors),len(seven_tensors)"
      ]
    },
    {
      "cell_type": "code",
      "execution_count": 16,
      "metadata": {
        "colab": {
          "base_uri": "https://localhost:8080/",
          "height": 85
        },
        "id": "Boplfik-2g2r",
        "outputId": "72149801-48ef-4d5f-b1a0-04ce98c41590"
      },
      "outputs": [
        {
          "output_type": "display_data",
          "data": {
            "image/png": "[encoded data removed]",
            "text/plain": [
              "<Figure size 72x72 with 1 Axes>"
            ]
          },
          "metadata": {
            "needs_background": "light"
          }
        }
      ],
      "source": [
        "show_image(three_tensors[1]);"
      ]
    },
    {
      "cell_type": "code",
      "source": [
        "three_tensors[1].shape"
      ],
      "metadata": {
        "colab": {
          "base_uri": "https://localhost:8080/"
        },
        "id": "fWLUq5IyB1JZ",
        "outputId": "60537e14-0caa-4ac7-8021-0aa04c5a7934"
      },
      "execution_count": 17,
      "outputs": [
        {
          "output_type": "execute_result",
          "data": {
            "text/plain": [
              "torch.Size([28, 28])"
            ]
          },
          "metadata": {},
          "execution_count": 17
        }
      ]
    },
    {
      "cell_type": "code",
      "source": [
        "type(three_tensors)"
      ],
      "metadata": {
        "colab": {
          "base_uri": "https://localhost:8080/"
        },
        "id": "TQW8zdu1B4_S",
        "outputId": "b8e711ce-2f3b-4d2d-aeb4-b7eaf6536253"
      },
      "execution_count": 18,
      "outputs": [
        {
          "output_type": "execute_result",
          "data": {
            "text/plain": [
              "list"
            ]
          },
          "metadata": {},
          "execution_count": 18
        }
      ]
    },
    {
      "cell_type": "code",
      "execution_count": 19,
      "metadata": {
        "colab": {
          "base_uri": "https://localhost:8080/"
        },
        "id": "cjvbFEnM2g2r",
        "outputId": "fe25983f-fff3-4981-9ba5-328a9c755020"
      },
      "outputs": [
        {
          "output_type": "execute_result",
          "data": {
            "text/plain": [
              "torch.Size([6131, 28, 28])"
            ]
          },
          "metadata": {},
          "execution_count": 19
        }
      ],
      "source": [
        "stacked_sevens = torch.stack(seven_tensors).float()/255\n",
        "stacked_threes = torch.stack(three_tensors).float()/255\n",
        "stacked_threes.shape"
      ]
    },
    {
      "cell_type": "code",
      "execution_count": 20,
      "metadata": {
        "colab": {
          "base_uri": "https://localhost:8080/"
        },
        "id": "g4g95Y3c2g2s",
        "outputId": "6979e3db-37f7-4b00-d43d-ed8d391c2a82"
      },
      "outputs": [
        {
          "output_type": "execute_result",
          "data": {
            "text/plain": [
              "3"
            ]
          },
          "metadata": {},
          "execution_count": 20
        }
      ],
      "source": [
        "len(stacked_threes.shape)"
      ]
    },
    {
      "cell_type": "code",
      "execution_count": 21,
      "metadata": {
        "colab": {
          "base_uri": "https://localhost:8080/"
        },
        "id": "Xzm1b6e-2g2s",
        "outputId": "fda702b9-91d1-497b-e16e-26e9bb673ab5"
      },
      "outputs": [
        {
          "output_type": "execute_result",
          "data": {
            "text/plain": [
              "3"
            ]
          },
          "metadata": {},
          "execution_count": 21
        }
      ],
      "source": [
        "stacked_threes.ndim"
      ]
    },
    {
      "cell_type": "code",
      "execution_count": 22,
      "metadata": {
        "colab": {
          "base_uri": "https://localhost:8080/",
          "height": 85
        },
        "id": "ZnVyiwky2g2t",
        "outputId": "cd92e326-fea1-4918-ac4a-d04d45546923"
      },
      "outputs": [
        {
          "output_type": "display_data",
          "data": {
            "image/png": "[encoded data removed]",
            "text/plain": [
              "<Figure size 72x72 with 1 Axes>"
            ]
          },
          "metadata": {
            "needs_background": "light"
          }
        }
      ],
      "source": [
        "mean3 = stacked_threes.mean(0)\n",
        "show_image(mean3);"
      ]
    },
    {
      "cell_type": "code",
      "execution_count": 23,
      "metadata": {
        "colab": {
          "base_uri": "https://localhost:8080/",
          "height": 85
        },
        "id": "ycPa9pH12g2t",
        "outputId": "3698e0dd-db82-4b30-d50a-c41e20510c58"
      },
      "outputs": [
        {
          "output_type": "display_data",
          "data": {
            "image/png": "[encoded data removed]",
            "text/plain": [
              "<Figure size 72x72 with 1 Axes>"
            ]
          },
          "metadata": {
            "needs_background": "light"
          }
        }
      ],
      "source": [
        "mean7 = stacked_sevens.mean(0)\n",
        "show_image(mean7);"
      ]
    },
    {
      "cell_type": "code",
      "execution_count": 24,
      "metadata": {
        "colab": {
          "base_uri": "https://localhost:8080/",
          "height": 85
        },
        "id": "MeZCr8iI2g2u",
        "outputId": "4d12ae67-b225-4fc8-eadb-0d15f7facb11"
      },
      "outputs": [
        {
          "output_type": "display_data",
          "data": {
            "image/png": "[encoded data removed]",
            "text/plain": [
              "<Figure size 72x72 with 1 Axes>"
            ]
          },
          "metadata": {
            "needs_background": "light"
          }
        }
      ],
      "source": [
        "a_3 = stacked_threes[1]\n",
        "show_image(a_3);"
      ]
    },
    {
      "cell_type": "code",
      "execution_count": 25,
      "metadata": {
        "colab": {
          "base_uri": "https://localhost:8080/"
        },
        "id": "KKdTzBF72g2v",
        "outputId": "8d5b04ed-4a28-4058-8c7a-a1666e051a85"
      },
      "outputs": [
        {
          "output_type": "execute_result",
          "data": {
            "text/plain": [
              "(tensor(0.1114), tensor(0.2021))"
            ]
          },
          "metadata": {},
          "execution_count": 25
        }
      ],
      "source": [
        "dist_3_abs = (a_3 - mean3).abs().mean()\n",
        "dist_3_sqr = ((a_3 - mean3)**2).mean().sqrt()\n",
        "dist_3_abs,dist_3_sqr"
      ]
    },
    {
      "cell_type": "code",
      "execution_count": 26,
      "metadata": {
        "colab": {
          "base_uri": "https://localhost:8080/"
        },
        "id": "dfPqCT3l2g2v",
        "outputId": "e2782737-e4f9-4a2e-cc27-9558418489ca"
      },
      "outputs": [
        {
          "output_type": "execute_result",
          "data": {
            "text/plain": [
              "(tensor(0.1586), tensor(0.3021))"
            ]
          },
          "metadata": {},
          "execution_count": 26
        }
      ],
      "source": [
        "dist_7_abs = (a_3 - mean7).abs().mean()\n",
        "dist_7_sqr = ((a_3 - mean7)**2).mean().sqrt()\n",
        "dist_7_abs,dist_7_sqr"
      ]
    },
    {
      "cell_type": "code",
      "execution_count": 27,
      "metadata": {
        "colab": {
          "base_uri": "https://localhost:8080/"
        },
        "id": "4kZUc1Ze2g2v",
        "outputId": "d9376951-2541-4985-89e1-5cc9924ec3e1"
      },
      "outputs": [
        {
          "output_type": "execute_result",
          "data": {
            "text/plain": [
              "(tensor(0.1586), tensor(0.3021))"
            ]
          },
          "metadata": {},
          "execution_count": 27
        }
      ],
      "source": [
        "F.l1_loss(a_3.float(),mean7), F.mse_loss(a_3,mean7).sqrt()"
      ]
    },
    {
      "cell_type": "markdown",
      "metadata": {
        "id": "TkVjSrrj2g2w"
      },
      "source": [
        "### NumPy Arrays and PyTorch Tensors"
      ]
    },
    {
      "cell_type": "code",
      "execution_count": 28,
      "metadata": {
        "id": "Dd_gTnNT2g2w"
      },
      "outputs": [],
      "source": [
        "data = [[1,2,3],[4,5,6]]\n",
        "arr = array (data)\n",
        "tns = tensor(data)"
      ]
    },
    {
      "cell_type": "code",
      "execution_count": 29,
      "metadata": {
        "colab": {
          "base_uri": "https://localhost:8080/"
        },
        "id": "55Zipgml2g2w",
        "outputId": "6ed20d0d-cc1d-4bcd-e9a0-d707cc53150f"
      },
      "outputs": [
        {
          "output_type": "execute_result",
          "data": {
            "text/plain": [
              "array([[1, 2, 3],\n",
              "       [4, 5, 6]])"
            ]
          },
          "metadata": {},
          "execution_count": 29
        }
      ],
      "source": [
        "arr  # numpy"
      ]
    },
    {
      "cell_type": "code",
      "execution_count": 30,
      "metadata": {
        "colab": {
          "base_uri": "https://localhost:8080/"
        },
        "id": "Q-912boH2g2w",
        "outputId": "5c3506f1-8b07-44c4-ca21-c917b5952804"
      },
      "outputs": [
        {
          "output_type": "execute_result",
          "data": {
            "text/plain": [
              "tensor([[1, 2, 3],\n",
              "        [4, 5, 6]])"
            ]
          },
          "metadata": {},
          "execution_count": 30
        }
      ],
      "source": [
        "tns  # pytorch"
      ]
    },
    {
      "cell_type": "code",
      "execution_count": 31,
      "metadata": {
        "colab": {
          "base_uri": "https://localhost:8080/"
        },
        "id": "E-MRVBfr2g2x",
        "outputId": "bbead6cc-3bd3-435e-99f8-3a56904a9e13"
      },
      "outputs": [
        {
          "output_type": "execute_result",
          "data": {
            "text/plain": [
              "tensor([4, 5, 6])"
            ]
          },
          "metadata": {},
          "execution_count": 31
        }
      ],
      "source": [
        "tns[1]"
      ]
    },
    {
      "cell_type": "code",
      "source": [
        "# don't need colons at end indices but good to be explicit\n",
        "tns[1,:]"
      ],
      "metadata": {
        "colab": {
          "base_uri": "https://localhost:8080/"
        },
        "id": "8LU5r85OH1CL",
        "outputId": "cc15d83f-d415-4563-efe0-77b1698aadaa"
      },
      "execution_count": 32,
      "outputs": [
        {
          "output_type": "execute_result",
          "data": {
            "text/plain": [
              "tensor([4, 5, 6])"
            ]
          },
          "metadata": {},
          "execution_count": 32
        }
      ]
    },
    {
      "cell_type": "code",
      "execution_count": 33,
      "metadata": {
        "colab": {
          "base_uri": "https://localhost:8080/"
        },
        "id": "RYVhdx1P2g2x",
        "outputId": "e48f39b7-2dc2-4e97-c458-7522c3b2c3fc"
      },
      "outputs": [
        {
          "output_type": "execute_result",
          "data": {
            "text/plain": [
              "tensor([2, 5])"
            ]
          },
          "metadata": {},
          "execution_count": 33
        }
      ],
      "source": [
        "tns[:,1]"
      ]
    },
    {
      "cell_type": "code",
      "execution_count": 34,
      "metadata": {
        "colab": {
          "base_uri": "https://localhost:8080/"
        },
        "id": "un9MlWNm2g2x",
        "outputId": "876430e1-8287-4d65-94e9-fc18d00477eb"
      },
      "outputs": [
        {
          "output_type": "execute_result",
          "data": {
            "text/plain": [
              "tensor([5, 6])"
            ]
          },
          "metadata": {},
          "execution_count": 34
        }
      ],
      "source": [
        "tns[1,1:3]"
      ]
    },
    {
      "cell_type": "code",
      "execution_count": 35,
      "metadata": {
        "colab": {
          "base_uri": "https://localhost:8080/"
        },
        "id": "jz2xFM9R2g2x",
        "outputId": "4b275cc9-11aa-463b-e1d2-776aa8a8ca1e"
      },
      "outputs": [
        {
          "output_type": "execute_result",
          "data": {
            "text/plain": [
              "tensor([[2, 3, 4],\n",
              "        [5, 6, 7]])"
            ]
          },
          "metadata": {},
          "execution_count": 35
        }
      ],
      "source": [
        "tns+1"
      ]
    },
    {
      "cell_type": "code",
      "execution_count": 36,
      "metadata": {
        "colab": {
          "base_uri": "https://localhost:8080/",
          "height": 35
        },
        "id": "wZYuQXgs2g2y",
        "outputId": "7385348e-457b-43a9-ef6e-d739a172b8a9"
      },
      "outputs": [
        {
          "output_type": "execute_result",
          "data": {
            "application/vnd.google.colaboratory.intrinsic+json": {
              "type": "string"
            },
            "text/plain": [
              "'torch.LongTensor'"
            ]
          },
          "metadata": {},
          "execution_count": 36
        }
      ],
      "source": [
        "tns.type()"
      ]
    },
    {
      "cell_type": "code",
      "execution_count": 37,
      "metadata": {
        "colab": {
          "base_uri": "https://localhost:8080/"
        },
        "id": "bh5exYJO2g2y",
        "outputId": "8ef2764f-1d80-4b09-d992-9d21a17a06c6"
      },
      "outputs": [
        {
          "output_type": "execute_result",
          "data": {
            "text/plain": [
              "tensor([[1.5000, 3.0000, 4.5000],\n",
              "        [6.0000, 7.5000, 9.0000]])"
            ]
          },
          "metadata": {},
          "execution_count": 37
        }
      ],
      "source": [
        "tns*1.5"
      ]
    },
    {
      "cell_type": "markdown",
      "metadata": {
        "id": "PQWcBdJc2g2y"
      },
      "source": [
        "## Computing Metrics Using Broadcasting"
      ]
    },
    {
      "cell_type": "code",
      "execution_count": 38,
      "metadata": {
        "colab": {
          "base_uri": "https://localhost:8080/"
        },
        "id": "5zpdBk-A2g2y",
        "outputId": "d815b579-70a8-4594-c413-195fbb580de6"
      },
      "outputs": [
        {
          "output_type": "execute_result",
          "data": {
            "text/plain": [
              "(torch.Size([1010, 28, 28]), torch.Size([1028, 28, 28]))"
            ]
          },
          "metadata": {},
          "execution_count": 38
        }
      ],
      "source": [
        "valid_3_tens = torch.stack([tensor(Image.open(o)) \n",
        "                            for o in (path/'valid'/'3').ls()])\n",
        "valid_3_tens = valid_3_tens.float()/255\n",
        "valid_7_tens = torch.stack([tensor(Image.open(o)) \n",
        "                            for o in (path/'valid'/'7').ls()])\n",
        "valid_7_tens = valid_7_tens.float()/255\n",
        "valid_3_tens.shape,valid_7_tens.shape"
      ]
    },
    {
      "cell_type": "code",
      "execution_count": 39,
      "metadata": {
        "colab": {
          "base_uri": "https://localhost:8080/"
        },
        "id": "4mS3LqQa2g2z",
        "outputId": "dae9310f-3ca9-4714-de42-a5881acb3cb4"
      },
      "outputs": [
        {
          "output_type": "execute_result",
          "data": {
            "text/plain": [
              "tensor(0.1114)"
            ]
          },
          "metadata": {},
          "execution_count": 39
        }
      ],
      "source": [
        "def mnist_distance(a,b): return (a-b).abs().mean((-1,-2))\n",
        "mnist_distance(a_3, mean3)"
      ]
    },
    {
      "cell_type": "code",
      "execution_count": 40,
      "metadata": {
        "colab": {
          "base_uri": "https://localhost:8080/"
        },
        "id": "yR8IM49F2g2z",
        "outputId": "cd8ca7a0-9605-4df6-f057-79de5d5cc4ca"
      },
      "outputs": [
        {
          "output_type": "execute_result",
          "data": {
            "text/plain": [
              "(tensor([0.1170, 0.1240, 0.1133,  ..., 0.1325, 0.1252, 0.1162]),\n",
              " torch.Size([1010]))"
            ]
          },
          "metadata": {},
          "execution_count": 40
        }
      ],
      "source": [
        "valid_3_dist = mnist_distance(valid_3_tens, mean3)\n",
        "valid_3_dist, valid_3_dist.shape"
      ]
    },
    {
      "cell_type": "code",
      "execution_count": 41,
      "metadata": {
        "colab": {
          "base_uri": "https://localhost:8080/"
        },
        "id": "LgHOs-Fu2g2z",
        "outputId": "52addcbf-1aa7-4900-edfe-fea6315570fe"
      },
      "outputs": [
        {
          "output_type": "execute_result",
          "data": {
            "text/plain": [
              "tensor([2, 3, 4])"
            ]
          },
          "metadata": {},
          "execution_count": 41
        }
      ],
      "source": [
        "tensor([1,2,3]) + tensor([1,1,1])"
      ]
    },
    {
      "cell_type": "code",
      "execution_count": 42,
      "metadata": {
        "colab": {
          "base_uri": "https://localhost:8080/"
        },
        "id": "WxuQs7T12g2z",
        "outputId": "5d3616bd-029b-47a0-eeb9-2960be33772e"
      },
      "outputs": [
        {
          "output_type": "execute_result",
          "data": {
            "text/plain": [
              "torch.Size([1010, 28, 28])"
            ]
          },
          "metadata": {},
          "execution_count": 42
        }
      ],
      "source": [
        "(valid_3_tens-mean3).shape"
      ]
    },
    {
      "cell_type": "code",
      "execution_count": 43,
      "metadata": {
        "id": "zeO5ymvk2g2z"
      },
      "outputs": [],
      "source": [
        "def is_3(x): return mnist_distance(x,mean3) < mnist_distance(x,mean7)"
      ]
    },
    {
      "cell_type": "code",
      "execution_count": 44,
      "metadata": {
        "colab": {
          "base_uri": "https://localhost:8080/"
        },
        "id": "RjkaJbQ12g2z",
        "outputId": "4037f61f-4ef2-40ef-952a-a66c973c4d3f"
      },
      "outputs": [
        {
          "output_type": "execute_result",
          "data": {
            "text/plain": [
              "(tensor(True), tensor(1.))"
            ]
          },
          "metadata": {},
          "execution_count": 44
        }
      ],
      "source": [
        "is_3(a_3), is_3(a_3).float()"
      ]
    },
    {
      "cell_type": "code",
      "execution_count": 45,
      "metadata": {
        "colab": {
          "base_uri": "https://localhost:8080/"
        },
        "id": "iwbO4Vl52g20",
        "outputId": "9fa0b6f1-2015-4057-eb8b-cf597a733472"
      },
      "outputs": [
        {
          "output_type": "execute_result",
          "data": {
            "text/plain": [
              "tensor([True, True, True,  ..., True, True, True])"
            ]
          },
          "metadata": {},
          "execution_count": 45
        }
      ],
      "source": [
        "is_3(valid_3_tens)"
      ]
    },
    {
      "cell_type": "code",
      "execution_count": 46,
      "metadata": {
        "colab": {
          "base_uri": "https://localhost:8080/"
        },
        "id": "f8nlsfzn2g20",
        "outputId": "f69f90d3-a35e-4bb2-f2dd-1cbc75fc21c4"
      },
      "outputs": [
        {
          "output_type": "execute_result",
          "data": {
            "text/plain": [
              "(tensor(0.9168), tensor(0.9854), tensor(0.9511))"
            ]
          },
          "metadata": {},
          "execution_count": 46
        }
      ],
      "source": [
        "accuracy_3s =      is_3(valid_3_tens).float() .mean()\n",
        "accuracy_7s = (1 - is_3(valid_7_tens).float()).mean()\n",
        "\n",
        "accuracy_3s,accuracy_7s,(accuracy_3s+accuracy_7s)/2"
      ]
    },
    {
      "cell_type": "markdown",
      "metadata": {
        "id": "DxCDvwf12g20"
      },
      "source": [
        "## Stochastic Gradient Descent (SGD)"
      ]
    },
    {
      "cell_type": "code",
      "execution_count": 47,
      "metadata": {
        "colab": {
          "base_uri": "https://localhost:8080/",
          "height": 125
        },
        "id": "T6yZuTSV2g20",
        "outputId": "02930ffe-c10f-4018-8531-26d787c29b5c"
      },
      "outputs": [
        {
          "output_type": "execute_result",
          "data": {
            "text/plain": [
              "<graphviz.files.Source at 0x7f73ccb7c4d0>"
            ],
            "image/svg+xml": "<?xml version=\"1.0\" encoding=\"UTF-8\" standalone=\"no\"?>\n<!DOCTYPE svg PUBLIC \"-//W3C//DTD SVG 1.1//EN\"\n \"http://www.w3.org/Graphics/SVG/1.1/DTD/svg11.dtd\">\n<!-- Generated by graphviz version 2.40.1 (20161225.0304)\n -->\n<!-- Title: G Pages: 1 -->\n<svg width=\"597pt\" height=\"78pt\"\n viewBox=\"0.00 0.00 596.69 78.00\" xmlns=\"http://www.w3.org/2000/svg\" xmlns:xlink=\"http://www.w3.org/1999/xlink\">\n<g id=\"graph0\" class=\"graph\" transform=\"scale(1 1) rotate(0) translate(4 74)\">\n<title>G</title>\n<polygon fill=\"#ffffff\" stroke=\"transparent\" points=\"-4,4 -4,-74 592.6863,-74 592.6863,4 -4,4\"/>\n<!-- init -->\n<g id=\"node1\" class=\"node\">\n<title>init</title>\n<ellipse fill=\"none\" stroke=\"#000000\" cx=\"27\" cy=\"-18\" rx=\"27\" ry=\"18\"/>\n<text text-anchor=\"middle\" x=\"27\" y=\"-14.3\" font-family=\"Times,serif\" font-size=\"14.00\" fill=\"#000000\">init</text>\n</g>\n<!-- predict -->\n<g id=\"node2\" class=\"node\">\n<title>predict</title>\n<ellipse fill=\"none\" stroke=\"#000000\" cx=\"127.3968\" cy=\"-18\" rx=\"36.2938\" ry=\"18\"/>\n<text text-anchor=\"middle\" x=\"127.3968\" y=\"-14.3\" font-family=\"Times,serif\" font-size=\"14.00\" fill=\"#000000\">predict</text>\n</g>\n<!-- init&#45;&gt;predict -->\n<g id=\"edge1\" class=\"edge\">\n<title>init&#45;&gt;predict</title>\n<path fill=\"none\" stroke=\"#000000\" d=\"M54.1688,-18C62.3543,-18 71.5827,-18 80.6596,-18\"/>\n<polygon fill=\"#000000\" stroke=\"#000000\" points=\"80.7795,-21.5001 90.7795,-18 80.7795,-14.5001 80.7795,-21.5001\"/>\n</g>\n<!-- loss -->\n<g id=\"node3\" class=\"node\">\n<title>loss</title>\n<ellipse fill=\"none\" stroke=\"#000000\" cx=\"227.7935\" cy=\"-52\" rx=\"27\" ry=\"18\"/>\n<text text-anchor=\"middle\" x=\"227.7935\" y=\"-48.3\" font-family=\"Times,serif\" font-size=\"14.00\" fill=\"#000000\">loss</text>\n</g>\n<!-- predict&#45;&gt;loss -->\n<g id=\"edge2\" class=\"edge\">\n<title>predict&#45;&gt;loss</title>\n<path fill=\"none\" stroke=\"#000000\" d=\"M157.5191,-28.2011C168.9806,-32.0826 182.1139,-36.5303 193.9014,-40.5222\"/>\n<polygon fill=\"#000000\" stroke=\"#000000\" points=\"192.8259,-43.8532 203.4202,-43.7458 195.0713,-37.2231 192.8259,-43.8532\"/>\n</g>\n<!-- gradient -->\n<g id=\"node4\" class=\"node\">\n<title>gradient</title>\n<ellipse fill=\"none\" stroke=\"#000000\" cx=\"365.7399\" cy=\"-52\" rx=\"40.8928\" ry=\"18\"/>\n<text text-anchor=\"middle\" x=\"365.7399\" y=\"-48.3\" font-family=\"Times,serif\" font-size=\"14.00\" fill=\"#000000\">gradient</text>\n</g>\n<!-- loss&#45;&gt;gradient -->\n<g id=\"edge3\" class=\"edge\">\n<title>loss&#45;&gt;gradient</title>\n<path fill=\"none\" stroke=\"#000000\" d=\"M255.0473,-52C272.0415,-52 294.4481,-52 314.6545,-52\"/>\n<polygon fill=\"#000000\" stroke=\"#000000\" points=\"314.671,-55.5001 324.671,-52 314.671,-48.5001 314.671,-55.5001\"/>\n</g>\n<!-- step -->\n<g id=\"node5\" class=\"node\">\n<title>step</title>\n<ellipse fill=\"none\" stroke=\"#000000\" cx=\"470.6863\" cy=\"-18\" rx=\"27\" ry=\"18\"/>\n<text text-anchor=\"middle\" x=\"470.6863\" y=\"-14.3\" font-family=\"Times,serif\" font-size=\"14.00\" fill=\"#000000\">step</text>\n</g>\n<!-- gradient&#45;&gt;step -->\n<g id=\"edge4\" class=\"edge\">\n<title>gradient&#45;&gt;step</title>\n<path fill=\"none\" stroke=\"#000000\" d=\"M398.9456,-41.2422C410.9558,-37.3512 424.5297,-32.9536 436.6132,-29.0388\"/>\n<polygon fill=\"#000000\" stroke=\"#000000\" points=\"437.9112,-32.2975 446.3457,-25.8857 435.7537,-25.6382 437.9112,-32.2975\"/>\n</g>\n<!-- step&#45;&gt;predict -->\n<g id=\"edge6\" class=\"edge\">\n<title>step&#45;&gt;predict</title>\n<path fill=\"none\" stroke=\"#000000\" d=\"M443.4266,-18C384.9297,-18 246.7861,-18 174.0495,-18\"/>\n<polygon fill=\"#000000\" stroke=\"#000000\" points=\"173.8098,-14.5001 163.8098,-18 173.8097,-21.5001 173.8098,-14.5001\"/>\n<text text-anchor=\"middle\" x=\"289.7935\" y=\"-21.8\" font-family=\"Times,serif\" font-size=\"14.00\" fill=\"#000000\">repeat</text>\n</g>\n<!-- stop -->\n<g id=\"node6\" class=\"node\">\n<title>stop</title>\n<ellipse fill=\"none\" stroke=\"#000000\" cx=\"561.6863\" cy=\"-18\" rx=\"27\" ry=\"18\"/>\n<text text-anchor=\"middle\" x=\"561.6863\" y=\"-14.3\" font-family=\"Times,serif\" font-size=\"14.00\" fill=\"#000000\">stop</text>\n</g>\n<!-- step&#45;&gt;stop -->\n<g id=\"edge5\" class=\"edge\">\n<title>step&#45;&gt;stop</title>\n<path fill=\"none\" stroke=\"#000000\" d=\"M497.9893,-18C506.2676,-18 515.508,-18 524.3268,-18\"/>\n<polygon fill=\"#000000\" stroke=\"#000000\" points=\"524.4026,-21.5001 534.4025,-18 524.4025,-14.5001 524.4026,-21.5001\"/>\n</g>\n</g>\n</svg>\n"
          },
          "metadata": {},
          "execution_count": 47
        }
      ],
      "source": [
        "gv('''\n",
        "init->predict->loss->gradient->step->stop\n",
        "step->predict[label=repeat]\n",
        "''')"
      ]
    },
    {
      "cell_type": "code",
      "execution_count": 48,
      "metadata": {
        "id": "F_8Zm_Ia2g21"
      },
      "outputs": [],
      "source": [
        "def f(x): return x**2"
      ]
    },
    {
      "cell_type": "code",
      "execution_count": 49,
      "metadata": {
        "colab": {
          "base_uri": "https://localhost:8080/",
          "height": 334
        },
        "id": "5zueWsJn2g21",
        "outputId": "851a7efc-1725-4768-eb99-bfae1f4fa89e"
      },
      "outputs": [
        {
          "output_type": "stream",
          "name": "stderr",
          "text": [
            "/usr/local/lib/python3.7/dist-packages/fastbook/__init__.py:74: UserWarning: Not providing a value for linspace's steps is deprecated and will throw a runtime error in a future release. This warning will appear only once per process. (Triggered internally at  ../aten/src/ATen/native/RangeFactories.cpp:23.)\n",
            "  x = torch.linspace(min,max)\n"
          ]
        },
        {
          "output_type": "display_data",
          "data": {
            "image/png": "[encoded data removed]",
            "text/plain": [
              "<Figure size 432x288 with 1 Axes>"
            ]
          },
          "metadata": {
            "needs_background": "light"
          }
        }
      ],
      "source": [
        "plot_function(f, 'x', 'x**2')"
      ]
    },
    {
      "cell_type": "code",
      "execution_count": 50,
      "metadata": {
        "colab": {
          "base_uri": "https://localhost:8080/",
          "height": 279
        },
        "id": "1TEEQkUO2g21",
        "outputId": "af3ea81e-08b2-4ff5-a6a6-5653e2799354"
      },
      "outputs": [
        {
          "output_type": "display_data",
          "data": {
            "image/png": "[encoded data removed]",
            "text/plain": [
              "<Figure size 432x288 with 1 Axes>"
            ]
          },
          "metadata": {
            "needs_background": "light"
          }
        }
      ],
      "source": [
        "plot_function(f, 'x', 'x**2')\n",
        "plt.scatter(-1.5, f(-1.5), color='red');"
      ]
    },
    {
      "cell_type": "markdown",
      "metadata": {
        "id": "aoVuJIJZ2g22"
      },
      "source": [
        "### Calculating Gradients"
      ]
    },
    {
      "cell_type": "code",
      "execution_count": 51,
      "metadata": {
        "id": "NZtTLJMu2g22"
      },
      "outputs": [],
      "source": [
        "xt = tensor(3.).requires_grad_()"
      ]
    },
    {
      "cell_type": "code",
      "execution_count": 52,
      "metadata": {
        "colab": {
          "base_uri": "https://localhost:8080/"
        },
        "id": "eZ7TbuOB2g22",
        "outputId": "a136856d-7899-47f1-e313-303e95148615"
      },
      "outputs": [
        {
          "output_type": "execute_result",
          "data": {
            "text/plain": [
              "tensor(9., grad_fn=<PowBackward0>)"
            ]
          },
          "metadata": {},
          "execution_count": 52
        }
      ],
      "source": [
        "yt = f(xt)\n",
        "yt"
      ]
    },
    {
      "cell_type": "code",
      "execution_count": 53,
      "metadata": {
        "id": "D4YaPfdN2g22"
      },
      "outputs": [],
      "source": [
        "yt.backward()"
      ]
    },
    {
      "cell_type": "code",
      "execution_count": 54,
      "metadata": {
        "colab": {
          "base_uri": "https://localhost:8080/"
        },
        "id": "838VjpxJ2g22",
        "outputId": "4a81caff-3ed2-40ae-abb6-5c9126c57bf2"
      },
      "outputs": [
        {
          "output_type": "execute_result",
          "data": {
            "text/plain": [
              "tensor(6.)"
            ]
          },
          "metadata": {},
          "execution_count": 54
        }
      ],
      "source": [
        "xt.grad"
      ]
    },
    {
      "cell_type": "code",
      "execution_count": 55,
      "metadata": {
        "colab": {
          "base_uri": "https://localhost:8080/"
        },
        "id": "akI6MmQV2g22",
        "outputId": "fd406b4b-cc47-468d-b957-44ba728c1aa4"
      },
      "outputs": [
        {
          "output_type": "execute_result",
          "data": {
            "text/plain": [
              "tensor([ 3.,  4., 10.], requires_grad=True)"
            ]
          },
          "metadata": {},
          "execution_count": 55
        }
      ],
      "source": [
        "xt = tensor([3.,4.,10.]).requires_grad_()\n",
        "xt"
      ]
    },
    {
      "cell_type": "code",
      "execution_count": 56,
      "metadata": {
        "colab": {
          "base_uri": "https://localhost:8080/"
        },
        "id": "rjiAdEz52g23",
        "outputId": "9f49ddcf-81fc-4ec2-e1a0-bf6340fd9cf2"
      },
      "outputs": [
        {
          "output_type": "execute_result",
          "data": {
            "text/plain": [
              "tensor(125., grad_fn=<SumBackward0>)"
            ]
          },
          "metadata": {},
          "execution_count": 56
        }
      ],
      "source": [
        "def f(x): return (x**2).sum()\n",
        "\n",
        "yt = f(xt)\n",
        "yt"
      ]
    },
    {
      "cell_type": "code",
      "execution_count": 57,
      "metadata": {
        "colab": {
          "base_uri": "https://localhost:8080/"
        },
        "id": "GTVEQcte2g23",
        "outputId": "77681de8-f4e5-4cb2-89ef-23078b87911c"
      },
      "outputs": [
        {
          "output_type": "execute_result",
          "data": {
            "text/plain": [
              "tensor([ 6.,  8., 20.])"
            ]
          },
          "metadata": {},
          "execution_count": 57
        }
      ],
      "source": [
        "yt.backward()\n",
        "xt.grad"
      ]
    },
    {
      "cell_type": "markdown",
      "metadata": {
        "id": "2T0EoINo2g23"
      },
      "source": [
        "### Stepping With a Learning Rate"
      ]
    },
    {
      "cell_type": "markdown",
      "metadata": {
        "id": "4lkw6eoc2g23"
      },
      "source": [
        "### An End-to-End SGD Example"
      ]
    },
    {
      "cell_type": "code",
      "execution_count": 58,
      "metadata": {
        "colab": {
          "base_uri": "https://localhost:8080/"
        },
        "id": "bZo8pbAM2g23",
        "outputId": "15a33a68-1094-4101-85a6-b1b1ae649f31"
      },
      "outputs": [
        {
          "output_type": "execute_result",
          "data": {
            "text/plain": [
              "tensor([ 0.,  1.,  2.,  3.,  4.,  5.,  6.,  7.,  8.,  9., 10., 11., 12., 13., 14., 15., 16., 17., 18., 19.])"
            ]
          },
          "metadata": {},
          "execution_count": 58
        }
      ],
      "source": [
        "time = torch.arange(0,20).float(); time"
      ]
    },
    {
      "cell_type": "code",
      "execution_count": 59,
      "metadata": {
        "colab": {
          "base_uri": "https://localhost:8080/",
          "height": 265
        },
        "id": "uN40MMfL2g23",
        "outputId": "557405d7-fe70-411d-8e73-bae5d84792fb"
      },
      "outputs": [
        {
          "output_type": "display_data",
          "data": {
            "image/png": "[encoded data removed]",
            "text/plain": [
              "<Figure size 432x288 with 1 Axes>"
            ]
          },
          "metadata": {
            "needs_background": "light"
          }
        }
      ],
      "source": [
        "speed = torch.randn(20)*3 + 0.75*(time-9.5)**2 + 1\n",
        "plt.scatter(time,speed);"
      ]
    },
    {
      "cell_type": "code",
      "execution_count": 60,
      "metadata": {
        "id": "SvrN_dG42g23"
      },
      "outputs": [],
      "source": [
        "def f(t, params):\n",
        "    a,b,c = params\n",
        "    return a*(t**2) + (b*t) + c"
      ]
    },
    {
      "cell_type": "code",
      "execution_count": 61,
      "metadata": {
        "id": "_CVKyZy82g24"
      },
      "outputs": [],
      "source": [
        "def mse(preds, targets): return ((preds-targets)**2).mean().sqrt()"
      ]
    },
    {
      "cell_type": "markdown",
      "metadata": {
        "id": "Wej5Y4uN2g24"
      },
      "source": [
        "#### Step 1: Initialize the parameters"
      ]
    },
    {
      "cell_type": "code",
      "execution_count": 62,
      "metadata": {
        "id": "qVUBHxC52g24"
      },
      "outputs": [],
      "source": [
        "params = torch.randn(3).requires_grad_()"
      ]
    },
    {
      "cell_type": "code",
      "execution_count": 63,
      "metadata": {
        "id": "YdgTHVMl2g24"
      },
      "outputs": [],
      "source": [
        "#hide\n",
        "orig_params = params.clone()"
      ]
    },
    {
      "cell_type": "markdown",
      "metadata": {
        "id": "dm9kBHMo2g25"
      },
      "source": [
        "#### Step 2: Calculate the predictions"
      ]
    },
    {
      "cell_type": "code",
      "execution_count": 64,
      "metadata": {
        "id": "0fAA27wU2g25"
      },
      "outputs": [],
      "source": [
        "preds = f(time, params)"
      ]
    },
    {
      "cell_type": "code",
      "execution_count": 65,
      "metadata": {
        "id": "CzHYSJPc2g25"
      },
      "outputs": [],
      "source": [
        "def show_preds(preds, ax=None):\n",
        "    if ax is None: ax=plt.subplots()[1]\n",
        "    ax.scatter(time, speed)\n",
        "    ax.scatter(time, to_np(preds), color='red')\n",
        "    ax.set_ylim(-300,100)"
      ]
    },
    {
      "cell_type": "code",
      "execution_count": 66,
      "metadata": {
        "colab": {
          "base_uri": "https://localhost:8080/",
          "height": 269
        },
        "id": "wPfM96ma2g26",
        "outputId": "02060f64-7122-4194-d539-cd78b31e4894"
      },
      "outputs": [
        {
          "output_type": "display_data",
          "data": {
            "image/png": "[encoded data removed]",
            "text/plain": [
              "<Figure size 432x288 with 1 Axes>"
            ]
          },
          "metadata": {
            "needs_background": "light"
          }
        }
      ],
      "source": [
        "show_preds(preds)"
      ]
    },
    {
      "cell_type": "markdown",
      "metadata": {
        "id": "7P30FLYx2g26"
      },
      "source": [
        "#### Step 3: Calculate the loss"
      ]
    },
    {
      "cell_type": "code",
      "execution_count": 67,
      "metadata": {
        "colab": {
          "base_uri": "https://localhost:8080/"
        },
        "id": "LeY891HX2g26",
        "outputId": "eda5648e-e862-4520-fccf-cc1f0a30d825"
      },
      "outputs": [
        {
          "output_type": "execute_result",
          "data": {
            "text/plain": [
              "tensor(160.6979, grad_fn=<SqrtBackward0>)"
            ]
          },
          "metadata": {},
          "execution_count": 67
        }
      ],
      "source": [
        "loss = mse(preds, speed)\n",
        "loss"
      ]
    },
    {
      "cell_type": "markdown",
      "metadata": {
        "id": "20uR1LLO2g27"
      },
      "source": [
        "#### Step 4: Calculate the gradients"
      ]
    },
    {
      "cell_type": "code",
      "execution_count": 68,
      "metadata": {
        "colab": {
          "base_uri": "https://localhost:8080/"
        },
        "id": "f-Z5xbX52g27",
        "outputId": "5e736f00-2427-4496-b307-cd47c73ffbff"
      },
      "outputs": [
        {
          "output_type": "execute_result",
          "data": {
            "text/plain": [
              "tensor([-165.5151,  -10.6402,   -0.7900])"
            ]
          },
          "metadata": {},
          "execution_count": 68
        }
      ],
      "source": [
        "loss.backward()\n",
        "params.grad"
      ]
    },
    {
      "cell_type": "code",
      "execution_count": 69,
      "metadata": {
        "colab": {
          "base_uri": "https://localhost:8080/"
        },
        "id": "rkQODiRx2g28",
        "outputId": "523abc52-5489-46c8-9c83-6bcb4cd41667"
      },
      "outputs": [
        {
          "output_type": "execute_result",
          "data": {
            "text/plain": [
              "tensor([-1.6552e-03, -1.0640e-04, -7.8996e-06])"
            ]
          },
          "metadata": {},
          "execution_count": 69
        }
      ],
      "source": [
        "params.grad * 1e-5"
      ]
    },
    {
      "cell_type": "code",
      "execution_count": 70,
      "metadata": {
        "colab": {
          "base_uri": "https://localhost:8080/"
        },
        "id": "c2--m1BB2g28",
        "outputId": "dca55ac2-627f-4d4d-911c-f60ca8bf4289"
      },
      "outputs": [
        {
          "output_type": "execute_result",
          "data": {
            "text/plain": [
              "tensor([-0.7658, -0.7506,  1.3525], requires_grad=True)"
            ]
          },
          "metadata": {},
          "execution_count": 70
        }
      ],
      "source": [
        "params"
      ]
    },
    {
      "cell_type": "markdown",
      "metadata": {
        "id": "2AdSvNKR2g28"
      },
      "source": [
        "#### Step 5: Step the weights. "
      ]
    },
    {
      "cell_type": "code",
      "execution_count": 71,
      "metadata": {
        "id": "1JSU-4y02g28"
      },
      "outputs": [],
      "source": [
        "lr = 1e-3\n",
        "params.data -= lr * params.grad.data\n",
        "params.grad = None"
      ]
    },
    {
      "cell_type": "code",
      "execution_count": 72,
      "metadata": {
        "colab": {
          "base_uri": "https://localhost:8080/"
        },
        "id": "jmzPQqRy2g29",
        "outputId": "b81bb1c6-75ee-41ac-d698-73db45a507bf"
      },
      "outputs": [
        {
          "output_type": "execute_result",
          "data": {
            "text/plain": [
              "tensor(133.2652, grad_fn=<SqrtBackward0>)"
            ]
          },
          "metadata": {},
          "execution_count": 72
        }
      ],
      "source": [
        "preds = f(time,params)\n",
        "mse(preds, speed)"
      ]
    },
    {
      "cell_type": "code",
      "execution_count": 73,
      "metadata": {
        "colab": {
          "base_uri": "https://localhost:8080/",
          "height": 269
        },
        "id": "bOKMIn422g29",
        "outputId": "bd9554b8-c80d-436b-8a58-89872fa82b51"
      },
      "outputs": [
        {
          "output_type": "display_data",
          "data": {
            "image/png": "[encoded data removed]",
            "text/plain": [
              "<Figure size 432x288 with 1 Axes>"
            ]
          },
          "metadata": {
            "needs_background": "light"
          }
        }
      ],
      "source": [
        "show_preds(preds)"
      ]
    },
    {
      "cell_type": "code",
      "execution_count": 74,
      "metadata": {
        "id": "CVzftWuz2g29"
      },
      "outputs": [],
      "source": [
        "def apply_step(params, prn=True):\n",
        "    preds = f(time, params)\n",
        "    loss = mse(preds, speed)\n",
        "    loss.backward()\n",
        "    params.data -= lr * params.grad.data\n",
        "    params.grad = None\n",
        "    if prn: print(loss.item())\n",
        "    return preds"
      ]
    },
    {
      "cell_type": "markdown",
      "metadata": {
        "id": "nfDrmj0m2g2-"
      },
      "source": [
        "#### Step 6: Repeat the process "
      ]
    },
    {
      "cell_type": "code",
      "execution_count": 75,
      "metadata": {
        "colab": {
          "base_uri": "https://localhost:8080/"
        },
        "id": "zgvO8SvH2g2-",
        "outputId": "6ed02e64-7c4d-453a-c441-52e53dfcf4c8"
      },
      "outputs": [
        {
          "output_type": "stream",
          "name": "stdout",
          "text": [
            "133.26524353027344\n",
            "106.2302474975586\n",
            "79.95720672607422\n",
            "55.385318756103516\n",
            "35.366943359375\n",
            "26.461618423461914\n",
            "26.02068519592285\n",
            "26.01849937438965\n",
            "26.018320083618164\n",
            "26.018157958984375\n"
          ]
        }
      ],
      "source": [
        "for i in range(10): apply_step(params)"
      ]
    },
    {
      "cell_type": "code",
      "execution_count": 76,
      "metadata": {
        "id": "KSfIOrrm2g2-"
      },
      "outputs": [],
      "source": [
        "#hide\n",
        "params = orig_params.detach().requires_grad_()"
      ]
    },
    {
      "cell_type": "code",
      "execution_count": 77,
      "metadata": {
        "colab": {
          "base_uri": "https://localhost:8080/",
          "height": 225
        },
        "id": "r3fgjff_2g2-",
        "outputId": "d84d89c9-7d3f-4afa-f14d-9db6525aa5f7"
      },
      "outputs": [
        {
          "output_type": "display_data",
          "data": {
            "image/png": "[encoded data removed]",
            "text/plain": [
              "<Figure size 864x216 with 4 Axes>"
            ]
          },
          "metadata": {
            "needs_background": "light"
          }
        }
      ],
      "source": [
        "_,axs = plt.subplots(1,4,figsize=(12,3))\n",
        "for ax in axs: show_preds(apply_step(params, False), ax)\n",
        "plt.tight_layout()"
      ]
    },
    {
      "cell_type": "markdown",
      "metadata": {
        "id": "by6te8qp2g2_"
      },
      "source": [
        "#### Step 7: stop"
      ]
    },
    {
      "cell_type": "markdown",
      "metadata": {
        "id": "WKA8sw4T2g2_"
      },
      "source": [
        "### Summarizing Gradient Descent"
      ]
    },
    {
      "cell_type": "code",
      "execution_count": 78,
      "metadata": {
        "colab": {
          "base_uri": "https://localhost:8080/",
          "height": 125
        },
        "id": "tLUEKTV22g2_",
        "outputId": "47cbe388-df34-4f6f-ca9f-10813ae2b02e"
      },
      "outputs": [
        {
          "output_type": "execute_result",
          "data": {
            "text/plain": [
              "<graphviz.files.Source at 0x7f73cd2526d0>"
            ],
            "image/svg+xml": "<?xml version=\"1.0\" encoding=\"UTF-8\" standalone=\"no\"?>\n<!DOCTYPE svg PUBLIC \"-//W3C//DTD SVG 1.1//EN\"\n \"http://www.w3.org/Graphics/SVG/1.1/DTD/svg11.dtd\">\n<!-- Generated by graphviz version 2.40.1 (20161225.0304)\n -->\n<!-- Title: G Pages: 1 -->\n<svg width=\"597pt\" height=\"78pt\"\n viewBox=\"0.00 0.00 596.69 78.00\" xmlns=\"http://www.w3.org/2000/svg\" xmlns:xlink=\"http://www.w3.org/1999/xlink\">\n<g id=\"graph0\" class=\"graph\" transform=\"scale(1 1) rotate(0) translate(4 74)\">\n<title>G</title>\n<polygon fill=\"#ffffff\" stroke=\"transparent\" points=\"-4,4 -4,-74 592.6863,-74 592.6863,4 -4,4\"/>\n<!-- init -->\n<g id=\"node1\" class=\"node\">\n<title>init</title>\n<ellipse fill=\"none\" stroke=\"#000000\" cx=\"27\" cy=\"-18\" rx=\"27\" ry=\"18\"/>\n<text text-anchor=\"middle\" x=\"27\" y=\"-14.3\" font-family=\"Times,serif\" font-size=\"14.00\" fill=\"#000000\">init</text>\n</g>\n<!-- predict -->\n<g id=\"node2\" class=\"node\">\n<title>predict</title>\n<ellipse fill=\"none\" stroke=\"#000000\" cx=\"127.3968\" cy=\"-18\" rx=\"36.2938\" ry=\"18\"/>\n<text text-anchor=\"middle\" x=\"127.3968\" y=\"-14.3\" font-family=\"Times,serif\" font-size=\"14.00\" fill=\"#000000\">predict</text>\n</g>\n<!-- init&#45;&gt;predict -->\n<g id=\"edge1\" class=\"edge\">\n<title>init&#45;&gt;predict</title>\n<path fill=\"none\" stroke=\"#000000\" d=\"M54.1688,-18C62.3543,-18 71.5827,-18 80.6596,-18\"/>\n<polygon fill=\"#000000\" stroke=\"#000000\" points=\"80.7795,-21.5001 90.7795,-18 80.7795,-14.5001 80.7795,-21.5001\"/>\n</g>\n<!-- loss -->\n<g id=\"node3\" class=\"node\">\n<title>loss</title>\n<ellipse fill=\"none\" stroke=\"#000000\" cx=\"227.7935\" cy=\"-52\" rx=\"27\" ry=\"18\"/>\n<text text-anchor=\"middle\" x=\"227.7935\" y=\"-48.3\" font-family=\"Times,serif\" font-size=\"14.00\" fill=\"#000000\">loss</text>\n</g>\n<!-- predict&#45;&gt;loss -->\n<g id=\"edge2\" class=\"edge\">\n<title>predict&#45;&gt;loss</title>\n<path fill=\"none\" stroke=\"#000000\" d=\"M157.5191,-28.2011C168.9806,-32.0826 182.1139,-36.5303 193.9014,-40.5222\"/>\n<polygon fill=\"#000000\" stroke=\"#000000\" points=\"192.8259,-43.8532 203.4202,-43.7458 195.0713,-37.2231 192.8259,-43.8532\"/>\n</g>\n<!-- gradient -->\n<g id=\"node4\" class=\"node\">\n<title>gradient</title>\n<ellipse fill=\"none\" stroke=\"#000000\" cx=\"365.7399\" cy=\"-52\" rx=\"40.8928\" ry=\"18\"/>\n<text text-anchor=\"middle\" x=\"365.7399\" y=\"-48.3\" font-family=\"Times,serif\" font-size=\"14.00\" fill=\"#000000\">gradient</text>\n</g>\n<!-- loss&#45;&gt;gradient -->\n<g id=\"edge3\" class=\"edge\">\n<title>loss&#45;&gt;gradient</title>\n<path fill=\"none\" stroke=\"#000000\" d=\"M255.0473,-52C272.0415,-52 294.4481,-52 314.6545,-52\"/>\n<polygon fill=\"#000000\" stroke=\"#000000\" points=\"314.671,-55.5001 324.671,-52 314.671,-48.5001 314.671,-55.5001\"/>\n</g>\n<!-- step -->\n<g id=\"node5\" class=\"node\">\n<title>step</title>\n<ellipse fill=\"none\" stroke=\"#000000\" cx=\"470.6863\" cy=\"-18\" rx=\"27\" ry=\"18\"/>\n<text text-anchor=\"middle\" x=\"470.6863\" y=\"-14.3\" font-family=\"Times,serif\" font-size=\"14.00\" fill=\"#000000\">step</text>\n</g>\n<!-- gradient&#45;&gt;step -->\n<g id=\"edge4\" class=\"edge\">\n<title>gradient&#45;&gt;step</title>\n<path fill=\"none\" stroke=\"#000000\" d=\"M398.9456,-41.2422C410.9558,-37.3512 424.5297,-32.9536 436.6132,-29.0388\"/>\n<polygon fill=\"#000000\" stroke=\"#000000\" points=\"437.9112,-32.2975 446.3457,-25.8857 435.7537,-25.6382 437.9112,-32.2975\"/>\n</g>\n<!-- step&#45;&gt;predict -->\n<g id=\"edge6\" class=\"edge\">\n<title>step&#45;&gt;predict</title>\n<path fill=\"none\" stroke=\"#000000\" d=\"M443.4266,-18C384.9297,-18 246.7861,-18 174.0495,-18\"/>\n<polygon fill=\"#000000\" stroke=\"#000000\" points=\"173.8098,-14.5001 163.8098,-18 173.8097,-21.5001 173.8098,-14.5001\"/>\n<text text-anchor=\"middle\" x=\"289.7935\" y=\"-21.8\" font-family=\"Times,serif\" font-size=\"14.00\" fill=\"#000000\">repeat</text>\n</g>\n<!-- stop -->\n<g id=\"node6\" class=\"node\">\n<title>stop</title>\n<ellipse fill=\"none\" stroke=\"#000000\" cx=\"561.6863\" cy=\"-18\" rx=\"27\" ry=\"18\"/>\n<text text-anchor=\"middle\" x=\"561.6863\" y=\"-14.3\" font-family=\"Times,serif\" font-size=\"14.00\" fill=\"#000000\">stop</text>\n</g>\n<!-- step&#45;&gt;stop -->\n<g id=\"edge5\" class=\"edge\">\n<title>step&#45;&gt;stop</title>\n<path fill=\"none\" stroke=\"#000000\" d=\"M497.9893,-18C506.2676,-18 515.508,-18 524.3268,-18\"/>\n<polygon fill=\"#000000\" stroke=\"#000000\" points=\"524.4026,-21.5001 534.4025,-18 524.4025,-14.5001 524.4026,-21.5001\"/>\n</g>\n</g>\n</svg>\n"
          },
          "metadata": {},
          "execution_count": 78
        }
      ],
      "source": [
        "gv('''\n",
        "init->predict->loss->gradient->step->stop\n",
        "step->predict[label=repeat]\n",
        "''')"
      ]
    },
    {
      "cell_type": "markdown",
      "metadata": {
        "id": "tKQCUahG2g2_"
      },
      "source": [
        "## The MNIST Loss Function"
      ]
    },
    {
      "cell_type": "code",
      "execution_count": 92,
      "metadata": {
        "id": "xj8ZnK642g3A"
      },
      "outputs": [],
      "source": [
        "train_x = torch.cat([stacked_threes, stacked_sevens]).view(-1, 28*28)"
      ]
    },
    {
      "cell_type": "code",
      "execution_count": 93,
      "metadata": {
        "colab": {
          "base_uri": "https://localhost:8080/"
        },
        "id": "B7s1Muvp2g3C",
        "outputId": "5cee2945-bc68-4e2b-c33a-3925512d399b"
      },
      "outputs": [
        {
          "output_type": "execute_result",
          "data": {
            "text/plain": [
              "(torch.Size([12396, 784]), torch.Size([12396, 1]))"
            ]
          },
          "metadata": {},
          "execution_count": 93
        }
      ],
      "source": [
        "train_y = tensor([1]*len(threes) + [0]*len(sevens)).unsqueeze(1)\n",
        "train_x.shape,train_y.shape"
      ]
    },
    {
      "cell_type": "code",
      "execution_count": 94,
      "metadata": {
        "colab": {
          "base_uri": "https://localhost:8080/"
        },
        "id": "hkpOlPna2g3C",
        "outputId": "7623a05c-46f1-4262-c9fc-752aad13c45c"
      },
      "outputs": [
        {
          "output_type": "execute_result",
          "data": {
            "text/plain": [
              "(torch.Size([784]), tensor([1]))"
            ]
          },
          "metadata": {},
          "execution_count": 94
        }
      ],
      "source": [
        "dset = list(zip(train_x,train_y))\n",
        "x,y = dset[0]\n",
        "x.shape,y"
      ]
    },
    {
      "cell_type": "code",
      "execution_count": 95,
      "metadata": {
        "id": "Ayw7FIKE2g3D"
      },
      "outputs": [],
      "source": [
        "valid_x = torch.cat([valid_3_tens, valid_7_tens]).view(-1, 28*28)\n",
        "valid_y = tensor([1]*len(valid_3_tens) + [0]*len(valid_7_tens)).unsqueeze(1)\n",
        "valid_dset = list(zip(valid_x,valid_y))"
      ]
    },
    {
      "cell_type": "code",
      "execution_count": 96,
      "metadata": {
        "id": "9KFcJJpL2g3I"
      },
      "outputs": [],
      "source": [
        "def init_params(size, std=1.0): return (torch.randn(size)*std).requires_grad_()"
      ]
    },
    {
      "cell_type": "code",
      "execution_count": 97,
      "metadata": {
        "id": "gDqiqwGK2g3I"
      },
      "outputs": [],
      "source": [
        "weights = init_params((28*28,1))"
      ]
    },
    {
      "cell_type": "code",
      "execution_count": 98,
      "metadata": {
        "id": "IvPavnK-2g3I"
      },
      "outputs": [],
      "source": [
        "bias = init_params(1)"
      ]
    },
    {
      "cell_type": "code",
      "execution_count": 99,
      "metadata": {
        "colab": {
          "base_uri": "https://localhost:8080/"
        },
        "id": "_wjEygAZ2g3I",
        "outputId": "bd38486b-af61-4407-ad83-3fe45899d9c6"
      },
      "outputs": [
        {
          "output_type": "execute_result",
          "data": {
            "text/plain": [
              "tensor([-15.0592], grad_fn=<AddBackward0>)"
            ]
          },
          "metadata": {},
          "execution_count": 99
        }
      ],
      "source": [
        "(train_x[0]*weights.T).sum() + bias"
      ]
    },
    {
      "cell_type": "code",
      "execution_count": 100,
      "metadata": {
        "colab": {
          "base_uri": "https://localhost:8080/"
        },
        "id": "7GOqdAWG2g3J",
        "outputId": "0e01c40a-039e-4b91-bd0b-f7b53036fcb5"
      },
      "outputs": [
        {
          "output_type": "execute_result",
          "data": {
            "text/plain": [
              "tensor([[-15.0592],\n",
              "        [ -6.4868],\n",
              "        [-14.2646],\n",
              "        ...,\n",
              "        [-14.2185],\n",
              "        [  0.6238],\n",
              "        [ -0.2753]], grad_fn=<AddBackward0>)"
            ]
          },
          "metadata": {},
          "execution_count": 100
        }
      ],
      "source": [
        "def linear1(xb): return xb@weights + bias\n",
        "preds = linear1(train_x)\n",
        "preds"
      ]
    },
    {
      "cell_type": "code",
      "execution_count": 101,
      "metadata": {
        "colab": {
          "base_uri": "https://localhost:8080/"
        },
        "id": "uJr6tLeD2g3J",
        "outputId": "ccb49c9a-588f-4aee-ac36-677ec1dabc41"
      },
      "outputs": [
        {
          "output_type": "execute_result",
          "data": {
            "text/plain": [
              "tensor([[False],\n",
              "        [False],\n",
              "        [False],\n",
              "        ...,\n",
              "        [ True],\n",
              "        [False],\n",
              "        [ True]])"
            ]
          },
          "metadata": {},
          "execution_count": 101
        }
      ],
      "source": [
        "corrects = (preds>0.0).float() == train_y\n",
        "corrects"
      ]
    },
    {
      "cell_type": "code",
      "execution_count": 102,
      "metadata": {
        "colab": {
          "base_uri": "https://localhost:8080/"
        },
        "id": "ilbfD1r72g3J",
        "outputId": "3df47121-9c67-40ee-84af-ed114a51f478"
      },
      "outputs": [
        {
          "output_type": "execute_result",
          "data": {
            "text/plain": [
              "0.4543401002883911"
            ]
          },
          "metadata": {},
          "execution_count": 102
        }
      ],
      "source": [
        "corrects.float().mean().item()"
      ]
    },
    {
      "cell_type": "code",
      "execution_count": 103,
      "metadata": {
        "colab": {
          "base_uri": "https://localhost:8080/",
          "height": 166
        },
        "id": "fvK3AC9H2g3K",
        "outputId": "400302a7-59d3-4c7e-a8b1-61de530dc247"
      },
      "outputs": [
        {
          "output_type": "error",
          "ename": "RuntimeError",
          "evalue": "ignored",
          "traceback": [
            "\u001b[0;31m---------------------------------------------------------------------------\u001b[0m",
            "\u001b[0;31mRuntimeError\u001b[0m                              Traceback (most recent call last)",
            "\u001b[0;32m<ipython-input-103-2a9b9601ff3d>\u001b[0m in \u001b[0;36m<module>\u001b[0;34m()\u001b[0m\n\u001b[0;32m----> 1\u001b[0;31m \u001b[0mweights\u001b[0m\u001b[0;34m[\u001b[0m\u001b[0;36m0\u001b[0m\u001b[0;34m]\u001b[0m \u001b[0;34m*=\u001b[0m \u001b[0;36m1.0001\u001b[0m\u001b[0;34m\u001b[0m\u001b[0;34m\u001b[0m\u001b[0m\n\u001b[0m",
            "\u001b[0;31mRuntimeError\u001b[0m: a view of a leaf Variable that requires grad is being used in an in-place operation."
          ]
        }
      ],
      "source": [
        "weights[0] *= 1.0001"
      ]
    },
    {
      "cell_type": "code",
      "execution_count": 104,
      "metadata": {
        "colab": {
          "base_uri": "https://localhost:8080/"
        },
        "id": "st7qGJxg2g3K",
        "outputId": "34e589fb-8ff7-4b8d-9420-bfea4222b244"
      },
      "outputs": [
        {
          "output_type": "execute_result",
          "data": {
            "text/plain": [
              "0.4543401002883911"
            ]
          },
          "metadata": {},
          "execution_count": 104
        }
      ],
      "source": [
        "preds = linear1(train_x)\n",
        "((preds>0.0).float() == train_y).float().mean().item()"
      ]
    },
    {
      "cell_type": "code",
      "execution_count": 105,
      "metadata": {
        "id": "v8PknDeH2g3L"
      },
      "outputs": [],
      "source": [
        "trgts  = tensor([1,0,1])\n",
        "prds   = tensor([0.9, 0.4, 0.2])"
      ]
    },
    {
      "cell_type": "code",
      "execution_count": 106,
      "metadata": {
        "id": "z6zpsvCK2g3L"
      },
      "outputs": [],
      "source": [
        "def mnist_loss(predictions, targets):\n",
        "    return torch.where(targets==1, 1-predictions, predictions).mean()"
      ]
    },
    {
      "cell_type": "code",
      "execution_count": 107,
      "metadata": {
        "colab": {
          "base_uri": "https://localhost:8080/"
        },
        "id": "QFwQIJoP2g3L",
        "outputId": "89a2f49b-2ada-4154-cc92-3b39c6fadd97"
      },
      "outputs": [
        {
          "output_type": "execute_result",
          "data": {
            "text/plain": [
              "tensor([0.1000, 0.4000, 0.8000])"
            ]
          },
          "metadata": {},
          "execution_count": 107
        }
      ],
      "source": [
        "torch.where(trgts==1, 1-prds, prds)"
      ]
    },
    {
      "cell_type": "code",
      "execution_count": 108,
      "metadata": {
        "colab": {
          "base_uri": "https://localhost:8080/"
        },
        "id": "oEry3nnb2g3L",
        "outputId": "b0ff8f7f-ea91-4518-9b11-12031be9883b"
      },
      "outputs": [
        {
          "output_type": "execute_result",
          "data": {
            "text/plain": [
              "tensor(0.4333)"
            ]
          },
          "metadata": {},
          "execution_count": 108
        }
      ],
      "source": [
        "mnist_loss(prds,trgts)"
      ]
    },
    {
      "cell_type": "code",
      "execution_count": 109,
      "metadata": {
        "colab": {
          "base_uri": "https://localhost:8080/"
        },
        "id": "ImrxgEIX2g3M",
        "outputId": "b354b036-38cd-4cdc-adad-f8c8e31ef574"
      },
      "outputs": [
        {
          "output_type": "execute_result",
          "data": {
            "text/plain": [
              "tensor(0.2333)"
            ]
          },
          "metadata": {},
          "execution_count": 109
        }
      ],
      "source": [
        "mnist_loss(tensor([0.9, 0.4, 0.8]),trgts)"
      ]
    },
    {
      "cell_type": "markdown",
      "metadata": {
        "id": "oV-Qq1fi2g3M"
      },
      "source": [
        "### Sigmoid"
      ]
    },
    {
      "cell_type": "code",
      "execution_count": 110,
      "metadata": {
        "id": "jXptSJE_2g3N"
      },
      "outputs": [],
      "source": [
        "def sigmoid(x): return 1/(1+torch.exp(-x))"
      ]
    },
    {
      "cell_type": "code",
      "execution_count": 111,
      "metadata": {
        "colab": {
          "base_uri": "https://localhost:8080/",
          "height": 281
        },
        "id": "AP2_OTLr2g3N",
        "outputId": "66adae3b-d35f-4727-82f7-62bedd89c53b"
      },
      "outputs": [
        {
          "output_type": "display_data",
          "data": {
            "image/png": "[encoded data removed]",
            "text/plain": [
              "<Figure size 432x288 with 1 Axes>"
            ]
          },
          "metadata": {
            "needs_background": "light"
          }
        }
      ],
      "source": [
        "plot_function(torch.sigmoid, title='Sigmoid', min=-4, max=4)"
      ]
    },
    {
      "cell_type": "code",
      "execution_count": 112,
      "metadata": {
        "id": "UMo_4o5Y2g3O"
      },
      "outputs": [],
      "source": [
        "def mnist_loss(predictions, targets):\n",
        "    predictions = predictions.sigmoid()\n",
        "    return torch.where(targets==1, 1-predictions, predictions).mean()"
      ]
    },
    {
      "cell_type": "markdown",
      "metadata": {
        "id": "-Bk7iaZm2g3O"
      },
      "source": [
        "### SGD and Mini-Batches"
      ]
    },
    {
      "cell_type": "code",
      "execution_count": 113,
      "metadata": {
        "colab": {
          "base_uri": "https://localhost:8080/"
        },
        "id": "TwwH4Kpc2g3O",
        "outputId": "c0430bca-ac4f-4e57-a1e3-4633adaa51e5"
      },
      "outputs": [
        {
          "output_type": "execute_result",
          "data": {
            "text/plain": [
              "[tensor([ 3, 12,  8, 10,  2]),\n",
              " tensor([ 9,  4,  7, 14,  5]),\n",
              " tensor([ 1, 13,  0,  6, 11])]"
            ]
          },
          "metadata": {},
          "execution_count": 113
        }
      ],
      "source": [
        "coll = range(15)\n",
        "dl = DataLoader(coll, batch_size=5, shuffle=True)\n",
        "list(dl)"
      ]
    },
    {
      "cell_type": "code",
      "execution_count": 114,
      "metadata": {
        "colab": {
          "base_uri": "https://localhost:8080/"
        },
        "id": "9C3QZd6S2g3O",
        "outputId": "14d8a545-94be-4d75-dcc8-4b2da14925a3"
      },
      "outputs": [
        {
          "output_type": "execute_result",
          "data": {
            "text/plain": [
              "(#26) [(0, 'a'),(1, 'b'),(2, 'c'),(3, 'd'),(4, 'e'),(5, 'f'),(6, 'g'),(7, 'h'),(8, 'i'),(9, 'j')...]"
            ]
          },
          "metadata": {},
          "execution_count": 114
        }
      ],
      "source": [
        "ds = L(enumerate(string.ascii_lowercase))\n",
        "ds"
      ]
    },
    {
      "cell_type": "code",
      "execution_count": 115,
      "metadata": {
        "colab": {
          "base_uri": "https://localhost:8080/"
        },
        "id": "PeORgCEE2g3P",
        "outputId": "ff3142da-0037-4e41-817e-f68624fa10cf"
      },
      "outputs": [
        {
          "output_type": "execute_result",
          "data": {
            "text/plain": [
              "[(tensor([17, 18, 10, 22,  8, 14]), ('r', 's', 'k', 'w', 'i', 'o')),\n",
              " (tensor([20, 15,  9, 13, 21, 12]), ('u', 'p', 'j', 'n', 'v', 'm')),\n",
              " (tensor([ 7, 25,  6,  5, 11, 23]), ('h', 'z', 'g', 'f', 'l', 'x')),\n",
              " (tensor([ 1,  3,  0, 24, 19, 16]), ('b', 'd', 'a', 'y', 't', 'q')),\n",
              " (tensor([2, 4]), ('c', 'e'))]"
            ]
          },
          "metadata": {},
          "execution_count": 115
        }
      ],
      "source": [
        "dl = DataLoader(ds, batch_size=6, shuffle=True)\n",
        "list(dl)"
      ]
    },
    {
      "cell_type": "markdown",
      "metadata": {
        "id": "DdFsWSgY2g3P"
      },
      "source": [
        "## Putting It All Together"
      ]
    },
    {
      "cell_type": "code",
      "execution_count": 116,
      "metadata": {
        "id": "dhAEKxqq2g3P"
      },
      "outputs": [],
      "source": [
        "weights = init_params((28*28,1))\n",
        "bias = init_params(1)"
      ]
    },
    {
      "cell_type": "code",
      "execution_count": 117,
      "metadata": {
        "colab": {
          "base_uri": "https://localhost:8080/"
        },
        "id": "gw2QKrO82g3Q",
        "outputId": "430e8604-5918-4054-b78a-9dd43bb4fceb"
      },
      "outputs": [
        {
          "output_type": "execute_result",
          "data": {
            "text/plain": [
              "(torch.Size([256, 784]), torch.Size([256, 1]))"
            ]
          },
          "metadata": {},
          "execution_count": 117
        }
      ],
      "source": [
        "dl = DataLoader(dset, batch_size=256)\n",
        "xb,yb = first(dl)\n",
        "xb.shape,yb.shape"
      ]
    },
    {
      "cell_type": "code",
      "execution_count": 118,
      "metadata": {
        "id": "z5TRTT6R2g3T"
      },
      "outputs": [],
      "source": [
        "valid_dl = DataLoader(valid_dset, batch_size=256)"
      ]
    },
    {
      "cell_type": "code",
      "execution_count": 119,
      "metadata": {
        "colab": {
          "base_uri": "https://localhost:8080/"
        },
        "id": "FgpwKHz12g3T",
        "outputId": "a585378a-8d59-4106-a14e-d672befe00b6"
      },
      "outputs": [
        {
          "output_type": "execute_result",
          "data": {
            "text/plain": [
              "torch.Size([4, 784])"
            ]
          },
          "metadata": {},
          "execution_count": 119
        }
      ],
      "source": [
        "batch = train_x[:4]\n",
        "batch.shape"
      ]
    },
    {
      "cell_type": "code",
      "execution_count": 120,
      "metadata": {
        "colab": {
          "base_uri": "https://localhost:8080/"
        },
        "id": "djOVQRKw2g3T",
        "outputId": "6cd0c475-db61-432e-b009-8f75b229c34b"
      },
      "outputs": [
        {
          "output_type": "execute_result",
          "data": {
            "text/plain": [
              "tensor([[ -4.5481],\n",
              "        [ -7.5021],\n",
              "        [ -4.9571],\n",
              "        [-16.6318]], grad_fn=<AddBackward0>)"
            ]
          },
          "metadata": {},
          "execution_count": 120
        }
      ],
      "source": [
        "preds = linear1(batch)\n",
        "preds"
      ]
    },
    {
      "cell_type": "code",
      "execution_count": 121,
      "metadata": {
        "colab": {
          "base_uri": "https://localhost:8080/"
        },
        "id": "-8WdYtvN2g3T",
        "outputId": "fe13b9f3-cd56-4b3e-f67f-6f9bffc63d69"
      },
      "outputs": [
        {
          "output_type": "execute_result",
          "data": {
            "text/plain": [
              "tensor(0.9955, grad_fn=<MeanBackward0>)"
            ]
          },
          "metadata": {},
          "execution_count": 121
        }
      ],
      "source": [
        "loss = mnist_loss(preds, train_y[:4])\n",
        "loss"
      ]
    },
    {
      "cell_type": "code",
      "execution_count": 122,
      "metadata": {
        "colab": {
          "base_uri": "https://localhost:8080/"
        },
        "id": "Xug_2zaq2g3U",
        "outputId": "0ab42f4b-7e81-4868-c574-c1751615eb3d"
      },
      "outputs": [
        {
          "output_type": "execute_result",
          "data": {
            "text/plain": [
              "(torch.Size([784, 1]), tensor(-0.0006), tensor([-0.0045]))"
            ]
          },
          "metadata": {},
          "execution_count": 122
        }
      ],
      "source": [
        "loss.backward()\n",
        "weights.grad.shape,weights.grad.mean(),bias.grad"
      ]
    },
    {
      "cell_type": "code",
      "execution_count": 123,
      "metadata": {
        "id": "WHLwGb8T2g3U"
      },
      "outputs": [],
      "source": [
        "def calc_grad(xb, yb, model):\n",
        "    preds = model(xb)\n",
        "    loss = mnist_loss(preds, yb)\n",
        "    loss.backward()"
      ]
    },
    {
      "cell_type": "code",
      "execution_count": 124,
      "metadata": {
        "colab": {
          "base_uri": "https://localhost:8080/"
        },
        "id": "F33_h4h72g3U",
        "outputId": "cb567a83-c5f0-494d-de40-afdc62d66b40"
      },
      "outputs": [
        {
          "output_type": "execute_result",
          "data": {
            "text/plain": [
              "(tensor(-0.0013), tensor([-0.0089]))"
            ]
          },
          "metadata": {},
          "execution_count": 124
        }
      ],
      "source": [
        "calc_grad(batch, train_y[:4], linear1)\n",
        "weights.grad.mean(),bias.grad"
      ]
    },
    {
      "cell_type": "code",
      "execution_count": 125,
      "metadata": {
        "colab": {
          "base_uri": "https://localhost:8080/"
        },
        "id": "d3gL9SW62g3V",
        "outputId": "ed1f5016-07ca-45cd-8506-6823cb2c11ff"
      },
      "outputs": [
        {
          "output_type": "execute_result",
          "data": {
            "text/plain": [
              "(tensor(-0.0019), tensor([-0.0134]))"
            ]
          },
          "metadata": {},
          "execution_count": 125
        }
      ],
      "source": [
        "calc_grad(batch, train_y[:4], linear1)\n",
        "weights.grad.mean(),bias.grad"
      ]
    },
    {
      "cell_type": "code",
      "execution_count": 126,
      "metadata": {
        "id": "n_sb3sIq2g3V"
      },
      "outputs": [],
      "source": [
        "weights.grad.zero_()\n",
        "bias.grad.zero_();"
      ]
    },
    {
      "cell_type": "code",
      "execution_count": 127,
      "metadata": {
        "id": "wsP6V4YB2g3W"
      },
      "outputs": [],
      "source": [
        "def train_epoch(model, lr, params):\n",
        "    for xb,yb in dl:\n",
        "        calc_grad(xb, yb, model)\n",
        "        for p in params:\n",
        "            p.data -= p.grad*lr\n",
        "            p.grad.zero_()"
      ]
    },
    {
      "cell_type": "code",
      "execution_count": 128,
      "metadata": {
        "colab": {
          "base_uri": "https://localhost:8080/"
        },
        "id": "lXIIEeVz2g3W",
        "outputId": "8c5015e3-5821-4ae9-b070-e424db9a863b"
      },
      "outputs": [
        {
          "output_type": "execute_result",
          "data": {
            "text/plain": [
              "tensor([[False],\n",
              "        [False],\n",
              "        [False],\n",
              "        [False]])"
            ]
          },
          "metadata": {},
          "execution_count": 128
        }
      ],
      "source": [
        "(preds>0.0).float() == train_y[:4]"
      ]
    },
    {
      "cell_type": "code",
      "execution_count": 129,
      "metadata": {
        "id": "i2wAmA152g3W"
      },
      "outputs": [],
      "source": [
        "def batch_accuracy(xb, yb):\n",
        "    preds = xb.sigmoid()\n",
        "    correct = (preds>0.5) == yb\n",
        "    return correct.float().mean()"
      ]
    },
    {
      "cell_type": "code",
      "execution_count": 130,
      "metadata": {
        "colab": {
          "base_uri": "https://localhost:8080/"
        },
        "id": "HP1UG30E2g3W",
        "outputId": "a7799c1a-4d09-4553-e087-06164dc26753"
      },
      "outputs": [
        {
          "output_type": "execute_result",
          "data": {
            "text/plain": [
              "tensor(0.)"
            ]
          },
          "metadata": {},
          "execution_count": 130
        }
      ],
      "source": [
        "batch_accuracy(linear1(batch), train_y[:4])"
      ]
    },
    {
      "cell_type": "code",
      "execution_count": 131,
      "metadata": {
        "id": "8B9KgP0N2g3X"
      },
      "outputs": [],
      "source": [
        "def validate_epoch(model):\n",
        "    accs = [batch_accuracy(model(xb), yb) for xb,yb in valid_dl]\n",
        "    return round(torch.stack(accs).mean().item(), 4)"
      ]
    },
    {
      "cell_type": "code",
      "execution_count": 132,
      "metadata": {
        "colab": {
          "base_uri": "https://localhost:8080/"
        },
        "id": "coG1qYjs2g3Y",
        "outputId": "db81a619-e8ae-422f-b5c4-0b62d7f4e8e8"
      },
      "outputs": [
        {
          "output_type": "execute_result",
          "data": {
            "text/plain": [
              "0.3742"
            ]
          },
          "metadata": {},
          "execution_count": 132
        }
      ],
      "source": [
        "validate_epoch(linear1)"
      ]
    },
    {
      "cell_type": "code",
      "execution_count": 133,
      "metadata": {
        "colab": {
          "base_uri": "https://localhost:8080/"
        },
        "id": "WdRjzheU2g3Y",
        "outputId": "3db70456-96f2-45aa-df00-485eba1608eb"
      },
      "outputs": [
        {
          "output_type": "execute_result",
          "data": {
            "text/plain": [
              "0.6381"
            ]
          },
          "metadata": {},
          "execution_count": 133
        }
      ],
      "source": [
        "lr = 1.\n",
        "params = weights,bias\n",
        "train_epoch(linear1, lr, params)\n",
        "validate_epoch(linear1)"
      ]
    },
    {
      "cell_type": "code",
      "execution_count": 134,
      "metadata": {
        "colab": {
          "base_uri": "https://localhost:8080/"
        },
        "id": "te6FBc9d2g3Z",
        "outputId": "9de8b96f-fe9f-4a1a-a8b7-0e322803be8f"
      },
      "outputs": [
        {
          "output_type": "stream",
          "name": "stdout",
          "text": [
            "0.7895 0.8984 0.9325 0.9462 0.954 0.9604 0.9633 0.9647 0.9657 0.9672 0.9682 0.9691 0.9696 0.9701 0.9711 0.9711 0.9721 0.9726 0.9726 0.9735 "
          ]
        }
      ],
      "source": [
        "for i in range(20):\n",
        "    train_epoch(linear1, lr, params)\n",
        "    print(validate_epoch(linear1), end=' ')"
      ]
    },
    {
      "cell_type": "markdown",
      "metadata": {
        "id": "_vtqqhEw2g3Z"
      },
      "source": [
        "### Creating an Optimizer"
      ]
    },
    {
      "cell_type": "code",
      "execution_count": 147,
      "metadata": {
        "id": "LEqto2Kl2g3Z"
      },
      "outputs": [],
      "source": [
        "linear_model = nn.Linear(28*28,1)"
      ]
    },
    {
      "cell_type": "code",
      "execution_count": 148,
      "metadata": {
        "colab": {
          "base_uri": "https://localhost:8080/"
        },
        "id": "7Bp7xGkR2g3a",
        "outputId": "fbf9a350-4138-4111-dba5-c82be1476e24"
      },
      "outputs": [
        {
          "output_type": "execute_result",
          "data": {
            "text/plain": [
              "(torch.Size([1, 784]), torch.Size([1]))"
            ]
          },
          "metadata": {},
          "execution_count": 148
        }
      ],
      "source": [
        "w,b = linear_model.parameters()\n",
        "w.shape,b.shape"
      ]
    },
    {
      "cell_type": "code",
      "execution_count": 149,
      "metadata": {
        "id": "319Buo4m2g3a"
      },
      "outputs": [],
      "source": [
        "class BasicOptim:\n",
        "    def __init__(self,params,lr): self.params,self.lr = list(params),lr\n",
        "\n",
        "    def step(self, *args, **kwargs):\n",
        "        for p in self.params: p.data -= p.grad.data * self.lr\n",
        "\n",
        "    def zero_grad(self, *args, **kwargs):\n",
        "        for p in self.params: p.grad = None"
      ]
    },
    {
      "cell_type": "code",
      "execution_count": 150,
      "metadata": {
        "id": "CwYPDb9q2g3a"
      },
      "outputs": [],
      "source": [
        "opt = BasicOptim(linear_model.parameters(), lr)"
      ]
    },
    {
      "cell_type": "code",
      "execution_count": 151,
      "metadata": {
        "id": "y6-rVK0Z2g3a"
      },
      "outputs": [],
      "source": [
        "def train_epoch(model):\n",
        "    for xb,yb in dl:\n",
        "        calc_grad(xb, yb, model)\n",
        "        opt.step()\n",
        "        opt.zero_grad()"
      ]
    },
    {
      "cell_type": "code",
      "execution_count": 152,
      "metadata": {
        "colab": {
          "base_uri": "https://localhost:8080/"
        },
        "id": "3WywNkuC2g3b",
        "outputId": "3c1f469e-b1bf-4f6a-b68f-46b9e4d83451"
      },
      "outputs": [
        {
          "output_type": "execute_result",
          "data": {
            "text/plain": [
              "0.5792"
            ]
          },
          "metadata": {},
          "execution_count": 152
        }
      ],
      "source": [
        "validate_epoch(linear_model)"
      ]
    },
    {
      "cell_type": "code",
      "execution_count": 153,
      "metadata": {
        "id": "gc-lzez92g3b"
      },
      "outputs": [],
      "source": [
        "def train_model(model, epochs):\n",
        "    for i in range(epochs):\n",
        "        train_epoch(model)\n",
        "        print(validate_epoch(model), end=' ')"
      ]
    },
    {
      "cell_type": "code",
      "execution_count": 154,
      "metadata": {
        "colab": {
          "base_uri": "https://localhost:8080/"
        },
        "id": "pjnDfDv82g3b",
        "outputId": "cb99da8a-5e02-4e18-fee3-59c5d398dec4"
      },
      "outputs": [
        {
          "output_type": "stream",
          "name": "stdout",
          "text": [
            "0.4932 0.8388 0.8388 0.9111 0.9331 0.9467 0.9555 0.9624 0.9658 0.9668 0.9692 0.9726 0.9741 0.9751 0.9761 0.9765 0.9775 0.978 0.978 0.979 "
          ]
        }
      ],
      "source": [
        "train_model(linear_model, 20)"
      ]
    },
    {
      "cell_type": "code",
      "execution_count": 155,
      "metadata": {
        "colab": {
          "base_uri": "https://localhost:8080/"
        },
        "id": "LBJEdUcv2g3c",
        "outputId": "c2d62688-fd4a-475b-c158-b9a9fa06447c"
      },
      "outputs": [
        {
          "output_type": "stream",
          "name": "stdout",
          "text": [
            "0.4932 0.7671 0.8594 0.9175 0.9355 0.9487 0.9575 0.9638 0.9658 0.9677 0.9697 0.9712 0.9721 0.9741 0.9761 0.977 0.9775 0.9775 0.978 0.979 "
          ]
        }
      ],
      "source": [
        "linear_model = nn.Linear(28*28,1)\n",
        "opt = SGD(linear_model.parameters(), lr)\n",
        "train_model(linear_model, 20)"
      ]
    },
    {
      "cell_type": "code",
      "execution_count": 156,
      "metadata": {
        "id": "qzNUU4Qk2g3c"
      },
      "outputs": [],
      "source": [
        "dls = DataLoaders(dl, valid_dl)"
      ]
    },
    {
      "cell_type": "code",
      "execution_count": 157,
      "metadata": {
        "id": "0MZwEX5t2g3d"
      },
      "outputs": [],
      "source": [
        "learn = Learner(dls, nn.Linear(28*28,1), opt_func=SGD,\n",
        "                loss_func=mnist_loss, metrics=batch_accuracy)"
      ]
    },
    {
      "cell_type": "code",
      "execution_count": 158,
      "metadata": {
        "colab": {
          "base_uri": "https://localhost:8080/",
          "height": 363
        },
        "id": "1HJ8evkj2g3d",
        "outputId": "eb987fb7-8128-4881-8a52-6e9e033b6f89"
      },
      "outputs": [
        {
          "output_type": "display_data",
          "data": {
            "text/html": [
              "<table border=\"1\" class=\"dataframe\">\n",
              "  <thead>\n",
              "    <tr style=\"text-align: left;\">\n",
              "      <th>epoch</th>\n",
              "      <th>train_loss</th>\n",
              "      <th>valid_loss</th>\n",
              "      <th>batch_accuracy</th>\n",
              "      <th>time</th>\n",
              "    </tr>\n",
              "  </thead>\n",
              "  <tbody>\n",
              "    <tr>\n",
              "      <td>0</td>\n",
              "      <td>0.636909</td>\n",
              "      <td>0.503516</td>\n",
              "      <td>0.495584</td>\n",
              "      <td>00:00</td>\n",
              "    </tr>\n",
              "    <tr>\n",
              "      <td>1</td>\n",
              "      <td>0.533433</td>\n",
              "      <td>0.190985</td>\n",
              "      <td>0.841021</td>\n",
              "      <td>00:00</td>\n",
              "    </tr>\n",
              "    <tr>\n",
              "      <td>2</td>\n",
              "      <td>0.195834</td>\n",
              "      <td>0.179958</td>\n",
              "      <td>0.838567</td>\n",
              "      <td>00:00</td>\n",
              "    </tr>\n",
              "    <tr>\n",
              "      <td>3</td>\n",
              "      <td>0.085638</td>\n",
              "      <td>0.104980</td>\n",
              "      <td>0.913641</td>\n",
              "      <td>00:00</td>\n",
              "    </tr>\n",
              "    <tr>\n",
              "      <td>4</td>\n",
              "      <td>0.044996</td>\n",
              "      <td>0.076996</td>\n",
              "      <td>0.933759</td>\n",
              "      <td>00:00</td>\n",
              "    </tr>\n",
              "    <tr>\n",
              "      <td>5</td>\n",
              "      <td>0.029133</td>\n",
              "      <td>0.061963</td>\n",
              "      <td>0.946516</td>\n",
              "      <td>00:00</td>\n",
              "    </tr>\n",
              "    <tr>\n",
              "      <td>6</td>\n",
              "      <td>0.022621</td>\n",
              "      <td>0.052531</td>\n",
              "      <td>0.954858</td>\n",
              "      <td>00:00</td>\n",
              "    </tr>\n",
              "    <tr>\n",
              "      <td>7</td>\n",
              "      <td>0.019733</td>\n",
              "      <td>0.046223</td>\n",
              "      <td>0.963199</td>\n",
              "      <td>00:00</td>\n",
              "    </tr>\n",
              "    <tr>\n",
              "      <td>8</td>\n",
              "      <td>0.018276</td>\n",
              "      <td>0.041787</td>\n",
              "      <td>0.965162</td>\n",
              "      <td>00:00</td>\n",
              "    </tr>\n",
              "    <tr>\n",
              "      <td>9</td>\n",
              "      <td>0.017408</td>\n",
              "      <td>0.038521</td>\n",
              "      <td>0.967615</td>\n",
              "      <td>00:00</td>\n",
              "    </tr>\n",
              "  </tbody>\n",
              "</table>"
            ],
            "text/plain": [
              "<IPython.core.display.HTML object>"
            ]
          },
          "metadata": {}
        }
      ],
      "source": [
        "learn.fit(10, lr=lr)"
      ]
    },
    {
      "cell_type": "markdown",
      "metadata": {
        "id": "Ov1bEI4c2g3d"
      },
      "source": [
        "## Adding a Nonlinearity"
      ]
    },
    {
      "cell_type": "code",
      "execution_count": 159,
      "metadata": {
        "id": "hLFZ1o2C2g3e"
      },
      "outputs": [],
      "source": [
        "def simple_net(xb): \n",
        "    res = xb@w1 + b1\n",
        "    res = res.max(tensor(0.0))\n",
        "    res = res@w2 + b2\n",
        "    return res"
      ]
    },
    {
      "cell_type": "code",
      "execution_count": 160,
      "metadata": {
        "id": "ttUIx1E-2g3e"
      },
      "outputs": [],
      "source": [
        "w1 = init_params((28*28,30))\n",
        "b1 = init_params(30)\n",
        "w2 = init_params((30,1))\n",
        "b2 = init_params(1)"
      ]
    },
    {
      "cell_type": "code",
      "execution_count": 161,
      "metadata": {
        "colab": {
          "base_uri": "https://localhost:8080/",
          "height": 265
        },
        "id": "pvWfk3q92g3e",
        "outputId": "8dae789c-d939-48bc-842f-9d15dee25154"
      },
      "outputs": [
        {
          "output_type": "display_data",
          "data": {
            "image/png": "[encoded data removed]",
            "text/plain": [
              "<Figure size 432x288 with 1 Axes>"
            ]
          },
          "metadata": {
            "needs_background": "light"
          }
        }
      ],
      "source": [
        "plot_function(F.relu)"
      ]
    },
    {
      "cell_type": "code",
      "execution_count": 162,
      "metadata": {
        "id": "bGpjSBJD2g3e"
      },
      "outputs": [],
      "source": [
        "simple_net = nn.Sequential(\n",
        "    nn.Linear(28*28,30),\n",
        "    nn.ReLU(),\n",
        "    nn.Linear(30,1)\n",
        ")"
      ]
    },
    {
      "cell_type": "code",
      "execution_count": 163,
      "metadata": {
        "id": "eKDqdgbq2g3e"
      },
      "outputs": [],
      "source": [
        "learn = Learner(dls, simple_net, opt_func=SGD,\n",
        "                loss_func=mnist_loss, metrics=batch_accuracy)"
      ]
    },
    {
      "cell_type": "code",
      "execution_count": 164,
      "metadata": {
        "colab": {
          "base_uri": "https://localhost:8080/",
          "height": 1000
        },
        "id": "-U1rSmDC2g3f",
        "outputId": "d0143592-cae8-44b4-9a73-e255f4435199"
      },
      "outputs": [
        {
          "output_type": "display_data",
          "data": {
            "text/html": [
              "<table border=\"1\" class=\"dataframe\">\n",
              "  <thead>\n",
              "    <tr style=\"text-align: left;\">\n",
              "      <th>epoch</th>\n",
              "      <th>train_loss</th>\n",
              "      <th>valid_loss</th>\n",
              "      <th>batch_accuracy</th>\n",
              "      <th>time</th>\n",
              "    </tr>\n",
              "  </thead>\n",
              "  <tbody>\n",
              "    <tr>\n",
              "      <td>0</td>\n",
              "      <td>0.349997</td>\n",
              "      <td>0.414089</td>\n",
              "      <td>0.504416</td>\n",
              "      <td>00:00</td>\n",
              "    </tr>\n",
              "    <tr>\n",
              "      <td>1</td>\n",
              "      <td>0.159590</td>\n",
              "      <td>0.239501</td>\n",
              "      <td>0.789500</td>\n",
              "      <td>00:00</td>\n",
              "    </tr>\n",
              "    <tr>\n",
              "      <td>2</td>\n",
              "      <td>0.086174</td>\n",
              "      <td>0.117511</td>\n",
              "      <td>0.915113</td>\n",
              "      <td>00:00</td>\n",
              "    </tr>\n",
              "    <tr>\n",
              "      <td>3</td>\n",
              "      <td>0.055355</td>\n",
              "      <td>0.078380</td>\n",
              "      <td>0.939647</td>\n",
              "      <td>00:00</td>\n",
              "    </tr>\n",
              "    <tr>\n",
              "      <td>4</td>\n",
              "      <td>0.041329</td>\n",
              "      <td>0.060922</td>\n",
              "      <td>0.956330</td>\n",
              "      <td>00:00</td>\n",
              "    </tr>\n",
              "    <tr>\n",
              "      <td>5</td>\n",
              "      <td>0.034310</td>\n",
              "      <td>0.051270</td>\n",
              "      <td>0.963690</td>\n",
              "      <td>00:00</td>\n",
              "    </tr>\n",
              "    <tr>\n",
              "      <td>6</td>\n",
              "      <td>0.030358</td>\n",
              "      <td>0.045245</td>\n",
              "      <td>0.965162</td>\n",
              "      <td>00:00</td>\n",
              "    </tr>\n",
              "    <tr>\n",
              "      <td>7</td>\n",
              "      <td>0.027835</td>\n",
              "      <td>0.041132</td>\n",
              "      <td>0.966634</td>\n",
              "      <td>00:00</td>\n",
              "    </tr>\n",
              "    <tr>\n",
              "      <td>8</td>\n",
              "      <td>0.026038</td>\n",
              "      <td>0.038140</td>\n",
              "      <td>0.968106</td>\n",
              "      <td>00:00</td>\n",
              "    </tr>\n",
              "    <tr>\n",
              "      <td>9</td>\n",
              "      <td>0.024658</td>\n",
              "      <td>0.035849</td>\n",
              "      <td>0.970069</td>\n",
              "      <td>00:00</td>\n",
              "    </tr>\n",
              "    <tr>\n",
              "      <td>10</td>\n",
              "      <td>0.023543</td>\n",
              "      <td>0.034032</td>\n",
              "      <td>0.971541</td>\n",
              "      <td>00:00</td>\n",
              "    </tr>\n",
              "    <tr>\n",
              "      <td>11</td>\n",
              "      <td>0.022614</td>\n",
              "      <td>0.032544</td>\n",
              "      <td>0.973503</td>\n",
              "      <td>00:00</td>\n",
              "    </tr>\n",
              "    <tr>\n",
              "      <td>12</td>\n",
              "      <td>0.021823</td>\n",
              "      <td>0.031295</td>\n",
              "      <td>0.973503</td>\n",
              "      <td>00:00</td>\n",
              "    </tr>\n",
              "    <tr>\n",
              "      <td>13</td>\n",
              "      <td>0.021138</td>\n",
              "      <td>0.030228</td>\n",
              "      <td>0.975466</td>\n",
              "      <td>00:00</td>\n",
              "    </tr>\n",
              "    <tr>\n",
              "      <td>14</td>\n",
              "      <td>0.020537</td>\n",
              "      <td>0.029300</td>\n",
              "      <td>0.975466</td>\n",
              "      <td>00:00</td>\n",
              "    </tr>\n",
              "    <tr>\n",
              "      <td>15</td>\n",
              "      <td>0.020003</td>\n",
              "      <td>0.028482</td>\n",
              "      <td>0.976448</td>\n",
              "      <td>00:00</td>\n",
              "    </tr>\n",
              "    <tr>\n",
              "      <td>16</td>\n",
              "      <td>0.019525</td>\n",
              "      <td>0.027755</td>\n",
              "      <td>0.977429</td>\n",
              "      <td>00:00</td>\n",
              "    </tr>\n",
              "    <tr>\n",
              "      <td>17</td>\n",
              "      <td>0.019092</td>\n",
              "      <td>0.027102</td>\n",
              "      <td>0.977429</td>\n",
              "      <td>00:00</td>\n",
              "    </tr>\n",
              "    <tr>\n",
              "      <td>18</td>\n",
              "      <td>0.018699</td>\n",
              "      <td>0.026514</td>\n",
              "      <td>0.978901</td>\n",
              "      <td>00:00</td>\n",
              "    </tr>\n",
              "    <tr>\n",
              "      <td>19</td>\n",
              "      <td>0.018338</td>\n",
              "      <td>0.025978</td>\n",
              "      <td>0.979392</td>\n",
              "      <td>00:00</td>\n",
              "    </tr>\n",
              "    <tr>\n",
              "      <td>20</td>\n",
              "      <td>0.018006</td>\n",
              "      <td>0.025490</td>\n",
              "      <td>0.979392</td>\n",
              "      <td>00:00</td>\n",
              "    </tr>\n",
              "    <tr>\n",
              "      <td>21</td>\n",
              "      <td>0.017698</td>\n",
              "      <td>0.025042</td>\n",
              "      <td>0.979392</td>\n",
              "      <td>00:00</td>\n",
              "    </tr>\n",
              "    <tr>\n",
              "      <td>22</td>\n",
              "      <td>0.017412</td>\n",
              "      <td>0.024630</td>\n",
              "      <td>0.979882</td>\n",
              "      <td>00:00</td>\n",
              "    </tr>\n",
              "    <tr>\n",
              "      <td>23</td>\n",
              "      <td>0.017144</td>\n",
              "      <td>0.024250</td>\n",
              "      <td>0.980373</td>\n",
              "      <td>00:00</td>\n",
              "    </tr>\n",
              "    <tr>\n",
              "      <td>24</td>\n",
              "      <td>0.016894</td>\n",
              "      <td>0.023898</td>\n",
              "      <td>0.981354</td>\n",
              "      <td>00:00</td>\n",
              "    </tr>\n",
              "    <tr>\n",
              "      <td>25</td>\n",
              "      <td>0.016658</td>\n",
              "      <td>0.023571</td>\n",
              "      <td>0.981354</td>\n",
              "      <td>00:00</td>\n",
              "    </tr>\n",
              "    <tr>\n",
              "      <td>26</td>\n",
              "      <td>0.016436</td>\n",
              "      <td>0.023267</td>\n",
              "      <td>0.981354</td>\n",
              "      <td>00:00</td>\n",
              "    </tr>\n",
              "    <tr>\n",
              "      <td>27</td>\n",
              "      <td>0.016226</td>\n",
              "      <td>0.022984</td>\n",
              "      <td>0.981845</td>\n",
              "      <td>00:00</td>\n",
              "    </tr>\n",
              "    <tr>\n",
              "      <td>28</td>\n",
              "      <td>0.016027</td>\n",
              "      <td>0.022720</td>\n",
              "      <td>0.981845</td>\n",
              "      <td>00:00</td>\n",
              "    </tr>\n",
              "    <tr>\n",
              "      <td>29</td>\n",
              "      <td>0.015838</td>\n",
              "      <td>0.022474</td>\n",
              "      <td>0.982336</td>\n",
              "      <td>00:00</td>\n",
              "    </tr>\n",
              "    <tr>\n",
              "      <td>30</td>\n",
              "      <td>0.015658</td>\n",
              "      <td>0.022244</td>\n",
              "      <td>0.982336</td>\n",
              "      <td>00:00</td>\n",
              "    </tr>\n",
              "    <tr>\n",
              "      <td>31</td>\n",
              "      <td>0.015486</td>\n",
              "      <td>0.022029</td>\n",
              "      <td>0.982826</td>\n",
              "      <td>00:00</td>\n",
              "    </tr>\n",
              "    <tr>\n",
              "      <td>32</td>\n",
              "      <td>0.015323</td>\n",
              "      <td>0.021827</td>\n",
              "      <td>0.983317</td>\n",
              "      <td>00:00</td>\n",
              "    </tr>\n",
              "    <tr>\n",
              "      <td>33</td>\n",
              "      <td>0.015166</td>\n",
              "      <td>0.021639</td>\n",
              "      <td>0.983317</td>\n",
              "      <td>00:00</td>\n",
              "    </tr>\n",
              "    <tr>\n",
              "      <td>34</td>\n",
              "      <td>0.015016</td>\n",
              "      <td>0.021462</td>\n",
              "      <td>0.983317</td>\n",
              "      <td>00:00</td>\n",
              "    </tr>\n",
              "    <tr>\n",
              "      <td>35</td>\n",
              "      <td>0.014872</td>\n",
              "      <td>0.021296</td>\n",
              "      <td>0.982826</td>\n",
              "      <td>00:00</td>\n",
              "    </tr>\n",
              "    <tr>\n",
              "      <td>36</td>\n",
              "      <td>0.014734</td>\n",
              "      <td>0.021140</td>\n",
              "      <td>0.982826</td>\n",
              "      <td>00:00</td>\n",
              "    </tr>\n",
              "    <tr>\n",
              "      <td>37</td>\n",
              "      <td>0.014601</td>\n",
              "      <td>0.020992</td>\n",
              "      <td>0.982826</td>\n",
              "      <td>00:00</td>\n",
              "    </tr>\n",
              "    <tr>\n",
              "      <td>38</td>\n",
              "      <td>0.014473</td>\n",
              "      <td>0.020853</td>\n",
              "      <td>0.982826</td>\n",
              "      <td>00:00</td>\n",
              "    </tr>\n",
              "    <tr>\n",
              "      <td>39</td>\n",
              "      <td>0.014349</td>\n",
              "      <td>0.020721</td>\n",
              "      <td>0.983317</td>\n",
              "      <td>00:00</td>\n",
              "    </tr>\n",
              "  </tbody>\n",
              "</table>"
            ],
            "text/plain": [
              "<IPython.core.display.HTML object>"
            ]
          },
          "metadata": {}
        }
      ],
      "source": [
        "learn.fit(40, 0.1)"
      ]
    },
    {
      "cell_type": "code",
      "execution_count": 165,
      "metadata": {
        "colab": {
          "base_uri": "https://localhost:8080/",
          "height": 266
        },
        "id": "5q1JaUPr2g3f",
        "outputId": "6f53422c-b153-43c8-e531-7747ce30f04e"
      },
      "outputs": [
        {
          "output_type": "display_data",
          "data": {
            "image/png": "[encoded data removed]",
            "text/plain": [
              "<Figure size 432x288 with 1 Axes>"
            ]
          },
          "metadata": {
            "needs_background": "light"
          }
        }
      ],
      "source": [
        "plt.plot(L(learn.recorder.values).itemgot(2));"
      ]
    },
    {
      "cell_type": "code",
      "execution_count": 166,
      "metadata": {
        "colab": {
          "base_uri": "https://localhost:8080/"
        },
        "id": "of6Kr_ek2g3f",
        "outputId": "cb25ee9e-bf80-4214-af03-15bac52de23b"
      },
      "outputs": [
        {
          "output_type": "execute_result",
          "data": {
            "text/plain": [
              "0.983316957950592"
            ]
          },
          "metadata": {},
          "execution_count": 166
        }
      ],
      "source": [
        "learn.recorder.values[-1][2]"
      ]
    },
    {
      "cell_type": "markdown",
      "metadata": {
        "id": "JN1LkLXv2g3f"
      },
      "source": [
        "### Going Deeper"
      ]
    },
    {
      "cell_type": "code",
      "execution_count": 167,
      "metadata": {
        "colab": {
          "base_uri": "https://localhost:8080/",
          "height": 81
        },
        "id": "6CRpAppO2g3f",
        "outputId": "ff95d3d5-652b-46d8-d549-21946d2762c4"
      },
      "outputs": [
        {
          "output_type": "display_data",
          "data": {
            "text/html": [
              "<table border=\"1\" class=\"dataframe\">\n",
              "  <thead>\n",
              "    <tr style=\"text-align: left;\">\n",
              "      <th>epoch</th>\n",
              "      <th>train_loss</th>\n",
              "      <th>valid_loss</th>\n",
              "      <th>accuracy</th>\n",
              "      <th>time</th>\n",
              "    </tr>\n",
              "  </thead>\n",
              "  <tbody>\n",
              "    <tr>\n",
              "      <td>0</td>\n",
              "      <td>0.071549</td>\n",
              "      <td>0.020797</td>\n",
              "      <td>0.994112</td>\n",
              "      <td>03:30</td>\n",
              "    </tr>\n",
              "  </tbody>\n",
              "</table>"
            ],
            "text/plain": [
              "<IPython.core.display.HTML object>"
            ]
          },
          "metadata": {}
        }
      ],
      "source": [
        "dls = ImageDataLoaders.from_folder(path)\n",
        "learn = cnn_learner(dls, resnet18, pretrained=False,\n",
        "                    loss_func=F.cross_entropy, metrics=accuracy)\n",
        "learn.fit_one_cycle(1, 0.1)"
      ]
    },
    {
      "cell_type": "markdown",
      "metadata": {
        "id": "pBL3VNji2g3f"
      },
      "source": [
        "## Jargon Recap"
      ]
    },
    {
      "cell_type": "markdown",
      "metadata": {
        "id": "S3DZbOZD2g3f"
      },
      "source": [
        "## Questionnaire"
      ]
    },
    {
      "cell_type": "markdown",
      "metadata": {
        "id": "0ekQKmks2g3g"
      },
      "source": [
        "1. How is a grayscale image represented on a computer? How about a color image?\n",
        "\n",
        "  A grayscale image is represented as a 2D array of numbers (typically unsigned integers)\n",
        "\n",
        "1. How are the files and folders in the `MNIST_SAMPLE` dataset structured? Why?\n",
        "  - first level: valid, train\n",
        "  - second level: 3, 7\n",
        "\n",
        "  Split into validation and training sets then split by digit for easy label extraction for classification.  Only 2 digits, that should be difficult to confuse, to\n",
        "\n",
        "1. Explain how the \"pixel similarity\" approach to classifying digits works.\n",
        "\n",
        "  - take all examples of each individual digit and create an average image providing the average pixel intensity at each location across all examples of that digit.  Then check to see how similar a new image is to each average image digit to figure out what digit is most likely represented.\n",
        "\n",
        "1. What is a list comprehension? Create one now that selects odd numbers from a list and doubles them.\n",
        "\n",
        "  List comprehension allows you to go through every item in a list, optionally perform some logic/operations based on this list item, and generate a list from the results of those operations."
      ]
    },
    {
      "cell_type": "code",
      "source": [
        "# Generate random list of integers\n",
        "import random\n",
        "randomlist = [random.randint(1,30) for o in range(50)]\n",
        "print(randomlist)"
      ],
      "metadata": {
        "colab": {
          "base_uri": "https://localhost:8080/"
        },
        "id": "Gcz2z15IAvKZ",
        "outputId": "6715efaf-f21c-4302-977a-bb98b12c606b"
      },
      "execution_count": 168,
      "outputs": [
        {
          "output_type": "stream",
          "name": "stdout",
          "text": [
            "[7, 8, 17, 20, 1, 18, 7, 23, 21, 23, 18, 14, 8, 15, 19, 9, 26, 28, 1, 25, 26, 6, 23, 14, 11, 9, 5, 7, 25, 11, 4, 3, 13, 4, 12, 28, 12, 20, 9, 26, 2, 24, 15, 18, 4, 30, 13, 3, 18, 10]\n"
          ]
        }
      ]
    },
    {
      "cell_type": "code",
      "source": [
        "# Perform list comprehension to extracts odds and doubles them\n",
        "doubleodd = [2*o for o in randomlist if o%2 == 1]\n",
        "print(doubleodd)"
      ],
      "metadata": {
        "colab": {
          "base_uri": "https://localhost:8080/"
        },
        "id": "KZKtfMDBBCEw",
        "outputId": "cbb069d9-2d5e-4fed-ca68-08c062b6f420"
      },
      "execution_count": 169,
      "outputs": [
        {
          "output_type": "stream",
          "name": "stdout",
          "text": [
            "[14, 34, 2, 14, 46, 42, 46, 30, 38, 18, 2, 50, 46, 22, 18, 10, 14, 50, 22, 6, 26, 18, 30, 26, 6]\n"
          ]
        }
      ]
    },
    {
      "cell_type": "markdown",
      "source": [
        "5. What is a \"rank-3 tensor\"?\n",
        "\n",
        "  Basically the pytorch version of a numpy array with extra functionality (including running on GPU as well as CPU) is a tensor.  A rank-3 tensor is a three-dimensional tensor.\n",
        "\n",
        "  - rank zero tensor: scalar\n",
        "  - rank one tensor: vector\n",
        "  - rank two tensor: matrix\n",
        "\n",
        "1. What is the difference between tensor rank and shape? How do you get the rank from the shape?\n",
        "\n",
        "  Rank is a measure of dimensionality where shape tells you the length of each axis.\n",
        "\n",
        "  You can get the shape as follows:\n",
        "\n",
        "  `tensor_variable.shape`\n",
        "\n",
        "  You can get the rank as follows:\n",
        "\n",
        "  `len(tensor_variable.shape)`\n",
        "\n",
        "  or\n",
        "  \n",
        "  `stacked_threes.ndim`\n",
        "\n",
        "1. What are RMSE and L1 norm?\n",
        "\n",
        "  - Mean absolute difference (L1 norm)\n",
        "\n",
        "  $\\text{mean absolute difference} = \\frac{1}{n} \\left| \\sum_{i=1}^n (a_i - \\hat{a_i}) \\right|$\n",
        "\n",
        "  Where $a_i$ and $\\hat{a_i}$ are the same pixels in the images being compared.\n",
        "\n",
        "  `(a_3 - mean3).abs().mean()`\n",
        "\n",
        "  - Root Mean Squared Error (RMSE) (L2 norm)\n",
        "\n",
        "  $\\text{RMSE} = \\sqrt{ \\frac{1}{n} \\sum_{i=1}^n (a_i - \\hat{a_i})^2}$\n",
        "\n",
        "  `dist_3_sqr = ((a_3 - mean3)**2).mean().sqrt()`\n",
        "\n",
        "1. How can you apply a calculation on thousands of numbers at once, many thousands of times faster than a Python loop?\n",
        "\n",
        "  Broadcasting (see Q. 10).\n",
        "\n",
        "1. Create a 3×3 tensor or array containing the numbers from 1 to 9. Double it. Select the bottom-right four numbers."
      ],
      "metadata": {
        "id": "vjH8jp9g_9Sb"
      }
    },
    {
      "cell_type": "code",
      "source": [
        "data = [[1,2,3],[4,5,6],[7,8,9]]\n",
        "tns = tensor(data)\n",
        "tns *= 2\n",
        "tns[1:3,1:3]"
      ],
      "metadata": {
        "colab": {
          "base_uri": "https://localhost:8080/"
        },
        "id": "AaScvy9AIII0",
        "outputId": "420bd49b-a45c-4a50-8ad3-b81d69616dd0"
      },
      "execution_count": 170,
      "outputs": [
        {
          "output_type": "execute_result",
          "data": {
            "text/plain": [
              "tensor([[10, 12],\n",
              "        [16, 18]])"
            ]
          },
          "metadata": {},
          "execution_count": 170
        }
      ]
    },
    {
      "cell_type": "markdown",
      "source": [
        "10. What is broadcasting?\n",
        "\n",
        "  Broadcasting is a feature where pytorch will automatically expand the tensor with the smaller rank to have the same size as the one with the larger rank making things like operations on images and batches of images be able to use the same code.  This doesn't use any additional memory in the expansion of the smaller rank tensor (it just knows to reuse those values).  The whole calculation is done in C (or CUDA if running on a GPU) running tens of thousands of times faster than pure Python (up to millions of times faster on a GPU)!\n",
        "\n",
        "1. Are metrics generally calculated using the training set, or the validation set? Why?\n",
        "\n",
        "  validation set\n",
        "\n",
        "1. What is SGD?\n",
        "\n",
        "  SGD is Stochastic Gradient Descent\n",
        "\n",
        "  Gradient Descent: Start with some model with weights.  When running an input we generate a loss at the output.  For every weight we can calculate the gradient and adjust the weight in a small step in the direction that decreases our loss.\n",
        "\n",
        "1. Why does SGD use mini-batches?\n",
        "\n",
        "  Need to decide if the loss is being calculated over one or more data items.  Doing it over the entire dataset is slow, doing it over a single item wouldn't give enough information to be precise enough and would result in an unstable gradient.  Thus, we use a *mini-batch*.  The larget the batch size the more accurate and stable the dataset's gradient on the loss function but it will take longer and you will get less mini-batches per epoch.  Another benefit of using a mini-batch happens when using a GPU where items in the mini-batch may be processed in parallel.\n",
        "\n",
        "1. What are the seven steps in SGD for machine learning?\n",
        "\n",
        "  From fast.ai:\n",
        "  - *Initialize* the weights\n",
        "  - For each image, use these weights to *predict* whether it appears to be a three or seven\n",
        "  - Based on these predictions, calculate how good the model is (its *loss*)\n",
        "  - Calculate the *gradient*, which measures for each weight, how changing the weight would change the loss\n",
        "  - *Step* (that is, change) all weights based on that calculation\n",
        "  - Go back to the second step, and *repeat* the process\n",
        "  - ... until you decide to *stop* the training process (for instance because the model is good enough, or you don't want to wait any longer)\n",
        "\n",
        "```\n",
        "             ┌►loss ──► gradient──┐\n",
        "             │                    │\n",
        "             │                    ▼\n",
        "init──►predict◄──────────────────step──►stop\n",
        "\n",
        "                     repeat\n",
        "```\n",
        "\n",
        "15. How do we initialize the weights in a model?\n",
        "\n",
        "  Typically randomly.\n",
        "\n",
        "1. What is \"loss\"?\n",
        "\n",
        "  It's a type of metric used for training purposes instead of necessarily being optimized for the end needs of the resulting system.  The loss should be positive with small values if the result is closer to ideal and larger the further away it is from the right answer.\n",
        "\n",
        "1. Why can't we always use a high learning rate?\n",
        "\n",
        "  It may overshoot the local minima and never converge.  Loss will increase as a result over multiple iterations.\n",
        "\n",
        "1. What is a \"gradient\"?\n",
        "\n",
        "  It's a derivative at a point.\n",
        "\n",
        "1. Do you need to know how to calculate gradients yourself?\n",
        "\n",
        "  No.  You can mark a tensor to tell pytorch to keep gradient information.\n",
        "\n",
        "  `a = tensor([3.,4.,10.]).requires_grad_()`\n",
        "\n",
        "  Perform some function / operations on the variable\n",
        "\n",
        "  `b = f(a)`\n",
        "\n",
        "  Tell pytorch to calculate gradients.\n",
        "\n",
        "  `b.backward()`\n",
        "\n",
        "  And extract the gradient for the variable of interest\n",
        "\n",
        "  `a.grad()`\n",
        "\n",
        "1. Why can't we use accuracy as a loss function?\n",
        "\n",
        "  We often need the loss function to be more sensitive to subtle weight changes than our evaluation metric.  Shouldn't have a gradient of 0 (say when weights change but not enough to change the classification of the item).\n",
        "\n",
        "1. Draw the sigmoid function. What is special about its shape?\n",
        "  It's monotonically increasing, small numbers are close to 0, large numbers are close to 1.  Essentially squishes all numbers to the range (0,1)."
      ],
      "metadata": {
        "id": "aHoZl0dMINit"
      }
    },
    {
      "cell_type": "code",
      "source": [
        "def sigmoid(x):\n",
        "  return 1 / (1 + torch.exp(-x))\n",
        "\n",
        "plot_function(sigmoid, 'x', 'sigmoid', min=-10, max=10)"
      ],
      "metadata": {
        "id": "1Pg7EAtMZoL4",
        "outputId": "ba1a019e-6c0d-4729-9683-d6858d01b5e7",
        "colab": {
          "base_uri": "https://localhost:8080/",
          "height": 279
        }
      },
      "execution_count": 171,
      "outputs": [
        {
          "output_type": "display_data",
          "data": {
            "image/png": "[encoded data removed]",
            "text/plain": [
              "<Figure size 432x288 with 1 Axes>"
            ]
          },
          "metadata": {
            "needs_background": "light"
          }
        }
      ]
    },
    {
      "cell_type": "markdown",
      "source": [
        "22. What is the difference between a loss function and a metric?\n",
        "\n",
        "  Metrics are used to evaluate the model whereas loss functions are a specific way of evaluating system performance that is well suited for training the model.  Many metrics have flat step regions, especially for classification, where small changes in weights signal no change in the metric.  For training, this would provide zero gradients preventing the update of the weights in the step portion of SGD.  A good loss function is sensitive to small changes in model performance, is always positive and is small when providing a close to correct result and monotonically increases as the output diverges from the target.  \n",
        "\n",
        "1. What is the function to calculate new weights using a learning rate?\n",
        "\n",
        "  `parameters -= parameters.grad * lr`\n",
        "\n",
        "1. What does the `DataLoader` class do?\n",
        "\n",
        "  It takes any python collection and turns it into an iterator over many batches.\n",
        "\n",
        "1. Write pseudocode showing the basic steps taken in each epoch for SGD.\n",
        "\n",
        "```\n",
        "for each batch from batches:\n",
        "  for each item in batch:\n",
        "    generate predictions from model\n",
        "    calculate loss between prediction and target\n",
        "\n",
        "  calculate gradient for each weight in model and the bias\n",
        "\n",
        "  for each prediction in predictions:\n",
        "    prediction -= prediciton * learning_rate (don't update gradient in this line)\n",
        "    zero out gradient in prediction\n",
        "```\n",
        "\n",
        "26. Create a function that, if passed two arguments `[1,2,3,4]` and `'abcd'`, returns `[(1, 'a'), (2, 'b'), (3, 'c'), (4, 'd')]`. What is special about that output data structure?\n",
        "\n",
        "  This function places the above data in the same format pytorch expects a dataset to be in where the items being classified would be `[1,2,3,4]` and their labels would be `['a','b','c','d']` respectively."
      ],
      "metadata": {
        "id": "hSG5_tluZe0y"
      }
    },
    {
      "cell_type": "code",
      "source": [
        "def f(a, b):\n",
        "  return list(zip(a,b))\n",
        "\n",
        "a = [1,2,3,4]\n",
        "b = 'abcd'\n",
        "f(a,b)"
      ],
      "metadata": {
        "id": "Ywv6Os29dcu4",
        "outputId": "6dee0b48-f0d7-4f42-eaae-005210f164a9",
        "colab": {
          "base_uri": "https://localhost:8080/"
        }
      },
      "execution_count": 172,
      "outputs": [
        {
          "output_type": "execute_result",
          "data": {
            "text/plain": [
              "[(1, 'a'), (2, 'b'), (3, 'c'), (4, 'd')]"
            ]
          },
          "metadata": {},
          "execution_count": 172
        }
      ]
    },
    {
      "cell_type": "markdown",
      "source": [
        "27. What does `view` do in PyTorch?\n",
        "\n",
        "  `view` is a PyTorch method that changes the shape of a tensor without changing its contents. `-1` is a special parameter to `view` that means \"make this axis as big as necessary to fit all the data\".\n",
        "\n",
        "1. What are the \"bias\" parameters in a neural network? Why do we need them?\n",
        "\n",
        "  A function `weights*pixels` is always equal to zero when either the pixels or weights are zero (i.e., it's intercept is zero).  Just like the equation of a line we can change the intercept by adding a *bias* term: $y = w*x + b$.\n",
        "\n",
        "1. What does the `@` operator do in Python?\n",
        "\n",
        "  matrix multiplication\n",
        "\n",
        "1. What does the `backward` method do?\n",
        "\n",
        "  It triggers pytorch to calculate partial gradients of all tracked variables with respect to the variable backward is called on.\n",
        "\n",
        "1. Why do we have to zero the gradients?\n",
        "\n",
        "  Every time `.backward()` is called the gradient is added to the current gradient value.  We need to call `tensor_var.grad.zero_()` after calling `.backward()` and using the gradient to ensure that what is stored in the gradient is indeed the first derivative after the calculations made since the last `.zero_()` call.\n",
        "\n",
        "1. What information do we have to pass to `Learner`?\n",
        "\n",
        "  - Training and validation Dataloader in a DataLoaders object\n",
        "  - model\n",
        "  - optimization function (e.g., SGD)\n",
        "  - loss function\n",
        "  - metrics\n",
        "\n",
        "1. Show Python or pseudocode for the basic steps of a training loop.\n",
        "\n",
        "```\n",
        "def train_epoch(model):\n",
        "  for xb, yb in dl:\n",
        "    calc_grad(xb, yb, model)\n",
        "    opt.step()\n",
        "    opt.zero_grad()\n",
        "```\n",
        "\n",
        "34. What is \"ReLU\"? Draw a plot of it for values from `-2` to `+2`.\n",
        "\n",
        "  Rectified Linear Unit (ReLU)"
      ],
      "metadata": {
        "id": "N_6uZks2dZDm"
      }
    },
    {
      "cell_type": "code",
      "source": [
        "def relu(x):\n",
        "  return x.max(tensor(0.0))\n",
        "\n",
        "plot_function(relu, 'x', 'relu', min=-2, max=2)\n",
        "plot_function(F.relu)"
      ],
      "metadata": {
        "id": "GvCdV9lCwftb",
        "outputId": "df4cacf2-5b05-4a6c-b613-a4bc5f419551",
        "colab": {
          "base_uri": "https://localhost:8080/",
          "height": 527
        }
      },
      "execution_count": 173,
      "outputs": [
        {
          "output_type": "display_data",
          "data": {
            "image/png": "[encoded data removed]",
            "text/plain": [
              "<Figure size 432x288 with 1 Axes>"
            ]
          },
          "metadata": {
            "needs_background": "light"
          }
        },
        {
          "output_type": "display_data",
          "data": {
            "image/png": "[encoded data removed]",
            "text/plain": [
              "<Figure size 432x288 with 1 Axes>"
            ]
          },
          "metadata": {
            "needs_background": "light"
          }
        }
      ]
    },
    {
      "cell_type": "markdown",
      "source": [
        "35. What is an \"activation function\"?\n",
        "\n",
        "  An activation function is a non linear function used in a neural network.\n",
        "\n",
        "1. What's the difference between `F.relu` and `nn.ReLU`?\n",
        "\n",
        "  `nn.ReLU` is a PyTorch module that does exactly the same thing as `F.relu`\n",
        "\n",
        "1. The universal approximation theorem shows that any function can be approximated as closely as needed using just one nonlinearity. So why do we normally use more?\n",
        "\n",
        "  \"In the 1990s researchers were so focused on the universal approximation theorem that very few were experimenting with more than one nonlinearity. This theoretical but not practical foundation held back the field for years. Some researchers, however, did experiment with deep models, and eventually were able to show that these models could perform much better in practice. Eventually, theoretical results were developed which showed why this happens. Today, it is extremely unusual to find anybody using a neural network with just one nonlinearity.\"\n"
      ],
      "metadata": {
        "id": "pUQd_yZ9wb5T"
      }
    },
    {
      "cell_type": "markdown",
      "metadata": {
        "id": "RE_bWhxK2g3j"
      },
      "source": [
        "### Further Research"
      ]
    },
    {
      "cell_type": "markdown",
      "metadata": {
        "id": "grl-VVlo2g3k"
      },
      "source": [
        "1. Create your own implementation of `Learner` from scratch, based on the training loop shown in this chapter.\n",
        "1. Complete all the steps in this chapter using the full MNIST datasets (that is, for all digits, not just 3s and 7s). This is a significant project and will take you quite a bit of time to complete! You'll need to do some of your own research to figure out how to overcome some obstacles you'll meet on the way."
      ]
    },
    {
      "cell_type": "code",
      "execution_count": 173,
      "metadata": {
        "id": "psM4wWpD2g3m"
      },
      "outputs": [],
      "source": [
        ""
      ]
    }
  ],
  "metadata": {
    "jupytext": {
      "split_at_heading": true
    },
    "kernelspec": {
      "display_name": "Python 3",
      "language": "python",
      "name": "python3"
    },
    "colab": {
      "name": "04_mnist_basics.ipynb",
      "provenance": []
    }
  },
  "nbformat": 4,
  "nbformat_minor": 0
}