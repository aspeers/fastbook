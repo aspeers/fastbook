{
  "cells": [
    {
      "cell_type": "code",
      "execution_count": 1,
      "metadata": {
        "id": "CMFbPKMr2g2d",
        "outputId": "3833690c-e27e-4201-e6f3-5d2972d25108",
        "colab": {
          "base_uri": "https://localhost:8080/"
        }
      },
      "outputs": [
        {
          "output_type": "stream",
          "name": "stdout",
          "text": [
            "\u001b[K     |████████████████████████████████| 720 kB 5.0 MB/s \n",
            "\u001b[K     |████████████████████████████████| 189 kB 55.3 MB/s \n",
            "\u001b[K     |████████████████████████████████| 46 kB 1.6 MB/s \n",
            "\u001b[K     |████████████████████████████████| 1.2 MB 39.0 MB/s \n",
            "\u001b[K     |████████████████████████████████| 56 kB 1.6 MB/s \n",
            "\u001b[K     |████████████████████████████████| 51 kB 96 kB/s \n",
            "\u001b[?25hMounted at /content/gdrive\n"
          ]
        }
      ],
      "source": [
        "#hide\n",
        "!pip install -Uqq fastbook\n",
        "import fastbook\n",
        "fastbook.setup_book()"
      ]
    },
    {
      "cell_type": "code",
      "execution_count": 2,
      "metadata": {
        "id": "BZ9vOPdU2g2g"
      },
      "outputs": [],
      "source": [
        "#hide\n",
        "from fastai.vision.all import *\n",
        "from fastbook import *\n",
        "\n",
        "matplotlib.rc('image', cmap='Greys')"
      ]
    },
    {
      "cell_type": "markdown",
      "metadata": {
        "id": "vaU4EJly2g2h"
      },
      "source": [
        "# Under the Hood: Training a Digit Classifier"
      ]
    },
    {
      "cell_type": "markdown",
      "metadata": {
        "id": "zlT8c3AC2g2i"
      },
      "source": [
        "## Pixels: The Foundations of Computer Vision"
      ]
    },
    {
      "cell_type": "markdown",
      "metadata": {
        "id": "yh3fn_wE2g2j"
      },
      "source": [
        "## Sidebar: Tenacity and Deep Learning"
      ]
    },
    {
      "cell_type": "markdown",
      "metadata": {
        "id": "qSR6ydsA2g2j"
      },
      "source": [
        "## End sidebar"
      ]
    },
    {
      "cell_type": "code",
      "execution_count": 3,
      "metadata": {
        "id": "WnMD6kQ12g2j",
        "outputId": "3c91a23a-2f54-45dc-a638-d4b6d97cf3c6",
        "colab": {
          "base_uri": "https://localhost:8080/",
          "height": 37
        }
      },
      "outputs": [
        {
          "output_type": "display_data",
          "data": {
            "text/html": [
              "\n",
              "    <div>\n",
              "        <style>\n",
              "            /* Turns off some styling */\n",
              "            progress {\n",
              "                /* gets rid of default border in Firefox and Opera. */\n",
              "                border: none;\n",
              "                /* Needs to be in here for Safari polyfill so background images work as expected. */\n",
              "                background-size: auto;\n",
              "            }\n",
              "            .progress-bar-interrupted, .progress-bar-interrupted::-webkit-progress-bar {\n",
              "                background: #F44336;\n",
              "            }\n",
              "        </style>\n",
              "      <progress value='3219456' class='' max='3214948' style='width:300px; height:20px; vertical-align: middle;'></progress>\n",
              "      100.14% [3219456/3214948 00:00<00:00]\n",
              "    </div>\n",
              "    "
            ],
            "text/plain": [
              "<IPython.core.display.HTML object>"
            ]
          },
          "metadata": {}
        }
      ],
      "source": [
        "path = untar_data(URLs.MNIST_SAMPLE)"
      ]
    },
    {
      "cell_type": "code",
      "execution_count": 4,
      "metadata": {
        "id": "-0b-kQmw2g2k"
      },
      "outputs": [],
      "source": [
        "#hide\n",
        "Path.BASE_PATH = path"
      ]
    },
    {
      "cell_type": "code",
      "execution_count": 5,
      "metadata": {
        "id": "uu27NnAl2g2l",
        "outputId": "8faa204e-8d8f-4bdb-dfbc-d29ec83cb11e",
        "colab": {
          "base_uri": "https://localhost:8080/"
        }
      },
      "outputs": [
        {
          "output_type": "execute_result",
          "data": {
            "text/plain": [
              "(#3) [Path('valid'),Path('labels.csv'),Path('train')]"
            ]
          },
          "metadata": {},
          "execution_count": 5
        }
      ],
      "source": [
        "path.ls()"
      ]
    },
    {
      "cell_type": "code",
      "source": [
        "# path.ls?"
      ],
      "metadata": {
        "id": "KCN_pamG3Yf_"
      },
      "execution_count": 6,
      "outputs": []
    },
    {
      "cell_type": "code",
      "source": [
        "# path.ls??"
      ],
      "metadata": {
        "id": "TFWj3fGy3egc"
      },
      "execution_count": 7,
      "outputs": []
    },
    {
      "cell_type": "code",
      "source": [
        "doc(path.ls)"
      ],
      "metadata": {
        "id": "3eeLN4vp3hLT",
        "outputId": "a23fd687-9511-4b21-ba0c-0b3a4f89b71c",
        "colab": {
          "base_uri": "https://localhost:8080/",
          "height": 145
        }
      },
      "execution_count": 8,
      "outputs": [
        {
          "output_type": "display_data",
          "data": {
            "text/html": [
              "<h4 id=\"Path.ls\" class=\"doc_header\"><code>Path.ls</code><a href=\"https://github.com/fastai/fastcore/tree/master/fastcore/xtras.py#L312\" class=\"source_link\" style=\"float:right\">[source]</a></h4><blockquote><p><code>Path.ls</code>(<strong><code>n_max</code></strong>=<em><code>None</code></em>, <strong><code>file_type</code></strong>=<em><code>None</code></em>, <strong><code>file_exts</code></strong>=<em><code>None</code></em>)</p>\n",
              "</blockquote>\n",
              "<p>Contents of path as a list</p>\n",
              "<p><a href=\"https://fastcore.fast.ai/xtras#Path.ls\" target=\"_blank\" rel=\"noreferrer noopener\">Show in docs</a></p>\n"
            ],
            "text/plain": [
              "<IPython.core.display.HTML object>"
            ]
          },
          "metadata": {}
        }
      ]
    },
    {
      "cell_type": "code",
      "execution_count": 9,
      "metadata": {
        "id": "DiSyIv0U2g2l",
        "outputId": "d10aef9e-bb02-4723-b334-33c9ac5ce5fe",
        "colab": {
          "base_uri": "https://localhost:8080/"
        }
      },
      "outputs": [
        {
          "output_type": "execute_result",
          "data": {
            "text/plain": [
              "(#2) [Path('train/7'),Path('train/3')]"
            ]
          },
          "metadata": {},
          "execution_count": 9
        }
      ],
      "source": [
        "(path/'train').ls()"
      ]
    },
    {
      "cell_type": "code",
      "execution_count": 10,
      "metadata": {
        "id": "YIGpAII52g2m",
        "outputId": "a0a6f903-9f65-4816-a741-f0bac7f273a2",
        "colab": {
          "base_uri": "https://localhost:8080/"
        }
      },
      "outputs": [
        {
          "output_type": "execute_result",
          "data": {
            "text/plain": [
              "(#6131) [Path('train/3/10.png'),Path('train/3/10000.png'),Path('train/3/10011.png'),Path('train/3/10031.png'),Path('train/3/10034.png'),Path('train/3/10042.png'),Path('train/3/10052.png'),Path('train/3/1007.png'),Path('train/3/10074.png'),Path('train/3/10091.png')...]"
            ]
          },
          "metadata": {},
          "execution_count": 10
        }
      ],
      "source": [
        "threes = (path/'train'/'3').ls().sorted()\n",
        "sevens = (path/'train'/'7').ls().sorted()\n",
        "threes"
      ]
    },
    {
      "cell_type": "code",
      "execution_count": 11,
      "metadata": {
        "id": "3pZA00pF2g2m",
        "outputId": "02c8d85f-83d4-4957-c58b-a7af3c871c3a",
        "colab": {
          "base_uri": "https://localhost:8080/",
          "height": 45
        }
      },
      "outputs": [
        {
          "output_type": "execute_result",
          "data": {
            "image/png": "[encoded data removed]",
            "text/plain": [
              "<PIL.PngImagePlugin.PngImageFile image mode=L size=28x28 at 0x7FE07FBE0050>"
            ]
          },
          "metadata": {},
          "execution_count": 11
        }
      ],
      "source": [
        "im3_path = threes[1]\n",
        "im3 = Image.open(im3_path)\n",
        "im3"
      ]
    },
    {
      "cell_type": "code",
      "execution_count": 12,
      "metadata": {
        "id": "nmUaM2LE2g2n",
        "outputId": "bc0bf112-6bbf-4884-f423-45fcb8db5960",
        "colab": {
          "base_uri": "https://localhost:8080/"
        }
      },
      "outputs": [
        {
          "output_type": "execute_result",
          "data": {
            "text/plain": [
              "array([[  0,   0,   0,   0,   0,   0],\n",
              "       [  0,   0,   0,   0,   0,  29],\n",
              "       [  0,   0,   0,  48, 166, 224],\n",
              "       [  0,  93, 244, 249, 253, 187],\n",
              "       [  0, 107, 253, 253, 230,  48],\n",
              "       [  0,   3,  20,  20,  15,   0]], dtype=uint8)"
            ]
          },
          "metadata": {},
          "execution_count": 12
        }
      ],
      "source": [
        "array(im3)[4:10,4:10]"
      ]
    },
    {
      "cell_type": "code",
      "execution_count": 13,
      "metadata": {
        "id": "XVARSP7R2g2o",
        "outputId": "196fe5f3-5452-45dd-a63b-947483e1bb1b",
        "colab": {
          "base_uri": "https://localhost:8080/"
        }
      },
      "outputs": [
        {
          "output_type": "execute_result",
          "data": {
            "text/plain": [
              "tensor([[  0,   0,   0,   0,   0,   0],\n",
              "        [  0,   0,   0,   0,   0,  29],\n",
              "        [  0,   0,   0,  48, 166, 224],\n",
              "        [  0,  93, 244, 249, 253, 187],\n",
              "        [  0, 107, 253, 253, 230,  48],\n",
              "        [  0,   3,  20,  20,  15,   0]], dtype=torch.uint8)"
            ]
          },
          "metadata": {},
          "execution_count": 13
        }
      ],
      "source": [
        "tensor(im3)[4:10,4:10]"
      ]
    },
    {
      "cell_type": "code",
      "execution_count": 14,
      "metadata": {
        "id": "Arzi-GsB2g2p",
        "outputId": "e36cd205-1cd9-41b1-bef1-9287fd41d090",
        "colab": {
          "base_uri": "https://localhost:8080/",
          "height": 394
        }
      },
      "outputs": [
        {
          "output_type": "execute_result",
          "data": {
            "text/html": [
              "<style type=\"text/css\">\n",
              "#T_49057_row0_col0, #T_49057_row0_col1, #T_49057_row0_col2, #T_49057_row0_col3, #T_49057_row0_col4, #T_49057_row0_col5, #T_49057_row0_col6, #T_49057_row0_col7, #T_49057_row0_col8, #T_49057_row0_col9, #T_49057_row0_col10, #T_49057_row0_col11, #T_49057_row0_col12, #T_49057_row0_col13, #T_49057_row0_col14, #T_49057_row0_col15, #T_49057_row0_col16, #T_49057_row0_col17, #T_49057_row1_col0, #T_49057_row1_col1, #T_49057_row1_col2, #T_49057_row1_col3, #T_49057_row1_col4, #T_49057_row1_col15, #T_49057_row1_col16, #T_49057_row1_col17, #T_49057_row2_col0, #T_49057_row2_col1, #T_49057_row2_col2, #T_49057_row2_col15, #T_49057_row2_col16, #T_49057_row2_col17, #T_49057_row3_col0, #T_49057_row3_col15, #T_49057_row3_col16, #T_49057_row3_col17, #T_49057_row4_col0, #T_49057_row4_col6, #T_49057_row4_col7, #T_49057_row4_col8, #T_49057_row4_col9, #T_49057_row4_col10, #T_49057_row4_col15, #T_49057_row4_col16, #T_49057_row4_col17, #T_49057_row5_col0, #T_49057_row5_col5, #T_49057_row5_col6, #T_49057_row5_col7, #T_49057_row5_col8, #T_49057_row5_col9, #T_49057_row5_col15, #T_49057_row5_col16, #T_49057_row5_col17, #T_49057_row6_col0, #T_49057_row6_col1, #T_49057_row6_col2, #T_49057_row6_col3, #T_49057_row6_col4, #T_49057_row6_col5, #T_49057_row6_col6, #T_49057_row6_col7, #T_49057_row6_col8, #T_49057_row6_col9, #T_49057_row6_col14, #T_49057_row6_col15, #T_49057_row6_col16, #T_49057_row6_col17, #T_49057_row7_col0, #T_49057_row7_col1, #T_49057_row7_col2, #T_49057_row7_col3, #T_49057_row7_col4, #T_49057_row7_col5, #T_49057_row7_col6, #T_49057_row7_col13, #T_49057_row7_col14, #T_49057_row7_col15, #T_49057_row7_col16, #T_49057_row7_col17, #T_49057_row8_col0, #T_49057_row8_col1, #T_49057_row8_col2, #T_49057_row8_col3, #T_49057_row8_col4, #T_49057_row8_col13, #T_49057_row8_col14, #T_49057_row8_col15, #T_49057_row8_col16, #T_49057_row8_col17, #T_49057_row9_col0, #T_49057_row9_col1, #T_49057_row9_col2, #T_49057_row9_col3, #T_49057_row9_col4, #T_49057_row9_col16, #T_49057_row9_col17, #T_49057_row10_col0, #T_49057_row10_col1, #T_49057_row10_col2, #T_49057_row10_col3, #T_49057_row10_col4, #T_49057_row10_col5, #T_49057_row10_col6, #T_49057_row10_col17 {\n",
              "  font-size: 6pt;\n",
              "  background-color: #ffffff;\n",
              "  color: #000000;\n",
              "}\n",
              "#T_49057_row1_col5 {\n",
              "  font-size: 6pt;\n",
              "  background-color: #efefef;\n",
              "  color: #000000;\n",
              "}\n",
              "#T_49057_row1_col6, #T_49057_row1_col13 {\n",
              "  font-size: 6pt;\n",
              "  background-color: #7c7c7c;\n",
              "  color: #f1f1f1;\n",
              "}\n",
              "#T_49057_row1_col7 {\n",
              "  font-size: 6pt;\n",
              "  background-color: #4a4a4a;\n",
              "  color: #f1f1f1;\n",
              "}\n",
              "#T_49057_row1_col8, #T_49057_row1_col9, #T_49057_row1_col10, #T_49057_row2_col5, #T_49057_row2_col6, #T_49057_row2_col7, #T_49057_row2_col11, #T_49057_row2_col12, #T_49057_row2_col13, #T_49057_row3_col4, #T_49057_row3_col12, #T_49057_row3_col13, #T_49057_row4_col1, #T_49057_row4_col2, #T_49057_row4_col3, #T_49057_row4_col12, #T_49057_row4_col13, #T_49057_row5_col12, #T_49057_row6_col11, #T_49057_row9_col11, #T_49057_row10_col11, #T_49057_row10_col12, #T_49057_row10_col13, #T_49057_row10_col14, #T_49057_row10_col15, #T_49057_row10_col16 {\n",
              "  font-size: 6pt;\n",
              "  background-color: #000000;\n",
              "  color: #f1f1f1;\n",
              "}\n",
              "#T_49057_row1_col11 {\n",
              "  font-size: 6pt;\n",
              "  background-color: #606060;\n",
              "  color: #f1f1f1;\n",
              "}\n",
              "#T_49057_row1_col12 {\n",
              "  font-size: 6pt;\n",
              "  background-color: #4d4d4d;\n",
              "  color: #f1f1f1;\n",
              "}\n",
              "#T_49057_row1_col14 {\n",
              "  font-size: 6pt;\n",
              "  background-color: #bbbbbb;\n",
              "  color: #000000;\n",
              "}\n",
              "#T_49057_row2_col3 {\n",
              "  font-size: 6pt;\n",
              "  background-color: #e4e4e4;\n",
              "  color: #000000;\n",
              "}\n",
              "#T_49057_row2_col4, #T_49057_row8_col6 {\n",
              "  font-size: 6pt;\n",
              "  background-color: #6b6b6b;\n",
              "  color: #f1f1f1;\n",
              "}\n",
              "#T_49057_row2_col8, #T_49057_row2_col14, #T_49057_row3_col14 {\n",
              "  font-size: 6pt;\n",
              "  background-color: #171717;\n",
              "  color: #f1f1f1;\n",
              "}\n",
              "#T_49057_row2_col9, #T_49057_row3_col11 {\n",
              "  font-size: 6pt;\n",
              "  background-color: #4b4b4b;\n",
              "  color: #f1f1f1;\n",
              "}\n",
              "#T_49057_row2_col10, #T_49057_row7_col10, #T_49057_row8_col8, #T_49057_row8_col10, #T_49057_row9_col8, #T_49057_row9_col10 {\n",
              "  font-size: 6pt;\n",
              "  background-color: #010101;\n",
              "  color: #f1f1f1;\n",
              "}\n",
              "#T_49057_row3_col1 {\n",
              "  font-size: 6pt;\n",
              "  background-color: #272727;\n",
              "  color: #f1f1f1;\n",
              "}\n",
              "#T_49057_row3_col2 {\n",
              "  font-size: 6pt;\n",
              "  background-color: #0a0a0a;\n",
              "  color: #f1f1f1;\n",
              "}\n",
              "#T_49057_row3_col3 {\n",
              "  font-size: 6pt;\n",
              "  background-color: #050505;\n",
              "  color: #f1f1f1;\n",
              "}\n",
              "#T_49057_row3_col5 {\n",
              "  font-size: 6pt;\n",
              "  background-color: #333333;\n",
              "  color: #f1f1f1;\n",
              "}\n",
              "#T_49057_row3_col6 {\n",
              "  font-size: 6pt;\n",
              "  background-color: #e6e6e6;\n",
              "  color: #000000;\n",
              "}\n",
              "#T_49057_row3_col7, #T_49057_row3_col10 {\n",
              "  font-size: 6pt;\n",
              "  background-color: #fafafa;\n",
              "  color: #000000;\n",
              "}\n",
              "#T_49057_row3_col8 {\n",
              "  font-size: 6pt;\n",
              "  background-color: #fbfbfb;\n",
              "  color: #000000;\n",
              "}\n",
              "#T_49057_row3_col9 {\n",
              "  font-size: 6pt;\n",
              "  background-color: #fdfdfd;\n",
              "  color: #000000;\n",
              "}\n",
              "#T_49057_row4_col4 {\n",
              "  font-size: 6pt;\n",
              "  background-color: #1b1b1b;\n",
              "  color: #f1f1f1;\n",
              "}\n",
              "#T_49057_row4_col5 {\n",
              "  font-size: 6pt;\n",
              "  background-color: #e0e0e0;\n",
              "  color: #000000;\n",
              "}\n",
              "#T_49057_row4_col11 {\n",
              "  font-size: 6pt;\n",
              "  background-color: #4e4e4e;\n",
              "  color: #f1f1f1;\n",
              "}\n",
              "#T_49057_row4_col14 {\n",
              "  font-size: 6pt;\n",
              "  background-color: #767676;\n",
              "  color: #f1f1f1;\n",
              "}\n",
              "#T_49057_row5_col1 {\n",
              "  font-size: 6pt;\n",
              "  background-color: #fcfcfc;\n",
              "  color: #000000;\n",
              "}\n",
              "#T_49057_row5_col2, #T_49057_row5_col3 {\n",
              "  font-size: 6pt;\n",
              "  background-color: #f6f6f6;\n",
              "  color: #000000;\n",
              "}\n",
              "#T_49057_row5_col4, #T_49057_row7_col7 {\n",
              "  font-size: 6pt;\n",
              "  background-color: #f8f8f8;\n",
              "  color: #000000;\n",
              "}\n",
              "#T_49057_row5_col10, #T_49057_row10_col7 {\n",
              "  font-size: 6pt;\n",
              "  background-color: #e8e8e8;\n",
              "  color: #000000;\n",
              "}\n",
              "#T_49057_row5_col11 {\n",
              "  font-size: 6pt;\n",
              "  background-color: #222222;\n",
              "  color: #f1f1f1;\n",
              "}\n",
              "#T_49057_row5_col13, #T_49057_row6_col12 {\n",
              "  font-size: 6pt;\n",
              "  background-color: #090909;\n",
              "  color: #f1f1f1;\n",
              "}\n",
              "#T_49057_row5_col14 {\n",
              "  font-size: 6pt;\n",
              "  background-color: #d0d0d0;\n",
              "  color: #000000;\n",
              "}\n",
              "#T_49057_row6_col10, #T_49057_row7_col11, #T_49057_row9_col6 {\n",
              "  font-size: 6pt;\n",
              "  background-color: #060606;\n",
              "  color: #f1f1f1;\n",
              "}\n",
              "#T_49057_row6_col13 {\n",
              "  font-size: 6pt;\n",
              "  background-color: #979797;\n",
              "  color: #f1f1f1;\n",
              "}\n",
              "#T_49057_row7_col8 {\n",
              "  font-size: 6pt;\n",
              "  background-color: #b6b6b6;\n",
              "  color: #000000;\n",
              "}\n",
              "#T_49057_row7_col9 {\n",
              "  font-size: 6pt;\n",
              "  background-color: #252525;\n",
              "  color: #f1f1f1;\n",
              "}\n",
              "#T_49057_row7_col12 {\n",
              "  font-size: 6pt;\n",
              "  background-color: #999999;\n",
              "  color: #f1f1f1;\n",
              "}\n",
              "#T_49057_row8_col5 {\n",
              "  font-size: 6pt;\n",
              "  background-color: #f9f9f9;\n",
              "  color: #000000;\n",
              "}\n",
              "#T_49057_row8_col7 {\n",
              "  font-size: 6pt;\n",
              "  background-color: #101010;\n",
              "  color: #f1f1f1;\n",
              "}\n",
              "#T_49057_row8_col9, #T_49057_row9_col9 {\n",
              "  font-size: 6pt;\n",
              "  background-color: #020202;\n",
              "  color: #f1f1f1;\n",
              "}\n",
              "#T_49057_row8_col11 {\n",
              "  font-size: 6pt;\n",
              "  background-color: #545454;\n",
              "  color: #f1f1f1;\n",
              "}\n",
              "#T_49057_row8_col12 {\n",
              "  font-size: 6pt;\n",
              "  background-color: #f1f1f1;\n",
              "  color: #000000;\n",
              "}\n",
              "#T_49057_row9_col5 {\n",
              "  font-size: 6pt;\n",
              "  background-color: #f7f7f7;\n",
              "  color: #000000;\n",
              "}\n",
              "#T_49057_row9_col7 {\n",
              "  font-size: 6pt;\n",
              "  background-color: #030303;\n",
              "  color: #f1f1f1;\n",
              "}\n",
              "#T_49057_row9_col12 {\n",
              "  font-size: 6pt;\n",
              "  background-color: #181818;\n",
              "  color: #f1f1f1;\n",
              "}\n",
              "#T_49057_row9_col13 {\n",
              "  font-size: 6pt;\n",
              "  background-color: #303030;\n",
              "  color: #f1f1f1;\n",
              "}\n",
              "#T_49057_row9_col14 {\n",
              "  font-size: 6pt;\n",
              "  background-color: #a9a9a9;\n",
              "  color: #f1f1f1;\n",
              "}\n",
              "#T_49057_row9_col15 {\n",
              "  font-size: 6pt;\n",
              "  background-color: #fefefe;\n",
              "  color: #000000;\n",
              "}\n",
              "#T_49057_row10_col8, #T_49057_row10_col9 {\n",
              "  font-size: 6pt;\n",
              "  background-color: #bababa;\n",
              "  color: #000000;\n",
              "}\n",
              "#T_49057_row10_col10 {\n",
              "  font-size: 6pt;\n",
              "  background-color: #393939;\n",
              "  color: #f1f1f1;\n",
              "}\n",
              "</style>\n",
              "<table id=\"T_49057_\" class=\"dataframe\">\n",
              "  <thead>\n",
              "    <tr>\n",
              "      <th class=\"blank level0\" >&nbsp;</th>\n",
              "      <th class=\"col_heading level0 col0\" >0</th>\n",
              "      <th class=\"col_heading level0 col1\" >1</th>\n",
              "      <th class=\"col_heading level0 col2\" >2</th>\n",
              "      <th class=\"col_heading level0 col3\" >3</th>\n",
              "      <th class=\"col_heading level0 col4\" >4</th>\n",
              "      <th class=\"col_heading level0 col5\" >5</th>\n",
              "      <th class=\"col_heading level0 col6\" >6</th>\n",
              "      <th class=\"col_heading level0 col7\" >7</th>\n",
              "      <th class=\"col_heading level0 col8\" >8</th>\n",
              "      <th class=\"col_heading level0 col9\" >9</th>\n",
              "      <th class=\"col_heading level0 col10\" >10</th>\n",
              "      <th class=\"col_heading level0 col11\" >11</th>\n",
              "      <th class=\"col_heading level0 col12\" >12</th>\n",
              "      <th class=\"col_heading level0 col13\" >13</th>\n",
              "      <th class=\"col_heading level0 col14\" >14</th>\n",
              "      <th class=\"col_heading level0 col15\" >15</th>\n",
              "      <th class=\"col_heading level0 col16\" >16</th>\n",
              "      <th class=\"col_heading level0 col17\" >17</th>\n",
              "    </tr>\n",
              "  </thead>\n",
              "  <tbody>\n",
              "    <tr>\n",
              "      <th id=\"T_49057_level0_row0\" class=\"row_heading level0 row0\" >0</th>\n",
              "      <td id=\"T_49057_row0_col0\" class=\"data row0 col0\" >0</td>\n",
              "      <td id=\"T_49057_row0_col1\" class=\"data row0 col1\" >0</td>\n",
              "      <td id=\"T_49057_row0_col2\" class=\"data row0 col2\" >0</td>\n",
              "      <td id=\"T_49057_row0_col3\" class=\"data row0 col3\" >0</td>\n",
              "      <td id=\"T_49057_row0_col4\" class=\"data row0 col4\" >0</td>\n",
              "      <td id=\"T_49057_row0_col5\" class=\"data row0 col5\" >0</td>\n",
              "      <td id=\"T_49057_row0_col6\" class=\"data row0 col6\" >0</td>\n",
              "      <td id=\"T_49057_row0_col7\" class=\"data row0 col7\" >0</td>\n",
              "      <td id=\"T_49057_row0_col8\" class=\"data row0 col8\" >0</td>\n",
              "      <td id=\"T_49057_row0_col9\" class=\"data row0 col9\" >0</td>\n",
              "      <td id=\"T_49057_row0_col10\" class=\"data row0 col10\" >0</td>\n",
              "      <td id=\"T_49057_row0_col11\" class=\"data row0 col11\" >0</td>\n",
              "      <td id=\"T_49057_row0_col12\" class=\"data row0 col12\" >0</td>\n",
              "      <td id=\"T_49057_row0_col13\" class=\"data row0 col13\" >0</td>\n",
              "      <td id=\"T_49057_row0_col14\" class=\"data row0 col14\" >0</td>\n",
              "      <td id=\"T_49057_row0_col15\" class=\"data row0 col15\" >0</td>\n",
              "      <td id=\"T_49057_row0_col16\" class=\"data row0 col16\" >0</td>\n",
              "      <td id=\"T_49057_row0_col17\" class=\"data row0 col17\" >0</td>\n",
              "    </tr>\n",
              "    <tr>\n",
              "      <th id=\"T_49057_level0_row1\" class=\"row_heading level0 row1\" >1</th>\n",
              "      <td id=\"T_49057_row1_col0\" class=\"data row1 col0\" >0</td>\n",
              "      <td id=\"T_49057_row1_col1\" class=\"data row1 col1\" >0</td>\n",
              "      <td id=\"T_49057_row1_col2\" class=\"data row1 col2\" >0</td>\n",
              "      <td id=\"T_49057_row1_col3\" class=\"data row1 col3\" >0</td>\n",
              "      <td id=\"T_49057_row1_col4\" class=\"data row1 col4\" >0</td>\n",
              "      <td id=\"T_49057_row1_col5\" class=\"data row1 col5\" >29</td>\n",
              "      <td id=\"T_49057_row1_col6\" class=\"data row1 col6\" >150</td>\n",
              "      <td id=\"T_49057_row1_col7\" class=\"data row1 col7\" >195</td>\n",
              "      <td id=\"T_49057_row1_col8\" class=\"data row1 col8\" >254</td>\n",
              "      <td id=\"T_49057_row1_col9\" class=\"data row1 col9\" >255</td>\n",
              "      <td id=\"T_49057_row1_col10\" class=\"data row1 col10\" >254</td>\n",
              "      <td id=\"T_49057_row1_col11\" class=\"data row1 col11\" >176</td>\n",
              "      <td id=\"T_49057_row1_col12\" class=\"data row1 col12\" >193</td>\n",
              "      <td id=\"T_49057_row1_col13\" class=\"data row1 col13\" >150</td>\n",
              "      <td id=\"T_49057_row1_col14\" class=\"data row1 col14\" >96</td>\n",
              "      <td id=\"T_49057_row1_col15\" class=\"data row1 col15\" >0</td>\n",
              "      <td id=\"T_49057_row1_col16\" class=\"data row1 col16\" >0</td>\n",
              "      <td id=\"T_49057_row1_col17\" class=\"data row1 col17\" >0</td>\n",
              "    </tr>\n",
              "    <tr>\n",
              "      <th id=\"T_49057_level0_row2\" class=\"row_heading level0 row2\" >2</th>\n",
              "      <td id=\"T_49057_row2_col0\" class=\"data row2 col0\" >0</td>\n",
              "      <td id=\"T_49057_row2_col1\" class=\"data row2 col1\" >0</td>\n",
              "      <td id=\"T_49057_row2_col2\" class=\"data row2 col2\" >0</td>\n",
              "      <td id=\"T_49057_row2_col3\" class=\"data row2 col3\" >48</td>\n",
              "      <td id=\"T_49057_row2_col4\" class=\"data row2 col4\" >166</td>\n",
              "      <td id=\"T_49057_row2_col5\" class=\"data row2 col5\" >224</td>\n",
              "      <td id=\"T_49057_row2_col6\" class=\"data row2 col6\" >253</td>\n",
              "      <td id=\"T_49057_row2_col7\" class=\"data row2 col7\" >253</td>\n",
              "      <td id=\"T_49057_row2_col8\" class=\"data row2 col8\" >234</td>\n",
              "      <td id=\"T_49057_row2_col9\" class=\"data row2 col9\" >196</td>\n",
              "      <td id=\"T_49057_row2_col10\" class=\"data row2 col10\" >253</td>\n",
              "      <td id=\"T_49057_row2_col11\" class=\"data row2 col11\" >253</td>\n",
              "      <td id=\"T_49057_row2_col12\" class=\"data row2 col12\" >253</td>\n",
              "      <td id=\"T_49057_row2_col13\" class=\"data row2 col13\" >253</td>\n",
              "      <td id=\"T_49057_row2_col14\" class=\"data row2 col14\" >233</td>\n",
              "      <td id=\"T_49057_row2_col15\" class=\"data row2 col15\" >0</td>\n",
              "      <td id=\"T_49057_row2_col16\" class=\"data row2 col16\" >0</td>\n",
              "      <td id=\"T_49057_row2_col17\" class=\"data row2 col17\" >0</td>\n",
              "    </tr>\n",
              "    <tr>\n",
              "      <th id=\"T_49057_level0_row3\" class=\"row_heading level0 row3\" >3</th>\n",
              "      <td id=\"T_49057_row3_col0\" class=\"data row3 col0\" >0</td>\n",
              "      <td id=\"T_49057_row3_col1\" class=\"data row3 col1\" >93</td>\n",
              "      <td id=\"T_49057_row3_col2\" class=\"data row3 col2\" >244</td>\n",
              "      <td id=\"T_49057_row3_col3\" class=\"data row3 col3\" >249</td>\n",
              "      <td id=\"T_49057_row3_col4\" class=\"data row3 col4\" >253</td>\n",
              "      <td id=\"T_49057_row3_col5\" class=\"data row3 col5\" >187</td>\n",
              "      <td id=\"T_49057_row3_col6\" class=\"data row3 col6\" >46</td>\n",
              "      <td id=\"T_49057_row3_col7\" class=\"data row3 col7\" >10</td>\n",
              "      <td id=\"T_49057_row3_col8\" class=\"data row3 col8\" >8</td>\n",
              "      <td id=\"T_49057_row3_col9\" class=\"data row3 col9\" >4</td>\n",
              "      <td id=\"T_49057_row3_col10\" class=\"data row3 col10\" >10</td>\n",
              "      <td id=\"T_49057_row3_col11\" class=\"data row3 col11\" >194</td>\n",
              "      <td id=\"T_49057_row3_col12\" class=\"data row3 col12\" >253</td>\n",
              "      <td id=\"T_49057_row3_col13\" class=\"data row3 col13\" >253</td>\n",
              "      <td id=\"T_49057_row3_col14\" class=\"data row3 col14\" >233</td>\n",
              "      <td id=\"T_49057_row3_col15\" class=\"data row3 col15\" >0</td>\n",
              "      <td id=\"T_49057_row3_col16\" class=\"data row3 col16\" >0</td>\n",
              "      <td id=\"T_49057_row3_col17\" class=\"data row3 col17\" >0</td>\n",
              "    </tr>\n",
              "    <tr>\n",
              "      <th id=\"T_49057_level0_row4\" class=\"row_heading level0 row4\" >4</th>\n",
              "      <td id=\"T_49057_row4_col0\" class=\"data row4 col0\" >0</td>\n",
              "      <td id=\"T_49057_row4_col1\" class=\"data row4 col1\" >107</td>\n",
              "      <td id=\"T_49057_row4_col2\" class=\"data row4 col2\" >253</td>\n",
              "      <td id=\"T_49057_row4_col3\" class=\"data row4 col3\" >253</td>\n",
              "      <td id=\"T_49057_row4_col4\" class=\"data row4 col4\" >230</td>\n",
              "      <td id=\"T_49057_row4_col5\" class=\"data row4 col5\" >48</td>\n",
              "      <td id=\"T_49057_row4_col6\" class=\"data row4 col6\" >0</td>\n",
              "      <td id=\"T_49057_row4_col7\" class=\"data row4 col7\" >0</td>\n",
              "      <td id=\"T_49057_row4_col8\" class=\"data row4 col8\" >0</td>\n",
              "      <td id=\"T_49057_row4_col9\" class=\"data row4 col9\" >0</td>\n",
              "      <td id=\"T_49057_row4_col10\" class=\"data row4 col10\" >0</td>\n",
              "      <td id=\"T_49057_row4_col11\" class=\"data row4 col11\" >192</td>\n",
              "      <td id=\"T_49057_row4_col12\" class=\"data row4 col12\" >253</td>\n",
              "      <td id=\"T_49057_row4_col13\" class=\"data row4 col13\" >253</td>\n",
              "      <td id=\"T_49057_row4_col14\" class=\"data row4 col14\" >156</td>\n",
              "      <td id=\"T_49057_row4_col15\" class=\"data row4 col15\" >0</td>\n",
              "      <td id=\"T_49057_row4_col16\" class=\"data row4 col16\" >0</td>\n",
              "      <td id=\"T_49057_row4_col17\" class=\"data row4 col17\" >0</td>\n",
              "    </tr>\n",
              "    <tr>\n",
              "      <th id=\"T_49057_level0_row5\" class=\"row_heading level0 row5\" >5</th>\n",
              "      <td id=\"T_49057_row5_col0\" class=\"data row5 col0\" >0</td>\n",
              "      <td id=\"T_49057_row5_col1\" class=\"data row5 col1\" >3</td>\n",
              "      <td id=\"T_49057_row5_col2\" class=\"data row5 col2\" >20</td>\n",
              "      <td id=\"T_49057_row5_col3\" class=\"data row5 col3\" >20</td>\n",
              "      <td id=\"T_49057_row5_col4\" class=\"data row5 col4\" >15</td>\n",
              "      <td id=\"T_49057_row5_col5\" class=\"data row5 col5\" >0</td>\n",
              "      <td id=\"T_49057_row5_col6\" class=\"data row5 col6\" >0</td>\n",
              "      <td id=\"T_49057_row5_col7\" class=\"data row5 col7\" >0</td>\n",
              "      <td id=\"T_49057_row5_col8\" class=\"data row5 col8\" >0</td>\n",
              "      <td id=\"T_49057_row5_col9\" class=\"data row5 col9\" >0</td>\n",
              "      <td id=\"T_49057_row5_col10\" class=\"data row5 col10\" >43</td>\n",
              "      <td id=\"T_49057_row5_col11\" class=\"data row5 col11\" >224</td>\n",
              "      <td id=\"T_49057_row5_col12\" class=\"data row5 col12\" >253</td>\n",
              "      <td id=\"T_49057_row5_col13\" class=\"data row5 col13\" >245</td>\n",
              "      <td id=\"T_49057_row5_col14\" class=\"data row5 col14\" >74</td>\n",
              "      <td id=\"T_49057_row5_col15\" class=\"data row5 col15\" >0</td>\n",
              "      <td id=\"T_49057_row5_col16\" class=\"data row5 col16\" >0</td>\n",
              "      <td id=\"T_49057_row5_col17\" class=\"data row5 col17\" >0</td>\n",
              "    </tr>\n",
              "    <tr>\n",
              "      <th id=\"T_49057_level0_row6\" class=\"row_heading level0 row6\" >6</th>\n",
              "      <td id=\"T_49057_row6_col0\" class=\"data row6 col0\" >0</td>\n",
              "      <td id=\"T_49057_row6_col1\" class=\"data row6 col1\" >0</td>\n",
              "      <td id=\"T_49057_row6_col2\" class=\"data row6 col2\" >0</td>\n",
              "      <td id=\"T_49057_row6_col3\" class=\"data row6 col3\" >0</td>\n",
              "      <td id=\"T_49057_row6_col4\" class=\"data row6 col4\" >0</td>\n",
              "      <td id=\"T_49057_row6_col5\" class=\"data row6 col5\" >0</td>\n",
              "      <td id=\"T_49057_row6_col6\" class=\"data row6 col6\" >0</td>\n",
              "      <td id=\"T_49057_row6_col7\" class=\"data row6 col7\" >0</td>\n",
              "      <td id=\"T_49057_row6_col8\" class=\"data row6 col8\" >0</td>\n",
              "      <td id=\"T_49057_row6_col9\" class=\"data row6 col9\" >0</td>\n",
              "      <td id=\"T_49057_row6_col10\" class=\"data row6 col10\" >249</td>\n",
              "      <td id=\"T_49057_row6_col11\" class=\"data row6 col11\" >253</td>\n",
              "      <td id=\"T_49057_row6_col12\" class=\"data row6 col12\" >245</td>\n",
              "      <td id=\"T_49057_row6_col13\" class=\"data row6 col13\" >126</td>\n",
              "      <td id=\"T_49057_row6_col14\" class=\"data row6 col14\" >0</td>\n",
              "      <td id=\"T_49057_row6_col15\" class=\"data row6 col15\" >0</td>\n",
              "      <td id=\"T_49057_row6_col16\" class=\"data row6 col16\" >0</td>\n",
              "      <td id=\"T_49057_row6_col17\" class=\"data row6 col17\" >0</td>\n",
              "    </tr>\n",
              "    <tr>\n",
              "      <th id=\"T_49057_level0_row7\" class=\"row_heading level0 row7\" >7</th>\n",
              "      <td id=\"T_49057_row7_col0\" class=\"data row7 col0\" >0</td>\n",
              "      <td id=\"T_49057_row7_col1\" class=\"data row7 col1\" >0</td>\n",
              "      <td id=\"T_49057_row7_col2\" class=\"data row7 col2\" >0</td>\n",
              "      <td id=\"T_49057_row7_col3\" class=\"data row7 col3\" >0</td>\n",
              "      <td id=\"T_49057_row7_col4\" class=\"data row7 col4\" >0</td>\n",
              "      <td id=\"T_49057_row7_col5\" class=\"data row7 col5\" >0</td>\n",
              "      <td id=\"T_49057_row7_col6\" class=\"data row7 col6\" >0</td>\n",
              "      <td id=\"T_49057_row7_col7\" class=\"data row7 col7\" >14</td>\n",
              "      <td id=\"T_49057_row7_col8\" class=\"data row7 col8\" >101</td>\n",
              "      <td id=\"T_49057_row7_col9\" class=\"data row7 col9\" >223</td>\n",
              "      <td id=\"T_49057_row7_col10\" class=\"data row7 col10\" >253</td>\n",
              "      <td id=\"T_49057_row7_col11\" class=\"data row7 col11\" >248</td>\n",
              "      <td id=\"T_49057_row7_col12\" class=\"data row7 col12\" >124</td>\n",
              "      <td id=\"T_49057_row7_col13\" class=\"data row7 col13\" >0</td>\n",
              "      <td id=\"T_49057_row7_col14\" class=\"data row7 col14\" >0</td>\n",
              "      <td id=\"T_49057_row7_col15\" class=\"data row7 col15\" >0</td>\n",
              "      <td id=\"T_49057_row7_col16\" class=\"data row7 col16\" >0</td>\n",
              "      <td id=\"T_49057_row7_col17\" class=\"data row7 col17\" >0</td>\n",
              "    </tr>\n",
              "    <tr>\n",
              "      <th id=\"T_49057_level0_row8\" class=\"row_heading level0 row8\" >8</th>\n",
              "      <td id=\"T_49057_row8_col0\" class=\"data row8 col0\" >0</td>\n",
              "      <td id=\"T_49057_row8_col1\" class=\"data row8 col1\" >0</td>\n",
              "      <td id=\"T_49057_row8_col2\" class=\"data row8 col2\" >0</td>\n",
              "      <td id=\"T_49057_row8_col3\" class=\"data row8 col3\" >0</td>\n",
              "      <td id=\"T_49057_row8_col4\" class=\"data row8 col4\" >0</td>\n",
              "      <td id=\"T_49057_row8_col5\" class=\"data row8 col5\" >11</td>\n",
              "      <td id=\"T_49057_row8_col6\" class=\"data row8 col6\" >166</td>\n",
              "      <td id=\"T_49057_row8_col7\" class=\"data row8 col7\" >239</td>\n",
              "      <td id=\"T_49057_row8_col8\" class=\"data row8 col8\" >253</td>\n",
              "      <td id=\"T_49057_row8_col9\" class=\"data row8 col9\" >253</td>\n",
              "      <td id=\"T_49057_row8_col10\" class=\"data row8 col10\" >253</td>\n",
              "      <td id=\"T_49057_row8_col11\" class=\"data row8 col11\" >187</td>\n",
              "      <td id=\"T_49057_row8_col12\" class=\"data row8 col12\" >30</td>\n",
              "      <td id=\"T_49057_row8_col13\" class=\"data row8 col13\" >0</td>\n",
              "      <td id=\"T_49057_row8_col14\" class=\"data row8 col14\" >0</td>\n",
              "      <td id=\"T_49057_row8_col15\" class=\"data row8 col15\" >0</td>\n",
              "      <td id=\"T_49057_row8_col16\" class=\"data row8 col16\" >0</td>\n",
              "      <td id=\"T_49057_row8_col17\" class=\"data row8 col17\" >0</td>\n",
              "    </tr>\n",
              "    <tr>\n",
              "      <th id=\"T_49057_level0_row9\" class=\"row_heading level0 row9\" >9</th>\n",
              "      <td id=\"T_49057_row9_col0\" class=\"data row9 col0\" >0</td>\n",
              "      <td id=\"T_49057_row9_col1\" class=\"data row9 col1\" >0</td>\n",
              "      <td id=\"T_49057_row9_col2\" class=\"data row9 col2\" >0</td>\n",
              "      <td id=\"T_49057_row9_col3\" class=\"data row9 col3\" >0</td>\n",
              "      <td id=\"T_49057_row9_col4\" class=\"data row9 col4\" >0</td>\n",
              "      <td id=\"T_49057_row9_col5\" class=\"data row9 col5\" >16</td>\n",
              "      <td id=\"T_49057_row9_col6\" class=\"data row9 col6\" >248</td>\n",
              "      <td id=\"T_49057_row9_col7\" class=\"data row9 col7\" >250</td>\n",
              "      <td id=\"T_49057_row9_col8\" class=\"data row9 col8\" >253</td>\n",
              "      <td id=\"T_49057_row9_col9\" class=\"data row9 col9\" >253</td>\n",
              "      <td id=\"T_49057_row9_col10\" class=\"data row9 col10\" >253</td>\n",
              "      <td id=\"T_49057_row9_col11\" class=\"data row9 col11\" >253</td>\n",
              "      <td id=\"T_49057_row9_col12\" class=\"data row9 col12\" >232</td>\n",
              "      <td id=\"T_49057_row9_col13\" class=\"data row9 col13\" >213</td>\n",
              "      <td id=\"T_49057_row9_col14\" class=\"data row9 col14\" >111</td>\n",
              "      <td id=\"T_49057_row9_col15\" class=\"data row9 col15\" >2</td>\n",
              "      <td id=\"T_49057_row9_col16\" class=\"data row9 col16\" >0</td>\n",
              "      <td id=\"T_49057_row9_col17\" class=\"data row9 col17\" >0</td>\n",
              "    </tr>\n",
              "    <tr>\n",
              "      <th id=\"T_49057_level0_row10\" class=\"row_heading level0 row10\" >10</th>\n",
              "      <td id=\"T_49057_row10_col0\" class=\"data row10 col0\" >0</td>\n",
              "      <td id=\"T_49057_row10_col1\" class=\"data row10 col1\" >0</td>\n",
              "      <td id=\"T_49057_row10_col2\" class=\"data row10 col2\" >0</td>\n",
              "      <td id=\"T_49057_row10_col3\" class=\"data row10 col3\" >0</td>\n",
              "      <td id=\"T_49057_row10_col4\" class=\"data row10 col4\" >0</td>\n",
              "      <td id=\"T_49057_row10_col5\" class=\"data row10 col5\" >0</td>\n",
              "      <td id=\"T_49057_row10_col6\" class=\"data row10 col6\" >0</td>\n",
              "      <td id=\"T_49057_row10_col7\" class=\"data row10 col7\" >43</td>\n",
              "      <td id=\"T_49057_row10_col8\" class=\"data row10 col8\" >98</td>\n",
              "      <td id=\"T_49057_row10_col9\" class=\"data row10 col9\" >98</td>\n",
              "      <td id=\"T_49057_row10_col10\" class=\"data row10 col10\" >208</td>\n",
              "      <td id=\"T_49057_row10_col11\" class=\"data row10 col11\" >253</td>\n",
              "      <td id=\"T_49057_row10_col12\" class=\"data row10 col12\" >253</td>\n",
              "      <td id=\"T_49057_row10_col13\" class=\"data row10 col13\" >253</td>\n",
              "      <td id=\"T_49057_row10_col14\" class=\"data row10 col14\" >253</td>\n",
              "      <td id=\"T_49057_row10_col15\" class=\"data row10 col15\" >187</td>\n",
              "      <td id=\"T_49057_row10_col16\" class=\"data row10 col16\" >22</td>\n",
              "      <td id=\"T_49057_row10_col17\" class=\"data row10 col17\" >0</td>\n",
              "    </tr>\n",
              "  </tbody>\n",
              "</table>\n"
            ],
            "text/plain": [
              "<pandas.io.formats.style.Styler at 0x7fe07fbc5550>"
            ]
          },
          "metadata": {},
          "execution_count": 14
        }
      ],
      "source": [
        "im3_t = tensor(im3)\n",
        "df = pd.DataFrame(im3_t[4:15,4:22])\n",
        "df.style.set_properties(**{'font-size':'6pt'}).background_gradient('Greys')"
      ]
    },
    {
      "cell_type": "markdown",
      "metadata": {
        "id": "LXYAbCNJ2g2p"
      },
      "source": [
        "## First Try: Pixel Similarity"
      ]
    },
    {
      "cell_type": "code",
      "execution_count": 18,
      "metadata": {
        "id": "ut6quOxZ2g2q",
        "outputId": "22057a25-e1e8-441b-e186-d91c1949618c",
        "colab": {
          "base_uri": "https://localhost:8080/"
        }
      },
      "outputs": [
        {
          "output_type": "execute_result",
          "data": {
            "text/plain": [
              "(6131, 6265)"
            ]
          },
          "metadata": {},
          "execution_count": 18
        }
      ],
      "source": [
        "seven_tensors = [tensor(Image.open(o)) for o in sevens]\n",
        "three_tensors = [tensor(Image.open(o)) for o in threes]\n",
        "len(three_tensors),len(seven_tensors)"
      ]
    },
    {
      "cell_type": "code",
      "execution_count": 19,
      "metadata": {
        "id": "Boplfik-2g2r",
        "outputId": "ece91f96-e5fc-46e6-d254-c7076f5fb691",
        "colab": {
          "base_uri": "https://localhost:8080/",
          "height": 85
        }
      },
      "outputs": [
        {
          "output_type": "display_data",
          "data": {
            "image/png": "[encoded data removed]",
            "text/plain": [
              "<Figure size 72x72 with 1 Axes>"
            ]
          },
          "metadata": {
            "needs_background": "light"
          }
        }
      ],
      "source": [
        "show_image(three_tensors[1]);"
      ]
    },
    {
      "cell_type": "code",
      "source": [
        "three_tensors[1].shape"
      ],
      "metadata": {
        "id": "fWLUq5IyB1JZ",
        "outputId": "ceb093d6-9d81-4caf-a127-e8d3262d5a83",
        "colab": {
          "base_uri": "https://localhost:8080/"
        }
      },
      "execution_count": 21,
      "outputs": [
        {
          "output_type": "execute_result",
          "data": {
            "text/plain": [
              "torch.Size([28, 28])"
            ]
          },
          "metadata": {},
          "execution_count": 21
        }
      ]
    },
    {
      "cell_type": "code",
      "source": [
        "type(three_tensors)"
      ],
      "metadata": {
        "id": "TQW8zdu1B4_S",
        "outputId": "25842bab-ba16-4eb3-d458-07401dcf7f53",
        "colab": {
          "base_uri": "https://localhost:8080/"
        }
      },
      "execution_count": 22,
      "outputs": [
        {
          "output_type": "execute_result",
          "data": {
            "text/plain": [
              "list"
            ]
          },
          "metadata": {},
          "execution_count": 22
        }
      ]
    },
    {
      "cell_type": "code",
      "execution_count": 20,
      "metadata": {
        "id": "cjvbFEnM2g2r",
        "outputId": "b1dd1870-1614-449d-f3e7-0e6ecfe1ce22",
        "colab": {
          "base_uri": "https://localhost:8080/"
        }
      },
      "outputs": [
        {
          "output_type": "execute_result",
          "data": {
            "text/plain": [
              "torch.Size([6131, 28, 28])"
            ]
          },
          "metadata": {},
          "execution_count": 20
        }
      ],
      "source": [
        "stacked_sevens = torch.stack(seven_tensors).float()/255\n",
        "stacked_threes = torch.stack(three_tensors).float()/255\n",
        "stacked_threes.shape"
      ]
    },
    {
      "cell_type": "code",
      "execution_count": 23,
      "metadata": {
        "id": "g4g95Y3c2g2s",
        "outputId": "4d0c1eea-8bc1-4bfc-a4d0-8cc962166ea9",
        "colab": {
          "base_uri": "https://localhost:8080/"
        }
      },
      "outputs": [
        {
          "output_type": "execute_result",
          "data": {
            "text/plain": [
              "3"
            ]
          },
          "metadata": {},
          "execution_count": 23
        }
      ],
      "source": [
        "len(stacked_threes.shape)"
      ]
    },
    {
      "cell_type": "code",
      "execution_count": 24,
      "metadata": {
        "id": "Xzm1b6e-2g2s",
        "outputId": "c5590ae0-38b1-4b1c-80d1-70fdc7a9c3a0",
        "colab": {
          "base_uri": "https://localhost:8080/"
        }
      },
      "outputs": [
        {
          "output_type": "execute_result",
          "data": {
            "text/plain": [
              "3"
            ]
          },
          "metadata": {},
          "execution_count": 24
        }
      ],
      "source": [
        "stacked_threes.ndim"
      ]
    },
    {
      "cell_type": "code",
      "execution_count": 25,
      "metadata": {
        "id": "ZnVyiwky2g2t",
        "outputId": "49380976-f769-43b5-944d-6da288304bf0",
        "colab": {
          "base_uri": "https://localhost:8080/",
          "height": 85
        }
      },
      "outputs": [
        {
          "output_type": "display_data",
          "data": {
            "image/png": "[encoded data removed]",
            "text/plain": [
              "<Figure size 72x72 with 1 Axes>"
            ]
          },
          "metadata": {
            "needs_background": "light"
          }
        }
      ],
      "source": [
        "mean3 = stacked_threes.mean(0)\n",
        "show_image(mean3);"
      ]
    },
    {
      "cell_type": "code",
      "execution_count": 26,
      "metadata": {
        "id": "ycPa9pH12g2t",
        "outputId": "5a04fa70-bd86-41f5-a359-b7870d9e5ee7",
        "colab": {
          "base_uri": "https://localhost:8080/",
          "height": 85
        }
      },
      "outputs": [
        {
          "output_type": "display_data",
          "data": {
            "image/png": "[encoded data removed]",
            "text/plain": [
              "<Figure size 72x72 with 1 Axes>"
            ]
          },
          "metadata": {
            "needs_background": "light"
          }
        }
      ],
      "source": [
        "mean7 = stacked_sevens.mean(0)\n",
        "show_image(mean7);"
      ]
    },
    {
      "cell_type": "code",
      "execution_count": 27,
      "metadata": {
        "id": "MeZCr8iI2g2u",
        "outputId": "a8d7ffe9-6df5-443f-f201-48528533297f",
        "colab": {
          "base_uri": "https://localhost:8080/",
          "height": 85
        }
      },
      "outputs": [
        {
          "output_type": "display_data",
          "data": {
            "image/png": "[encoded data removed]",
            "text/plain": [
              "<Figure size 72x72 with 1 Axes>"
            ]
          },
          "metadata": {
            "needs_background": "light"
          }
        }
      ],
      "source": [
        "a_3 = stacked_threes[1]\n",
        "show_image(a_3);"
      ]
    },
    {
      "cell_type": "code",
      "execution_count": 28,
      "metadata": {
        "id": "KKdTzBF72g2v",
        "outputId": "6ff33630-d9af-415f-f576-2325ff8a8b42",
        "colab": {
          "base_uri": "https://localhost:8080/"
        }
      },
      "outputs": [
        {
          "output_type": "execute_result",
          "data": {
            "text/plain": [
              "(tensor(0.1114), tensor(0.2021))"
            ]
          },
          "metadata": {},
          "execution_count": 28
        }
      ],
      "source": [
        "dist_3_abs = (a_3 - mean3).abs().mean()\n",
        "dist_3_sqr = ((a_3 - mean3)**2).mean().sqrt()\n",
        "dist_3_abs,dist_3_sqr"
      ]
    },
    {
      "cell_type": "code",
      "execution_count": 29,
      "metadata": {
        "id": "dfPqCT3l2g2v",
        "outputId": "2312a536-7323-4ac1-dbd9-1d3857df5d31",
        "colab": {
          "base_uri": "https://localhost:8080/"
        }
      },
      "outputs": [
        {
          "output_type": "execute_result",
          "data": {
            "text/plain": [
              "(tensor(0.1586), tensor(0.3021))"
            ]
          },
          "metadata": {},
          "execution_count": 29
        }
      ],
      "source": [
        "dist_7_abs = (a_3 - mean7).abs().mean()\n",
        "dist_7_sqr = ((a_3 - mean7)**2).mean().sqrt()\n",
        "dist_7_abs,dist_7_sqr"
      ]
    },
    {
      "cell_type": "code",
      "execution_count": 30,
      "metadata": {
        "id": "4kZUc1Ze2g2v",
        "outputId": "a2548035-0b33-413e-d2bd-eac861250b96",
        "colab": {
          "base_uri": "https://localhost:8080/"
        }
      },
      "outputs": [
        {
          "output_type": "execute_result",
          "data": {
            "text/plain": [
              "(tensor(0.1586), tensor(0.3021))"
            ]
          },
          "metadata": {},
          "execution_count": 30
        }
      ],
      "source": [
        "F.l1_loss(a_3.float(),mean7), F.mse_loss(a_3,mean7).sqrt()"
      ]
    },
    {
      "cell_type": "markdown",
      "metadata": {
        "id": "TkVjSrrj2g2w"
      },
      "source": [
        "### NumPy Arrays and PyTorch Tensors"
      ]
    },
    {
      "cell_type": "code",
      "execution_count": 31,
      "metadata": {
        "id": "Dd_gTnNT2g2w"
      },
      "outputs": [],
      "source": [
        "data = [[1,2,3],[4,5,6]]\n",
        "arr = array (data)\n",
        "tns = tensor(data)"
      ]
    },
    {
      "cell_type": "code",
      "execution_count": 32,
      "metadata": {
        "id": "55Zipgml2g2w",
        "outputId": "1bd116af-dfb7-43de-b7ec-d7b7cc55793c",
        "colab": {
          "base_uri": "https://localhost:8080/"
        }
      },
      "outputs": [
        {
          "output_type": "execute_result",
          "data": {
            "text/plain": [
              "array([[1, 2, 3],\n",
              "       [4, 5, 6]])"
            ]
          },
          "metadata": {},
          "execution_count": 32
        }
      ],
      "source": [
        "arr  # numpy"
      ]
    },
    {
      "cell_type": "code",
      "execution_count": 33,
      "metadata": {
        "id": "Q-912boH2g2w",
        "outputId": "354b42ef-1809-42bc-98e5-0378e5369579",
        "colab": {
          "base_uri": "https://localhost:8080/"
        }
      },
      "outputs": [
        {
          "output_type": "execute_result",
          "data": {
            "text/plain": [
              "tensor([[1, 2, 3],\n",
              "        [4, 5, 6]])"
            ]
          },
          "metadata": {},
          "execution_count": 33
        }
      ],
      "source": [
        "tns  # pytorch"
      ]
    },
    {
      "cell_type": "code",
      "execution_count": 34,
      "metadata": {
        "id": "E-MRVBfr2g2x",
        "outputId": "a9a8a539-d53c-4372-cba9-2fa86103f14f",
        "colab": {
          "base_uri": "https://localhost:8080/"
        }
      },
      "outputs": [
        {
          "output_type": "execute_result",
          "data": {
            "text/plain": [
              "tensor([4, 5, 6])"
            ]
          },
          "metadata": {},
          "execution_count": 34
        }
      ],
      "source": [
        "tns[1]"
      ]
    },
    {
      "cell_type": "code",
      "source": [
        "# don't need colons at end indices but good to be explicit\n",
        "tns[1,:]"
      ],
      "metadata": {
        "id": "8LU5r85OH1CL",
        "outputId": "e5206c2b-549f-4de0-cd7d-ca08a414eba6",
        "colab": {
          "base_uri": "https://localhost:8080/"
        }
      },
      "execution_count": 36,
      "outputs": [
        {
          "output_type": "execute_result",
          "data": {
            "text/plain": [
              "tensor([4, 5, 6])"
            ]
          },
          "metadata": {},
          "execution_count": 36
        }
      ]
    },
    {
      "cell_type": "code",
      "execution_count": 35,
      "metadata": {
        "id": "RYVhdx1P2g2x",
        "outputId": "e928eb78-ec70-4ca0-e99b-8c6c1e957b7b",
        "colab": {
          "base_uri": "https://localhost:8080/"
        }
      },
      "outputs": [
        {
          "output_type": "execute_result",
          "data": {
            "text/plain": [
              "tensor([2, 5])"
            ]
          },
          "metadata": {},
          "execution_count": 35
        }
      ],
      "source": [
        "tns[:,1]"
      ]
    },
    {
      "cell_type": "code",
      "execution_count": 37,
      "metadata": {
        "id": "un9MlWNm2g2x",
        "outputId": "80517b5d-3abf-4b53-f1ee-05ab9056b6fe",
        "colab": {
          "base_uri": "https://localhost:8080/"
        }
      },
      "outputs": [
        {
          "output_type": "execute_result",
          "data": {
            "text/plain": [
              "tensor([5, 6])"
            ]
          },
          "metadata": {},
          "execution_count": 37
        }
      ],
      "source": [
        "tns[1,1:3]"
      ]
    },
    {
      "cell_type": "code",
      "execution_count": 38,
      "metadata": {
        "id": "jz2xFM9R2g2x",
        "outputId": "63655c28-f83c-444e-8460-9cbab31b41bc",
        "colab": {
          "base_uri": "https://localhost:8080/"
        }
      },
      "outputs": [
        {
          "output_type": "execute_result",
          "data": {
            "text/plain": [
              "tensor([[2, 3, 4],\n",
              "        [5, 6, 7]])"
            ]
          },
          "metadata": {},
          "execution_count": 38
        }
      ],
      "source": [
        "tns+1"
      ]
    },
    {
      "cell_type": "code",
      "execution_count": 39,
      "metadata": {
        "id": "wZYuQXgs2g2y",
        "outputId": "9ff93c8f-0faa-4fbf-9323-64432b46c923",
        "colab": {
          "base_uri": "https://localhost:8080/",
          "height": 35
        }
      },
      "outputs": [
        {
          "output_type": "execute_result",
          "data": {
            "application/vnd.google.colaboratory.intrinsic+json": {
              "type": "string"
            },
            "text/plain": [
              "'torch.LongTensor'"
            ]
          },
          "metadata": {},
          "execution_count": 39
        }
      ],
      "source": [
        "tns.type()"
      ]
    },
    {
      "cell_type": "code",
      "execution_count": 40,
      "metadata": {
        "id": "bh5exYJO2g2y",
        "outputId": "8ee7548f-dc6e-4857-99e6-a7e64775d923",
        "colab": {
          "base_uri": "https://localhost:8080/"
        }
      },
      "outputs": [
        {
          "output_type": "execute_result",
          "data": {
            "text/plain": [
              "tensor([[1.5000, 3.0000, 4.5000],\n",
              "        [6.0000, 7.5000, 9.0000]])"
            ]
          },
          "metadata": {},
          "execution_count": 40
        }
      ],
      "source": [
        "tns*1.5"
      ]
    },
    {
      "cell_type": "markdown",
      "metadata": {
        "id": "PQWcBdJc2g2y"
      },
      "source": [
        "## Computing Metrics Using Broadcasting"
      ]
    },
    {
      "cell_type": "code",
      "execution_count": 43,
      "metadata": {
        "id": "5zpdBk-A2g2y",
        "outputId": "adc89be6-5531-4586-9985-12d6bc8b3583",
        "colab": {
          "base_uri": "https://localhost:8080/"
        }
      },
      "outputs": [
        {
          "output_type": "execute_result",
          "data": {
            "text/plain": [
              "(torch.Size([1010, 28, 28]), torch.Size([1028, 28, 28]))"
            ]
          },
          "metadata": {},
          "execution_count": 43
        }
      ],
      "source": [
        "valid_3_tens = torch.stack([tensor(Image.open(o)) \n",
        "                            for o in (path/'valid'/'3').ls()])\n",
        "valid_3_tens = valid_3_tens.float()/255\n",
        "valid_7_tens = torch.stack([tensor(Image.open(o)) \n",
        "                            for o in (path/'valid'/'7').ls()])\n",
        "valid_7_tens = valid_7_tens.float()/255\n",
        "valid_3_tens.shape,valid_7_tens.shape"
      ]
    },
    {
      "cell_type": "code",
      "execution_count": 44,
      "metadata": {
        "id": "4mS3LqQa2g2z",
        "outputId": "64027030-35b3-4707-b2e7-365bb3e93dac",
        "colab": {
          "base_uri": "https://localhost:8080/"
        }
      },
      "outputs": [
        {
          "output_type": "execute_result",
          "data": {
            "text/plain": [
              "tensor(0.1114)"
            ]
          },
          "metadata": {},
          "execution_count": 44
        }
      ],
      "source": [
        "def mnist_distance(a,b): return (a-b).abs().mean((-1,-2))\n",
        "mnist_distance(a_3, mean3)"
      ]
    },
    {
      "cell_type": "code",
      "execution_count": 45,
      "metadata": {
        "id": "yR8IM49F2g2z",
        "outputId": "12e80374-3f2e-4b01-b5d4-3ced3ce3af41",
        "colab": {
          "base_uri": "https://localhost:8080/"
        }
      },
      "outputs": [
        {
          "output_type": "execute_result",
          "data": {
            "text/plain": [
              "(tensor([0.1170, 0.1240, 0.1133,  ..., 0.1325, 0.1252, 0.1162]),\n",
              " torch.Size([1010]))"
            ]
          },
          "metadata": {},
          "execution_count": 45
        }
      ],
      "source": [
        "valid_3_dist = mnist_distance(valid_3_tens, mean3)\n",
        "valid_3_dist, valid_3_dist.shape"
      ]
    },
    {
      "cell_type": "code",
      "execution_count": 46,
      "metadata": {
        "id": "LgHOs-Fu2g2z",
        "outputId": "1fa559ae-10c9-467e-ceb7-edbb36be4e01",
        "colab": {
          "base_uri": "https://localhost:8080/"
        }
      },
      "outputs": [
        {
          "output_type": "execute_result",
          "data": {
            "text/plain": [
              "tensor([2, 3, 4])"
            ]
          },
          "metadata": {},
          "execution_count": 46
        }
      ],
      "source": [
        "tensor([1,2,3]) + tensor([1,1,1])"
      ]
    },
    {
      "cell_type": "code",
      "execution_count": 47,
      "metadata": {
        "id": "WxuQs7T12g2z",
        "outputId": "092d67e9-e8d1-46cd-a5d6-9d2963176ac3",
        "colab": {
          "base_uri": "https://localhost:8080/"
        }
      },
      "outputs": [
        {
          "output_type": "execute_result",
          "data": {
            "text/plain": [
              "torch.Size([1010, 28, 28])"
            ]
          },
          "metadata": {},
          "execution_count": 47
        }
      ],
      "source": [
        "(valid_3_tens-mean3).shape"
      ]
    },
    {
      "cell_type": "code",
      "execution_count": 48,
      "metadata": {
        "id": "zeO5ymvk2g2z"
      },
      "outputs": [],
      "source": [
        "def is_3(x): return mnist_distance(x,mean3) < mnist_distance(x,mean7)"
      ]
    },
    {
      "cell_type": "code",
      "execution_count": 49,
      "metadata": {
        "id": "RjkaJbQ12g2z",
        "outputId": "59a5c120-bcec-449e-d880-9207950c2145",
        "colab": {
          "base_uri": "https://localhost:8080/"
        }
      },
      "outputs": [
        {
          "output_type": "execute_result",
          "data": {
            "text/plain": [
              "(tensor(True), tensor(1.))"
            ]
          },
          "metadata": {},
          "execution_count": 49
        }
      ],
      "source": [
        "is_3(a_3), is_3(a_3).float()"
      ]
    },
    {
      "cell_type": "code",
      "execution_count": 50,
      "metadata": {
        "id": "iwbO4Vl52g20",
        "outputId": "10beba61-1d4f-40bd-cbfe-2b2f64a21a30",
        "colab": {
          "base_uri": "https://localhost:8080/"
        }
      },
      "outputs": [
        {
          "output_type": "execute_result",
          "data": {
            "text/plain": [
              "tensor([True, True, True,  ..., True, True, True])"
            ]
          },
          "metadata": {},
          "execution_count": 50
        }
      ],
      "source": [
        "is_3(valid_3_tens)"
      ]
    },
    {
      "cell_type": "code",
      "execution_count": 51,
      "metadata": {
        "id": "f8nlsfzn2g20",
        "outputId": "87832019-2d57-4405-ce0b-b5601dd022b0",
        "colab": {
          "base_uri": "https://localhost:8080/"
        }
      },
      "outputs": [
        {
          "output_type": "execute_result",
          "data": {
            "text/plain": [
              "(tensor(0.9168), tensor(0.9854), tensor(0.9511))"
            ]
          },
          "metadata": {},
          "execution_count": 51
        }
      ],
      "source": [
        "accuracy_3s =      is_3(valid_3_tens).float() .mean()\n",
        "accuracy_7s = (1 - is_3(valid_7_tens).float()).mean()\n",
        "\n",
        "accuracy_3s,accuracy_7s,(accuracy_3s+accuracy_7s)/2"
      ]
    },
    {
      "cell_type": "markdown",
      "metadata": {
        "id": "DxCDvwf12g20"
      },
      "source": [
        "## Stochastic Gradient Descent (SGD)"
      ]
    },
    {
      "cell_type": "code",
      "execution_count": 202,
      "metadata": {
        "id": "T6yZuTSV2g20",
        "outputId": "4fb69a92-fdc5-4a2e-fb0f-8e474cc1611f",
        "colab": {
          "base_uri": "https://localhost:8080/",
          "height": 125
        }
      },
      "outputs": [
        {
          "output_type": "execute_result",
          "data": {
            "text/plain": [
              "<graphviz.files.Source at 0x7fe07d22de10>"
            ],
            "image/svg+xml": "<?xml version=\"1.0\" encoding=\"UTF-8\" standalone=\"no\"?>\n<!DOCTYPE svg PUBLIC \"-//W3C//DTD SVG 1.1//EN\"\n \"http://www.w3.org/Graphics/SVG/1.1/DTD/svg11.dtd\">\n<!-- Generated by graphviz version 2.40.1 (20161225.0304)\n -->\n<!-- Title: G Pages: 1 -->\n<svg width=\"597pt\" height=\"78pt\"\n viewBox=\"0.00 0.00 596.69 78.00\" xmlns=\"http://www.w3.org/2000/svg\" xmlns:xlink=\"http://www.w3.org/1999/xlink\">\n<g id=\"graph0\" class=\"graph\" transform=\"scale(1 1) rotate(0) translate(4 74)\">\n<title>G</title>\n<polygon fill=\"#ffffff\" stroke=\"transparent\" points=\"-4,4 -4,-74 592.6863,-74 592.6863,4 -4,4\"/>\n<!-- init -->\n<g id=\"node1\" class=\"node\">\n<title>init</title>\n<ellipse fill=\"none\" stroke=\"#000000\" cx=\"27\" cy=\"-18\" rx=\"27\" ry=\"18\"/>\n<text text-anchor=\"middle\" x=\"27\" y=\"-14.3\" font-family=\"Times,serif\" font-size=\"14.00\" fill=\"#000000\">init</text>\n</g>\n<!-- predict -->\n<g id=\"node2\" class=\"node\">\n<title>predict</title>\n<ellipse fill=\"none\" stroke=\"#000000\" cx=\"127.3968\" cy=\"-18\" rx=\"36.2938\" ry=\"18\"/>\n<text text-anchor=\"middle\" x=\"127.3968\" y=\"-14.3\" font-family=\"Times,serif\" font-size=\"14.00\" fill=\"#000000\">predict</text>\n</g>\n<!-- init&#45;&gt;predict -->\n<g id=\"edge1\" class=\"edge\">\n<title>init&#45;&gt;predict</title>\n<path fill=\"none\" stroke=\"#000000\" d=\"M54.1688,-18C62.3543,-18 71.5827,-18 80.6596,-18\"/>\n<polygon fill=\"#000000\" stroke=\"#000000\" points=\"80.7795,-21.5001 90.7795,-18 80.7795,-14.5001 80.7795,-21.5001\"/>\n</g>\n<!-- loss -->\n<g id=\"node3\" class=\"node\">\n<title>loss</title>\n<ellipse fill=\"none\" stroke=\"#000000\" cx=\"227.7935\" cy=\"-52\" rx=\"27\" ry=\"18\"/>\n<text text-anchor=\"middle\" x=\"227.7935\" y=\"-48.3\" font-family=\"Times,serif\" font-size=\"14.00\" fill=\"#000000\">loss</text>\n</g>\n<!-- predict&#45;&gt;loss -->\n<g id=\"edge2\" class=\"edge\">\n<title>predict&#45;&gt;loss</title>\n<path fill=\"none\" stroke=\"#000000\" d=\"M157.5191,-28.2011C168.9806,-32.0826 182.1139,-36.5303 193.9014,-40.5222\"/>\n<polygon fill=\"#000000\" stroke=\"#000000\" points=\"192.8259,-43.8532 203.4202,-43.7458 195.0713,-37.2231 192.8259,-43.8532\"/>\n</g>\n<!-- gradient -->\n<g id=\"node4\" class=\"node\">\n<title>gradient</title>\n<ellipse fill=\"none\" stroke=\"#000000\" cx=\"365.7399\" cy=\"-52\" rx=\"40.8928\" ry=\"18\"/>\n<text text-anchor=\"middle\" x=\"365.7399\" y=\"-48.3\" font-family=\"Times,serif\" font-size=\"14.00\" fill=\"#000000\">gradient</text>\n</g>\n<!-- loss&#45;&gt;gradient -->\n<g id=\"edge3\" class=\"edge\">\n<title>loss&#45;&gt;gradient</title>\n<path fill=\"none\" stroke=\"#000000\" d=\"M255.0473,-52C272.0415,-52 294.4481,-52 314.6545,-52\"/>\n<polygon fill=\"#000000\" stroke=\"#000000\" points=\"314.671,-55.5001 324.671,-52 314.671,-48.5001 314.671,-55.5001\"/>\n</g>\n<!-- step -->\n<g id=\"node5\" class=\"node\">\n<title>step</title>\n<ellipse fill=\"none\" stroke=\"#000000\" cx=\"470.6863\" cy=\"-18\" rx=\"27\" ry=\"18\"/>\n<text text-anchor=\"middle\" x=\"470.6863\" y=\"-14.3\" font-family=\"Times,serif\" font-size=\"14.00\" fill=\"#000000\">step</text>\n</g>\n<!-- gradient&#45;&gt;step -->\n<g id=\"edge4\" class=\"edge\">\n<title>gradient&#45;&gt;step</title>\n<path fill=\"none\" stroke=\"#000000\" d=\"M398.9456,-41.2422C410.9558,-37.3512 424.5297,-32.9536 436.6132,-29.0388\"/>\n<polygon fill=\"#000000\" stroke=\"#000000\" points=\"437.9112,-32.2975 446.3457,-25.8857 435.7537,-25.6382 437.9112,-32.2975\"/>\n</g>\n<!-- step&#45;&gt;predict -->\n<g id=\"edge6\" class=\"edge\">\n<title>step&#45;&gt;predict</title>\n<path fill=\"none\" stroke=\"#000000\" d=\"M443.4266,-18C384.9297,-18 246.7861,-18 174.0495,-18\"/>\n<polygon fill=\"#000000\" stroke=\"#000000\" points=\"173.8098,-14.5001 163.8098,-18 173.8097,-21.5001 173.8098,-14.5001\"/>\n<text text-anchor=\"middle\" x=\"289.7935\" y=\"-21.8\" font-family=\"Times,serif\" font-size=\"14.00\" fill=\"#000000\">repeat</text>\n</g>\n<!-- stop -->\n<g id=\"node6\" class=\"node\">\n<title>stop</title>\n<ellipse fill=\"none\" stroke=\"#000000\" cx=\"561.6863\" cy=\"-18\" rx=\"27\" ry=\"18\"/>\n<text text-anchor=\"middle\" x=\"561.6863\" y=\"-14.3\" font-family=\"Times,serif\" font-size=\"14.00\" fill=\"#000000\">stop</text>\n</g>\n<!-- step&#45;&gt;stop -->\n<g id=\"edge5\" class=\"edge\">\n<title>step&#45;&gt;stop</title>\n<path fill=\"none\" stroke=\"#000000\" d=\"M497.9893,-18C506.2676,-18 515.508,-18 524.3268,-18\"/>\n<polygon fill=\"#000000\" stroke=\"#000000\" points=\"524.4026,-21.5001 534.4025,-18 524.4025,-14.5001 524.4026,-21.5001\"/>\n</g>\n</g>\n</svg>\n"
          },
          "metadata": {},
          "execution_count": 202
        }
      ],
      "source": [
        "gv('''\n",
        "init->predict->loss->gradient->step->stop\n",
        "step->predict[label=repeat]\n",
        "''')"
      ]
    },
    {
      "cell_type": "code",
      "execution_count": 203,
      "metadata": {
        "id": "F_8Zm_Ia2g21"
      },
      "outputs": [],
      "source": [
        "def f(x): return x**2"
      ]
    },
    {
      "cell_type": "code",
      "execution_count": 204,
      "metadata": {
        "id": "5zueWsJn2g21",
        "outputId": "56c631e2-179f-4354-93e4-033e285c5601",
        "colab": {
          "base_uri": "https://localhost:8080/",
          "height": 279
        }
      },
      "outputs": [
        {
          "output_type": "display_data",
          "data": {
            "image/png": "[encoded data removed]",
            "text/plain": [
              "<Figure size 432x288 with 1 Axes>"
            ]
          },
          "metadata": {
            "needs_background": "light"
          }
        }
      ],
      "source": [
        "plot_function(f, 'x', 'x**2')"
      ]
    },
    {
      "cell_type": "code",
      "execution_count": 205,
      "metadata": {
        "id": "1TEEQkUO2g21",
        "outputId": "b4fa3f16-4985-456a-cfae-ef42d677fce3",
        "colab": {
          "base_uri": "https://localhost:8080/",
          "height": 279
        }
      },
      "outputs": [
        {
          "output_type": "display_data",
          "data": {
            "image/png": "[encoded data removed]",
            "text/plain": [
              "<Figure size 432x288 with 1 Axes>"
            ]
          },
          "metadata": {
            "needs_background": "light"
          }
        }
      ],
      "source": [
        "plot_function(f, 'x', 'x**2')\n",
        "plt.scatter(-1.5, f(-1.5), color='red');"
      ]
    },
    {
      "cell_type": "markdown",
      "metadata": {
        "id": "aoVuJIJZ2g22"
      },
      "source": [
        "### Calculating Gradients"
      ]
    },
    {
      "cell_type": "code",
      "execution_count": 206,
      "metadata": {
        "id": "NZtTLJMu2g22"
      },
      "outputs": [],
      "source": [
        "xt = tensor(3.).requires_grad_()"
      ]
    },
    {
      "cell_type": "code",
      "execution_count": 207,
      "metadata": {
        "id": "eZ7TbuOB2g22",
        "outputId": "ad91b404-f11c-4396-a066-3e869c596a51",
        "colab": {
          "base_uri": "https://localhost:8080/"
        }
      },
      "outputs": [
        {
          "output_type": "execute_result",
          "data": {
            "text/plain": [
              "tensor(9., grad_fn=<PowBackward0>)"
            ]
          },
          "metadata": {},
          "execution_count": 207
        }
      ],
      "source": [
        "yt = f(xt)\n",
        "yt"
      ]
    },
    {
      "cell_type": "code",
      "execution_count": 208,
      "metadata": {
        "id": "D4YaPfdN2g22"
      },
      "outputs": [],
      "source": [
        "yt.backward()"
      ]
    },
    {
      "cell_type": "code",
      "execution_count": 209,
      "metadata": {
        "id": "838VjpxJ2g22",
        "outputId": "458baf4e-a18b-4840-fe7e-3bbf11f58c5a",
        "colab": {
          "base_uri": "https://localhost:8080/"
        }
      },
      "outputs": [
        {
          "output_type": "execute_result",
          "data": {
            "text/plain": [
              "tensor(6.)"
            ]
          },
          "metadata": {},
          "execution_count": 209
        }
      ],
      "source": [
        "xt.grad"
      ]
    },
    {
      "cell_type": "code",
      "execution_count": 210,
      "metadata": {
        "id": "akI6MmQV2g22",
        "outputId": "f54131b8-fca9-45bc-b74b-0ccf0d7f75dc",
        "colab": {
          "base_uri": "https://localhost:8080/"
        }
      },
      "outputs": [
        {
          "output_type": "execute_result",
          "data": {
            "text/plain": [
              "tensor([ 3.,  4., 10.], requires_grad=True)"
            ]
          },
          "metadata": {},
          "execution_count": 210
        }
      ],
      "source": [
        "xt = tensor([3.,4.,10.]).requires_grad_()\n",
        "xt"
      ]
    },
    {
      "cell_type": "code",
      "execution_count": 211,
      "metadata": {
        "id": "rjiAdEz52g23",
        "outputId": "596c4e1f-964b-4a53-8ff1-2f12690d6370",
        "colab": {
          "base_uri": "https://localhost:8080/"
        }
      },
      "outputs": [
        {
          "output_type": "execute_result",
          "data": {
            "text/plain": [
              "tensor(125., grad_fn=<SumBackward0>)"
            ]
          },
          "metadata": {},
          "execution_count": 211
        }
      ],
      "source": [
        "def f(x): return (x**2).sum()\n",
        "\n",
        "yt = f(xt)\n",
        "yt"
      ]
    },
    {
      "cell_type": "code",
      "execution_count": 212,
      "metadata": {
        "id": "GTVEQcte2g23",
        "outputId": "ac9ea538-456b-4e33-8b6d-8d0c0a969acb",
        "colab": {
          "base_uri": "https://localhost:8080/"
        }
      },
      "outputs": [
        {
          "output_type": "execute_result",
          "data": {
            "text/plain": [
              "tensor([ 6.,  8., 20.])"
            ]
          },
          "metadata": {},
          "execution_count": 212
        }
      ],
      "source": [
        "yt.backward()\n",
        "xt.grad"
      ]
    },
    {
      "cell_type": "markdown",
      "metadata": {
        "id": "2T0EoINo2g23"
      },
      "source": [
        "### Stepping With a Learning Rate"
      ]
    },
    {
      "cell_type": "markdown",
      "metadata": {
        "id": "4lkw6eoc2g23"
      },
      "source": [
        "### An End-to-End SGD Example"
      ]
    },
    {
      "cell_type": "code",
      "execution_count": 278,
      "metadata": {
        "id": "bZo8pbAM2g23",
        "outputId": "9a08d44b-8691-44b7-d05e-d9a07e0d355f",
        "colab": {
          "base_uri": "https://localhost:8080/"
        }
      },
      "outputs": [
        {
          "output_type": "execute_result",
          "data": {
            "text/plain": [
              "tensor([ 0.,  1.,  2.,  3.,  4.,  5.,  6.,  7.,  8.,  9., 10., 11., 12., 13., 14., 15., 16., 17., 18., 19.])"
            ]
          },
          "metadata": {},
          "execution_count": 278
        }
      ],
      "source": [
        "time = torch.arange(0,20).float(); time"
      ]
    },
    {
      "cell_type": "code",
      "execution_count": 279,
      "metadata": {
        "id": "uN40MMfL2g23",
        "outputId": "7026422e-1b95-490c-e7c1-df6fc399f67f",
        "colab": {
          "base_uri": "https://localhost:8080/",
          "height": 265
        }
      },
      "outputs": [
        {
          "output_type": "display_data",
          "data": {
            "image/png": "[encoded data removed]",
            "text/plain": [
              "<Figure size 432x288 with 1 Axes>"
            ]
          },
          "metadata": {
            "needs_background": "light"
          }
        }
      ],
      "source": [
        "speed = torch.randn(20)*3 + 0.75*(time-9.5)**2 + 1\n",
        "plt.scatter(time,speed);"
      ]
    },
    {
      "cell_type": "code",
      "execution_count": 280,
      "metadata": {
        "id": "SvrN_dG42g23"
      },
      "outputs": [],
      "source": [
        "def f(t, params):\n",
        "    a,b,c = params\n",
        "    return a*(t**2) + (b*t) + c"
      ]
    },
    {
      "cell_type": "code",
      "execution_count": 281,
      "metadata": {
        "id": "_CVKyZy82g24"
      },
      "outputs": [],
      "source": [
        "def mse(preds, targets): return ((preds-targets)**2).mean().sqrt()"
      ]
    },
    {
      "cell_type": "markdown",
      "metadata": {
        "id": "Wej5Y4uN2g24"
      },
      "source": [
        "#### Step 1: Initialize the parameters"
      ]
    },
    {
      "cell_type": "code",
      "execution_count": 282,
      "metadata": {
        "id": "qVUBHxC52g24"
      },
      "outputs": [],
      "source": [
        "params = torch.randn(3).requires_grad_()"
      ]
    },
    {
      "cell_type": "code",
      "execution_count": 283,
      "metadata": {
        "id": "YdgTHVMl2g24"
      },
      "outputs": [],
      "source": [
        "#hide\n",
        "orig_params = params.clone()"
      ]
    },
    {
      "cell_type": "markdown",
      "metadata": {
        "id": "dm9kBHMo2g25"
      },
      "source": [
        "#### Step 2: Calculate the predictions"
      ]
    },
    {
      "cell_type": "code",
      "execution_count": 284,
      "metadata": {
        "id": "0fAA27wU2g25"
      },
      "outputs": [],
      "source": [
        "preds = f(time, params)"
      ]
    },
    {
      "cell_type": "code",
      "execution_count": 285,
      "metadata": {
        "id": "CzHYSJPc2g25"
      },
      "outputs": [],
      "source": [
        "def show_preds(preds, ax=None):\n",
        "    if ax is None: ax=plt.subplots()[1]\n",
        "    ax.scatter(time, speed)\n",
        "    ax.scatter(time, to_np(preds), color='red')\n",
        "    ax.set_ylim(-300,100)"
      ]
    },
    {
      "cell_type": "code",
      "execution_count": 286,
      "metadata": {
        "id": "wPfM96ma2g26",
        "outputId": "2939f3e7-a8db-4b22-f2f0-22579922fc7e",
        "colab": {
          "base_uri": "https://localhost:8080/",
          "height": 269
        }
      },
      "outputs": [
        {
          "output_type": "display_data",
          "data": {
            "image/png": "[encoded data removed]",
            "text/plain": [
              "<Figure size 432x288 with 1 Axes>"
            ]
          },
          "metadata": {
            "needs_background": "light"
          }
        }
      ],
      "source": [
        "show_preds(preds)"
      ]
    },
    {
      "cell_type": "markdown",
      "metadata": {
        "id": "7P30FLYx2g26"
      },
      "source": [
        "#### Step 3: Calculate the loss"
      ]
    },
    {
      "cell_type": "code",
      "execution_count": 287,
      "metadata": {
        "id": "LeY891HX2g26",
        "outputId": "1683ab9a-7875-4555-e6ae-3282cdb9e5c1",
        "colab": {
          "base_uri": "https://localhost:8080/"
        }
      },
      "outputs": [
        {
          "output_type": "execute_result",
          "data": {
            "text/plain": [
              "tensor(220.0296, grad_fn=<SqrtBackward0>)"
            ]
          },
          "metadata": {},
          "execution_count": 287
        }
      ],
      "source": [
        "loss = mse(preds, speed)\n",
        "loss"
      ]
    },
    {
      "cell_type": "markdown",
      "metadata": {
        "id": "20uR1LLO2g27"
      },
      "source": [
        "#### Step 4: Calculate the gradients"
      ]
    },
    {
      "cell_type": "code",
      "execution_count": 288,
      "metadata": {
        "id": "f-Z5xbX52g27",
        "outputId": "2cbc4a81-0c7a-42c2-f92c-d72c6b5f196c",
        "colab": {
          "base_uri": "https://localhost:8080/"
        }
      },
      "outputs": [
        {
          "output_type": "execute_result",
          "data": {
            "text/plain": [
              "tensor([-166.6039,  -10.6648,   -0.7685])"
            ]
          },
          "metadata": {},
          "execution_count": 288
        }
      ],
      "source": [
        "loss.backward()\n",
        "params.grad"
      ]
    },
    {
      "cell_type": "code",
      "execution_count": 289,
      "metadata": {
        "id": "rkQODiRx2g28",
        "outputId": "6533e966-98c5-422a-9273-1ec7753b9fcf",
        "colab": {
          "base_uri": "https://localhost:8080/"
        }
      },
      "outputs": [
        {
          "output_type": "execute_result",
          "data": {
            "text/plain": [
              "tensor([-1.6660e-03, -1.0665e-04, -7.6849e-06])"
            ]
          },
          "metadata": {},
          "execution_count": 289
        }
      ],
      "source": [
        "params.grad * 1e-5"
      ]
    },
    {
      "cell_type": "code",
      "execution_count": 290,
      "metadata": {
        "id": "c2--m1BB2g28",
        "outputId": "56564c08-3c62-4f01-b0a1-782c29b3566b",
        "colab": {
          "base_uri": "https://localhost:8080/"
        }
      },
      "outputs": [
        {
          "output_type": "execute_result",
          "data": {
            "text/plain": [
              "tensor([-1.1929,  0.5960, -1.4723], requires_grad=True)"
            ]
          },
          "metadata": {},
          "execution_count": 290
        }
      ],
      "source": [
        "params"
      ]
    },
    {
      "cell_type": "markdown",
      "metadata": {
        "id": "2AdSvNKR2g28"
      },
      "source": [
        "#### Step 5: Step the weights. "
      ]
    },
    {
      "cell_type": "code",
      "execution_count": 291,
      "metadata": {
        "id": "1JSU-4y02g28"
      },
      "outputs": [],
      "source": [
        "lr = 1e-3\n",
        "params.data -= lr * params.grad.data\n",
        "params.grad = None"
      ]
    },
    {
      "cell_type": "code",
      "execution_count": 292,
      "metadata": {
        "id": "jmzPQqRy2g29",
        "outputId": "7ab95eb8-317c-4fc1-99dd-a151db79042a",
        "colab": {
          "base_uri": "https://localhost:8080/"
        }
      },
      "outputs": [
        {
          "output_type": "execute_result",
          "data": {
            "text/plain": [
              "tensor(192.1859, grad_fn=<SqrtBackward0>)"
            ]
          },
          "metadata": {},
          "execution_count": 292
        }
      ],
      "source": [
        "preds = f(time,params)\n",
        "mse(preds, speed)"
      ]
    },
    {
      "cell_type": "code",
      "execution_count": 293,
      "metadata": {
        "id": "bOKMIn422g29",
        "outputId": "16ae7319-9b3c-4eea-dc73-72a07a4541e4",
        "colab": {
          "base_uri": "https://localhost:8080/",
          "height": 269
        }
      },
      "outputs": [
        {
          "output_type": "display_data",
          "data": {
            "image/png": "[encoded data removed]",
            "text/plain": [
              "<Figure size 432x288 with 1 Axes>"
            ]
          },
          "metadata": {
            "needs_background": "light"
          }
        }
      ],
      "source": [
        "show_preds(preds)"
      ]
    },
    {
      "cell_type": "code",
      "execution_count": 294,
      "metadata": {
        "id": "CVzftWuz2g29"
      },
      "outputs": [],
      "source": [
        "def apply_step(params, prn=True):\n",
        "    preds = f(time, params)\n",
        "    loss = mse(preds, speed)\n",
        "    loss.backward()\n",
        "    params.data -= lr * params.grad.data\n",
        "    params.grad = None\n",
        "    if prn: print(loss.item())\n",
        "    return preds"
      ]
    },
    {
      "cell_type": "markdown",
      "metadata": {
        "id": "nfDrmj0m2g2-"
      },
      "source": [
        "#### Step 6: Repeat the process "
      ]
    },
    {
      "cell_type": "code",
      "execution_count": 295,
      "metadata": {
        "id": "zgvO8SvH2g2-",
        "outputId": "665276cf-85e9-4ef7-9a1e-dfd03a51a5e3",
        "colab": {
          "base_uri": "https://localhost:8080/"
        }
      },
      "outputs": [
        {
          "output_type": "stream",
          "name": "stdout",
          "text": [
            "192.18592834472656\n",
            "164.4742431640625\n",
            "136.9701385498047\n",
            "109.81855773925781\n",
            "83.3323745727539\n",
            "58.303955078125\n",
            "37.142452239990234\n",
            "26.278411865234375\n",
            "25.473228454589844\n",
            "25.468502044677734\n"
          ]
        }
      ],
      "source": [
        "for i in range(10): apply_step(params)"
      ]
    },
    {
      "cell_type": "code",
      "execution_count": 296,
      "metadata": {
        "id": "KSfIOrrm2g2-"
      },
      "outputs": [],
      "source": [
        "#hide\n",
        "params = orig_params.detach().requires_grad_()"
      ]
    },
    {
      "cell_type": "code",
      "execution_count": 298,
      "metadata": {
        "id": "r3fgjff_2g2-",
        "outputId": "4e948eb7-17ab-415d-ef2c-5ee8a743083d",
        "colab": {
          "base_uri": "https://localhost:8080/",
          "height": 225
        }
      },
      "outputs": [
        {
          "output_type": "display_data",
          "data": {
            "image/png": "[encoded data removed]",
            "text/plain": [
              "<Figure size 864x216 with 4 Axes>"
            ]
          },
          "metadata": {
            "needs_background": "light"
          }
        }
      ],
      "source": [
        "_,axs = plt.subplots(1,4,figsize=(12,3))\n",
        "for ax in axs: show_preds(apply_step(params, False), ax)\n",
        "plt.tight_layout()"
      ]
    },
    {
      "cell_type": "markdown",
      "metadata": {
        "id": "by6te8qp2g2_"
      },
      "source": [
        "#### Step 7: stop"
      ]
    },
    {
      "cell_type": "markdown",
      "metadata": {
        "id": "WKA8sw4T2g2_"
      },
      "source": [
        "### Summarizing Gradient Descent"
      ]
    },
    {
      "cell_type": "code",
      "execution_count": 233,
      "metadata": {
        "id": "tLUEKTV22g2_",
        "outputId": "1ad72f35-cd3b-4c0c-85b5-8e056cf2e200",
        "colab": {
          "base_uri": "https://localhost:8080/",
          "height": 125
        }
      },
      "outputs": [
        {
          "output_type": "execute_result",
          "data": {
            "text/plain": [
              "<graphviz.files.Source at 0x7fe0744844d0>"
            ],
            "image/svg+xml": "<?xml version=\"1.0\" encoding=\"UTF-8\" standalone=\"no\"?>\n<!DOCTYPE svg PUBLIC \"-//W3C//DTD SVG 1.1//EN\"\n \"http://www.w3.org/Graphics/SVG/1.1/DTD/svg11.dtd\">\n<!-- Generated by graphviz version 2.40.1 (20161225.0304)\n -->\n<!-- Title: G Pages: 1 -->\n<svg width=\"597pt\" height=\"78pt\"\n viewBox=\"0.00 0.00 596.69 78.00\" xmlns=\"http://www.w3.org/2000/svg\" xmlns:xlink=\"http://www.w3.org/1999/xlink\">\n<g id=\"graph0\" class=\"graph\" transform=\"scale(1 1) rotate(0) translate(4 74)\">\n<title>G</title>\n<polygon fill=\"#ffffff\" stroke=\"transparent\" points=\"-4,4 -4,-74 592.6863,-74 592.6863,4 -4,4\"/>\n<!-- init -->\n<g id=\"node1\" class=\"node\">\n<title>init</title>\n<ellipse fill=\"none\" stroke=\"#000000\" cx=\"27\" cy=\"-18\" rx=\"27\" ry=\"18\"/>\n<text text-anchor=\"middle\" x=\"27\" y=\"-14.3\" font-family=\"Times,serif\" font-size=\"14.00\" fill=\"#000000\">init</text>\n</g>\n<!-- predict -->\n<g id=\"node2\" class=\"node\">\n<title>predict</title>\n<ellipse fill=\"none\" stroke=\"#000000\" cx=\"127.3968\" cy=\"-18\" rx=\"36.2938\" ry=\"18\"/>\n<text text-anchor=\"middle\" x=\"127.3968\" y=\"-14.3\" font-family=\"Times,serif\" font-size=\"14.00\" fill=\"#000000\">predict</text>\n</g>\n<!-- init&#45;&gt;predict -->\n<g id=\"edge1\" class=\"edge\">\n<title>init&#45;&gt;predict</title>\n<path fill=\"none\" stroke=\"#000000\" d=\"M54.1688,-18C62.3543,-18 71.5827,-18 80.6596,-18\"/>\n<polygon fill=\"#000000\" stroke=\"#000000\" points=\"80.7795,-21.5001 90.7795,-18 80.7795,-14.5001 80.7795,-21.5001\"/>\n</g>\n<!-- loss -->\n<g id=\"node3\" class=\"node\">\n<title>loss</title>\n<ellipse fill=\"none\" stroke=\"#000000\" cx=\"227.7935\" cy=\"-52\" rx=\"27\" ry=\"18\"/>\n<text text-anchor=\"middle\" x=\"227.7935\" y=\"-48.3\" font-family=\"Times,serif\" font-size=\"14.00\" fill=\"#000000\">loss</text>\n</g>\n<!-- predict&#45;&gt;loss -->\n<g id=\"edge2\" class=\"edge\">\n<title>predict&#45;&gt;loss</title>\n<path fill=\"none\" stroke=\"#000000\" d=\"M157.5191,-28.2011C168.9806,-32.0826 182.1139,-36.5303 193.9014,-40.5222\"/>\n<polygon fill=\"#000000\" stroke=\"#000000\" points=\"192.8259,-43.8532 203.4202,-43.7458 195.0713,-37.2231 192.8259,-43.8532\"/>\n</g>\n<!-- gradient -->\n<g id=\"node4\" class=\"node\">\n<title>gradient</title>\n<ellipse fill=\"none\" stroke=\"#000000\" cx=\"365.7399\" cy=\"-52\" rx=\"40.8928\" ry=\"18\"/>\n<text text-anchor=\"middle\" x=\"365.7399\" y=\"-48.3\" font-family=\"Times,serif\" font-size=\"14.00\" fill=\"#000000\">gradient</text>\n</g>\n<!-- loss&#45;&gt;gradient -->\n<g id=\"edge3\" class=\"edge\">\n<title>loss&#45;&gt;gradient</title>\n<path fill=\"none\" stroke=\"#000000\" d=\"M255.0473,-52C272.0415,-52 294.4481,-52 314.6545,-52\"/>\n<polygon fill=\"#000000\" stroke=\"#000000\" points=\"314.671,-55.5001 324.671,-52 314.671,-48.5001 314.671,-55.5001\"/>\n</g>\n<!-- step -->\n<g id=\"node5\" class=\"node\">\n<title>step</title>\n<ellipse fill=\"none\" stroke=\"#000000\" cx=\"470.6863\" cy=\"-18\" rx=\"27\" ry=\"18\"/>\n<text text-anchor=\"middle\" x=\"470.6863\" y=\"-14.3\" font-family=\"Times,serif\" font-size=\"14.00\" fill=\"#000000\">step</text>\n</g>\n<!-- gradient&#45;&gt;step -->\n<g id=\"edge4\" class=\"edge\">\n<title>gradient&#45;&gt;step</title>\n<path fill=\"none\" stroke=\"#000000\" d=\"M398.9456,-41.2422C410.9558,-37.3512 424.5297,-32.9536 436.6132,-29.0388\"/>\n<polygon fill=\"#000000\" stroke=\"#000000\" points=\"437.9112,-32.2975 446.3457,-25.8857 435.7537,-25.6382 437.9112,-32.2975\"/>\n</g>\n<!-- step&#45;&gt;predict -->\n<g id=\"edge6\" class=\"edge\">\n<title>step&#45;&gt;predict</title>\n<path fill=\"none\" stroke=\"#000000\" d=\"M443.4266,-18C384.9297,-18 246.7861,-18 174.0495,-18\"/>\n<polygon fill=\"#000000\" stroke=\"#000000\" points=\"173.8098,-14.5001 163.8098,-18 173.8097,-21.5001 173.8098,-14.5001\"/>\n<text text-anchor=\"middle\" x=\"289.7935\" y=\"-21.8\" font-family=\"Times,serif\" font-size=\"14.00\" fill=\"#000000\">repeat</text>\n</g>\n<!-- stop -->\n<g id=\"node6\" class=\"node\">\n<title>stop</title>\n<ellipse fill=\"none\" stroke=\"#000000\" cx=\"561.6863\" cy=\"-18\" rx=\"27\" ry=\"18\"/>\n<text text-anchor=\"middle\" x=\"561.6863\" y=\"-14.3\" font-family=\"Times,serif\" font-size=\"14.00\" fill=\"#000000\">stop</text>\n</g>\n<!-- step&#45;&gt;stop -->\n<g id=\"edge5\" class=\"edge\">\n<title>step&#45;&gt;stop</title>\n<path fill=\"none\" stroke=\"#000000\" d=\"M497.9893,-18C506.2676,-18 515.508,-18 524.3268,-18\"/>\n<polygon fill=\"#000000\" stroke=\"#000000\" points=\"524.4026,-21.5001 534.4025,-18 524.4025,-14.5001 524.4026,-21.5001\"/>\n</g>\n</g>\n</svg>\n"
          },
          "metadata": {},
          "execution_count": 233
        }
      ],
      "source": [
        "gv('''\n",
        "init->predict->loss->gradient->step->stop\n",
        "step->predict[label=repeat]\n",
        "''')"
      ]
    },
    {
      "cell_type": "markdown",
      "metadata": {
        "id": "tKQCUahG2g2_"
      },
      "source": [
        "## The MNIST Loss Function"
      ]
    },
    {
      "cell_type": "code",
      "execution_count": null,
      "metadata": {
        "id": "xj8ZnK642g3A"
      },
      "outputs": [],
      "source": [
        "train_x = torch.cat([stacked_threes, stacked_sevens]).view(-1, 28*28)"
      ]
    },
    {
      "cell_type": "code",
      "execution_count": null,
      "metadata": {
        "id": "B7s1Muvp2g3C"
      },
      "outputs": [],
      "source": [
        "train_y = tensor([1]*len(threes) + [0]*len(sevens)).unsqueeze(1)\n",
        "train_x.shape,train_y.shape"
      ]
    },
    {
      "cell_type": "code",
      "execution_count": null,
      "metadata": {
        "id": "hkpOlPna2g3C"
      },
      "outputs": [],
      "source": [
        "dset = list(zip(train_x,train_y))\n",
        "x,y = dset[0]\n",
        "x.shape,y"
      ]
    },
    {
      "cell_type": "code",
      "execution_count": null,
      "metadata": {
        "id": "Ayw7FIKE2g3D"
      },
      "outputs": [],
      "source": [
        "valid_x = torch.cat([valid_3_tens, valid_7_tens]).view(-1, 28*28)\n",
        "valid_y = tensor([1]*len(valid_3_tens) + [0]*len(valid_7_tens)).unsqueeze(1)\n",
        "valid_dset = list(zip(valid_x,valid_y))"
      ]
    },
    {
      "cell_type": "code",
      "execution_count": null,
      "metadata": {
        "id": "9KFcJJpL2g3I"
      },
      "outputs": [],
      "source": [
        "def init_params(size, std=1.0): return (torch.randn(size)*std).requires_grad_()"
      ]
    },
    {
      "cell_type": "code",
      "execution_count": null,
      "metadata": {
        "id": "gDqiqwGK2g3I"
      },
      "outputs": [],
      "source": [
        "weights = init_params((28*28,1))"
      ]
    },
    {
      "cell_type": "code",
      "execution_count": null,
      "metadata": {
        "id": "IvPavnK-2g3I"
      },
      "outputs": [],
      "source": [
        "bias = init_params(1)"
      ]
    },
    {
      "cell_type": "code",
      "execution_count": null,
      "metadata": {
        "id": "_wjEygAZ2g3I"
      },
      "outputs": [],
      "source": [
        "(train_x[0]*weights.T).sum() + bias"
      ]
    },
    {
      "cell_type": "code",
      "execution_count": null,
      "metadata": {
        "id": "7GOqdAWG2g3J"
      },
      "outputs": [],
      "source": [
        "def linear1(xb): return xb@weights + bias\n",
        "preds = linear1(train_x)\n",
        "preds"
      ]
    },
    {
      "cell_type": "code",
      "execution_count": null,
      "metadata": {
        "id": "uJr6tLeD2g3J"
      },
      "outputs": [],
      "source": [
        "corrects = (preds>0.0).float() == train_y\n",
        "corrects"
      ]
    },
    {
      "cell_type": "code",
      "execution_count": null,
      "metadata": {
        "id": "ilbfD1r72g3J"
      },
      "outputs": [],
      "source": [
        "corrects.float().mean().item()"
      ]
    },
    {
      "cell_type": "code",
      "execution_count": null,
      "metadata": {
        "id": "fvK3AC9H2g3K"
      },
      "outputs": [],
      "source": [
        "weights[0] *= 1.0001"
      ]
    },
    {
      "cell_type": "code",
      "execution_count": null,
      "metadata": {
        "id": "st7qGJxg2g3K"
      },
      "outputs": [],
      "source": [
        "preds = linear1(train_x)\n",
        "((preds>0.0).float() == train_y).float().mean().item()"
      ]
    },
    {
      "cell_type": "code",
      "execution_count": null,
      "metadata": {
        "id": "v8PknDeH2g3L"
      },
      "outputs": [],
      "source": [
        "trgts  = tensor([1,0,1])\n",
        "prds   = tensor([0.9, 0.4, 0.2])"
      ]
    },
    {
      "cell_type": "code",
      "execution_count": null,
      "metadata": {
        "id": "z6zpsvCK2g3L"
      },
      "outputs": [],
      "source": [
        "def mnist_loss(predictions, targets):\n",
        "    return torch.where(targets==1, 1-predictions, predictions).mean()"
      ]
    },
    {
      "cell_type": "code",
      "execution_count": null,
      "metadata": {
        "id": "QFwQIJoP2g3L"
      },
      "outputs": [],
      "source": [
        "torch.where(trgts==1, 1-prds, prds)"
      ]
    },
    {
      "cell_type": "code",
      "execution_count": null,
      "metadata": {
        "id": "oEry3nnb2g3L"
      },
      "outputs": [],
      "source": [
        "mnist_loss(prds,trgts)"
      ]
    },
    {
      "cell_type": "code",
      "execution_count": null,
      "metadata": {
        "id": "ImrxgEIX2g3M"
      },
      "outputs": [],
      "source": [
        "mnist_loss(tensor([0.9, 0.4, 0.8]),trgts)"
      ]
    },
    {
      "cell_type": "markdown",
      "metadata": {
        "id": "oV-Qq1fi2g3M"
      },
      "source": [
        "### Sigmoid"
      ]
    },
    {
      "cell_type": "code",
      "execution_count": null,
      "metadata": {
        "id": "jXptSJE_2g3N"
      },
      "outputs": [],
      "source": [
        "def sigmoid(x): return 1/(1+torch.exp(-x))"
      ]
    },
    {
      "cell_type": "code",
      "execution_count": null,
      "metadata": {
        "id": "AP2_OTLr2g3N"
      },
      "outputs": [],
      "source": [
        "plot_function(torch.sigmoid, title='Sigmoid', min=-4, max=4)"
      ]
    },
    {
      "cell_type": "code",
      "execution_count": null,
      "metadata": {
        "id": "UMo_4o5Y2g3O"
      },
      "outputs": [],
      "source": [
        "def mnist_loss(predictions, targets):\n",
        "    predictions = predictions.sigmoid()\n",
        "    return torch.where(targets==1, 1-predictions, predictions).mean()"
      ]
    },
    {
      "cell_type": "markdown",
      "metadata": {
        "id": "-Bk7iaZm2g3O"
      },
      "source": [
        "### SGD and Mini-Batches"
      ]
    },
    {
      "cell_type": "code",
      "execution_count": null,
      "metadata": {
        "id": "TwwH4Kpc2g3O"
      },
      "outputs": [],
      "source": [
        "coll = range(15)\n",
        "dl = DataLoader(coll, batch_size=5, shuffle=True)\n",
        "list(dl)"
      ]
    },
    {
      "cell_type": "code",
      "execution_count": null,
      "metadata": {
        "id": "9C3QZd6S2g3O"
      },
      "outputs": [],
      "source": [
        "ds = L(enumerate(string.ascii_lowercase))\n",
        "ds"
      ]
    },
    {
      "cell_type": "code",
      "execution_count": null,
      "metadata": {
        "id": "PeORgCEE2g3P"
      },
      "outputs": [],
      "source": [
        "dl = DataLoader(ds, batch_size=6, shuffle=True)\n",
        "list(dl)"
      ]
    },
    {
      "cell_type": "markdown",
      "metadata": {
        "id": "DdFsWSgY2g3P"
      },
      "source": [
        "## Putting It All Together"
      ]
    },
    {
      "cell_type": "code",
      "execution_count": null,
      "metadata": {
        "id": "dhAEKxqq2g3P"
      },
      "outputs": [],
      "source": [
        "weights = init_params((28*28,1))\n",
        "bias = init_params(1)"
      ]
    },
    {
      "cell_type": "code",
      "execution_count": null,
      "metadata": {
        "id": "gw2QKrO82g3Q"
      },
      "outputs": [],
      "source": [
        "dl = DataLoader(dset, batch_size=256)\n",
        "xb,yb = first(dl)\n",
        "xb.shape,yb.shape"
      ]
    },
    {
      "cell_type": "code",
      "execution_count": null,
      "metadata": {
        "id": "z5TRTT6R2g3T"
      },
      "outputs": [],
      "source": [
        "valid_dl = DataLoader(valid_dset, batch_size=256)"
      ]
    },
    {
      "cell_type": "code",
      "execution_count": null,
      "metadata": {
        "id": "FgpwKHz12g3T"
      },
      "outputs": [],
      "source": [
        "batch = train_x[:4]\n",
        "batch.shape"
      ]
    },
    {
      "cell_type": "code",
      "execution_count": null,
      "metadata": {
        "id": "djOVQRKw2g3T"
      },
      "outputs": [],
      "source": [
        "preds = linear1(batch)\n",
        "preds"
      ]
    },
    {
      "cell_type": "code",
      "execution_count": null,
      "metadata": {
        "id": "-8WdYtvN2g3T"
      },
      "outputs": [],
      "source": [
        "loss = mnist_loss(preds, train_y[:4])\n",
        "loss"
      ]
    },
    {
      "cell_type": "code",
      "execution_count": null,
      "metadata": {
        "id": "Xug_2zaq2g3U"
      },
      "outputs": [],
      "source": [
        "loss.backward()\n",
        "weights.grad.shape,weights.grad.mean(),bias.grad"
      ]
    },
    {
      "cell_type": "code",
      "execution_count": null,
      "metadata": {
        "id": "WHLwGb8T2g3U"
      },
      "outputs": [],
      "source": [
        "def calc_grad(xb, yb, model):\n",
        "    preds = model(xb)\n",
        "    loss = mnist_loss(preds, yb)\n",
        "    loss.backward()"
      ]
    },
    {
      "cell_type": "code",
      "execution_count": null,
      "metadata": {
        "id": "F33_h4h72g3U"
      },
      "outputs": [],
      "source": [
        "calc_grad(batch, train_y[:4], linear1)\n",
        "weights.grad.mean(),bias.grad"
      ]
    },
    {
      "cell_type": "code",
      "execution_count": null,
      "metadata": {
        "id": "d3gL9SW62g3V"
      },
      "outputs": [],
      "source": [
        "calc_grad(batch, train_y[:4], linear1)\n",
        "weights.grad.mean(),bias.grad"
      ]
    },
    {
      "cell_type": "code",
      "execution_count": null,
      "metadata": {
        "id": "n_sb3sIq2g3V"
      },
      "outputs": [],
      "source": [
        "weights.grad.zero_()\n",
        "bias.grad.zero_();"
      ]
    },
    {
      "cell_type": "code",
      "execution_count": null,
      "metadata": {
        "id": "wsP6V4YB2g3W"
      },
      "outputs": [],
      "source": [
        "def train_epoch(model, lr, params):\n",
        "    for xb,yb in dl:\n",
        "        calc_grad(xb, yb, model)\n",
        "        for p in params:\n",
        "            p.data -= p.grad*lr\n",
        "            p.grad.zero_()"
      ]
    },
    {
      "cell_type": "code",
      "execution_count": null,
      "metadata": {
        "id": "lXIIEeVz2g3W"
      },
      "outputs": [],
      "source": [
        "(preds>0.0).float() == train_y[:4]"
      ]
    },
    {
      "cell_type": "code",
      "execution_count": null,
      "metadata": {
        "id": "i2wAmA152g3W"
      },
      "outputs": [],
      "source": [
        "def batch_accuracy(xb, yb):\n",
        "    preds = xb.sigmoid()\n",
        "    correct = (preds>0.5) == yb\n",
        "    return correct.float().mean()"
      ]
    },
    {
      "cell_type": "code",
      "execution_count": null,
      "metadata": {
        "id": "HP1UG30E2g3W"
      },
      "outputs": [],
      "source": [
        "batch_accuracy(linear1(batch), train_y[:4])"
      ]
    },
    {
      "cell_type": "code",
      "execution_count": null,
      "metadata": {
        "id": "8B9KgP0N2g3X"
      },
      "outputs": [],
      "source": [
        "def validate_epoch(model):\n",
        "    accs = [batch_accuracy(model(xb), yb) for xb,yb in valid_dl]\n",
        "    return round(torch.stack(accs).mean().item(), 4)"
      ]
    },
    {
      "cell_type": "code",
      "execution_count": null,
      "metadata": {
        "id": "coG1qYjs2g3Y"
      },
      "outputs": [],
      "source": [
        "validate_epoch(linear1)"
      ]
    },
    {
      "cell_type": "code",
      "execution_count": null,
      "metadata": {
        "id": "WdRjzheU2g3Y"
      },
      "outputs": [],
      "source": [
        "lr = 1.\n",
        "params = weights,bias\n",
        "train_epoch(linear1, lr, params)\n",
        "validate_epoch(linear1)"
      ]
    },
    {
      "cell_type": "code",
      "execution_count": null,
      "metadata": {
        "id": "te6FBc9d2g3Z"
      },
      "outputs": [],
      "source": [
        "for i in range(20):\n",
        "    train_epoch(linear1, lr, params)\n",
        "    print(validate_epoch(linear1), end=' ')"
      ]
    },
    {
      "cell_type": "markdown",
      "metadata": {
        "id": "_vtqqhEw2g3Z"
      },
      "source": [
        "### Creating an Optimizer"
      ]
    },
    {
      "cell_type": "code",
      "execution_count": null,
      "metadata": {
        "id": "LEqto2Kl2g3Z"
      },
      "outputs": [],
      "source": [
        "linear_model = nn.Linear(28*28,1)"
      ]
    },
    {
      "cell_type": "code",
      "execution_count": null,
      "metadata": {
        "id": "7Bp7xGkR2g3a"
      },
      "outputs": [],
      "source": [
        "w,b = linear_model.parameters()\n",
        "w.shape,b.shape"
      ]
    },
    {
      "cell_type": "code",
      "execution_count": null,
      "metadata": {
        "id": "319Buo4m2g3a"
      },
      "outputs": [],
      "source": [
        "class BasicOptim:\n",
        "    def __init__(self,params,lr): self.params,self.lr = list(params),lr\n",
        "\n",
        "    def step(self, *args, **kwargs):\n",
        "        for p in self.params: p.data -= p.grad.data * self.lr\n",
        "\n",
        "    def zero_grad(self, *args, **kwargs):\n",
        "        for p in self.params: p.grad = None"
      ]
    },
    {
      "cell_type": "code",
      "execution_count": null,
      "metadata": {
        "id": "CwYPDb9q2g3a"
      },
      "outputs": [],
      "source": [
        "opt = BasicOptim(linear_model.parameters(), lr)"
      ]
    },
    {
      "cell_type": "code",
      "execution_count": null,
      "metadata": {
        "id": "y6-rVK0Z2g3a"
      },
      "outputs": [],
      "source": [
        "def train_epoch(model):\n",
        "    for xb,yb in dl:\n",
        "        calc_grad(xb, yb, model)\n",
        "        opt.step()\n",
        "        opt.zero_grad()"
      ]
    },
    {
      "cell_type": "code",
      "execution_count": null,
      "metadata": {
        "id": "3WywNkuC2g3b"
      },
      "outputs": [],
      "source": [
        "validate_epoch(linear_model)"
      ]
    },
    {
      "cell_type": "code",
      "execution_count": null,
      "metadata": {
        "id": "gc-lzez92g3b"
      },
      "outputs": [],
      "source": [
        "def train_model(model, epochs):\n",
        "    for i in range(epochs):\n",
        "        train_epoch(model)\n",
        "        print(validate_epoch(model), end=' ')"
      ]
    },
    {
      "cell_type": "code",
      "execution_count": null,
      "metadata": {
        "id": "pjnDfDv82g3b"
      },
      "outputs": [],
      "source": [
        "train_model(linear_model, 20)"
      ]
    },
    {
      "cell_type": "code",
      "execution_count": null,
      "metadata": {
        "id": "LBJEdUcv2g3c"
      },
      "outputs": [],
      "source": [
        "linear_model = nn.Linear(28*28,1)\n",
        "opt = SGD(linear_model.parameters(), lr)\n",
        "train_model(linear_model, 20)"
      ]
    },
    {
      "cell_type": "code",
      "execution_count": null,
      "metadata": {
        "id": "qzNUU4Qk2g3c"
      },
      "outputs": [],
      "source": [
        "dls = DataLoaders(dl, valid_dl)"
      ]
    },
    {
      "cell_type": "code",
      "execution_count": null,
      "metadata": {
        "id": "0MZwEX5t2g3d"
      },
      "outputs": [],
      "source": [
        "learn = Learner(dls, nn.Linear(28*28,1), opt_func=SGD,\n",
        "                loss_func=mnist_loss, metrics=batch_accuracy)"
      ]
    },
    {
      "cell_type": "code",
      "execution_count": null,
      "metadata": {
        "id": "1HJ8evkj2g3d"
      },
      "outputs": [],
      "source": [
        "learn.fit(10, lr=lr)"
      ]
    },
    {
      "cell_type": "markdown",
      "metadata": {
        "id": "Ov1bEI4c2g3d"
      },
      "source": [
        "## Adding a Nonlinearity"
      ]
    },
    {
      "cell_type": "code",
      "execution_count": null,
      "metadata": {
        "id": "hLFZ1o2C2g3e"
      },
      "outputs": [],
      "source": [
        "def simple_net(xb): \n",
        "    res = xb@w1 + b1\n",
        "    res = res.max(tensor(0.0))\n",
        "    res = res@w2 + b2\n",
        "    return res"
      ]
    },
    {
      "cell_type": "code",
      "execution_count": null,
      "metadata": {
        "id": "ttUIx1E-2g3e"
      },
      "outputs": [],
      "source": [
        "w1 = init_params((28*28,30))\n",
        "b1 = init_params(30)\n",
        "w2 = init_params((30,1))\n",
        "b2 = init_params(1)"
      ]
    },
    {
      "cell_type": "code",
      "execution_count": null,
      "metadata": {
        "id": "pvWfk3q92g3e"
      },
      "outputs": [],
      "source": [
        "plot_function(F.relu)"
      ]
    },
    {
      "cell_type": "code",
      "execution_count": null,
      "metadata": {
        "id": "bGpjSBJD2g3e"
      },
      "outputs": [],
      "source": [
        "simple_net = nn.Sequential(\n",
        "    nn.Linear(28*28,30),\n",
        "    nn.ReLU(),\n",
        "    nn.Linear(30,1)\n",
        ")"
      ]
    },
    {
      "cell_type": "code",
      "execution_count": null,
      "metadata": {
        "id": "eKDqdgbq2g3e"
      },
      "outputs": [],
      "source": [
        "learn = Learner(dls, simple_net, opt_func=SGD,\n",
        "                loss_func=mnist_loss, metrics=batch_accuracy)"
      ]
    },
    {
      "cell_type": "code",
      "execution_count": null,
      "metadata": {
        "id": "-U1rSmDC2g3f"
      },
      "outputs": [],
      "source": [
        "learn.fit(40, 0.1)"
      ]
    },
    {
      "cell_type": "code",
      "execution_count": null,
      "metadata": {
        "id": "5q1JaUPr2g3f"
      },
      "outputs": [],
      "source": [
        "plt.plot(L(learn.recorder.values).itemgot(2));"
      ]
    },
    {
      "cell_type": "code",
      "execution_count": null,
      "metadata": {
        "id": "of6Kr_ek2g3f"
      },
      "outputs": [],
      "source": [
        "learn.recorder.values[-1][2]"
      ]
    },
    {
      "cell_type": "markdown",
      "metadata": {
        "id": "JN1LkLXv2g3f"
      },
      "source": [
        "### Going Deeper"
      ]
    },
    {
      "cell_type": "code",
      "execution_count": null,
      "metadata": {
        "id": "6CRpAppO2g3f"
      },
      "outputs": [],
      "source": [
        "dls = ImageDataLoaders.from_folder(path)\n",
        "learn = cnn_learner(dls, resnet18, pretrained=False,\n",
        "                    loss_func=F.cross_entropy, metrics=accuracy)\n",
        "learn.fit_one_cycle(1, 0.1)"
      ]
    },
    {
      "cell_type": "markdown",
      "metadata": {
        "id": "pBL3VNji2g3f"
      },
      "source": [
        "## Jargon Recap"
      ]
    },
    {
      "cell_type": "markdown",
      "metadata": {
        "id": "S3DZbOZD2g3f"
      },
      "source": [
        "## Questionnaire"
      ]
    },
    {
      "cell_type": "markdown",
      "metadata": {
        "id": "0ekQKmks2g3g"
      },
      "source": [
        "1. How is a grayscale image represented on a computer? How about a color image?\n",
        "\n",
        "  A grayscale image is represented as a 2D array of numbers (typically unsigned integers)\n",
        "\n",
        "1. How are the files and folders in the `MNIST_SAMPLE` dataset structured? Why?\n",
        "  - first level: valid, train\n",
        "  - second level: 3, 7\n",
        "\n",
        "  Split into validation and training sets then split by digit for easy label extraction for classification.  Only 2 digits, that should be difficult to confuse, to\n",
        "\n",
        "1. Explain how the \"pixel similarity\" approach to classifying digits works.\n",
        "\n",
        "  - take all examples of each individual digit and create an average image providing the average pixel intensity at each location across all examples of that digit.  Then check to see how similar a new image is to each average image digit to figure out what digit is most likely represented.\n",
        "\n",
        "1. What is a list comprehension? Create one now that selects odd numbers from a list and doubles them.\n",
        "\n",
        "  List comprehension allows you to go through every item in a list, optionally perform some logic/operations based on this list item, and generate a list from the results of those operations."
      ]
    },
    {
      "cell_type": "code",
      "source": [
        "# Generate random list of integers\n",
        "import random\n",
        "randomlist = [random.randint(1,30) for o in range(50)]\n",
        "print(randomlist)"
      ],
      "metadata": {
        "id": "Gcz2z15IAvKZ",
        "outputId": "752455a3-5a97-43c0-8e4c-ab194921b8dd",
        "colab": {
          "base_uri": "https://localhost:8080/"
        }
      },
      "execution_count": 15,
      "outputs": [
        {
          "output_type": "stream",
          "name": "stdout",
          "text": [
            "[21, 4, 1, 24, 9, 8, 8, 5, 24, 4, 22, 24, 29, 18, 3, 19, 14, 2, 1, 3, 7, 8, 17, 20, 1, 18, 7, 23, 21, 23, 18, 14, 8, 15, 19, 9, 26, 28, 1, 25, 26, 6, 23, 14, 11, 9, 5, 7, 25, 11]\n"
          ]
        }
      ]
    },
    {
      "cell_type": "code",
      "source": [
        "# Perform list comprehension to extracts odds and doubles them\n",
        "doubleodd = [2*o for o in randomlist if o%2 == 1]\n",
        "print(doubleodd)"
      ],
      "metadata": {
        "id": "KZKtfMDBBCEw",
        "outputId": "aa0e1580-6be7-4fb7-d4fc-2ad5449217dc",
        "colab": {
          "base_uri": "https://localhost:8080/"
        }
      },
      "execution_count": 17,
      "outputs": [
        {
          "output_type": "stream",
          "name": "stdout",
          "text": [
            "[42, 2, 18, 10, 58, 6, 38, 2, 6, 14, 34, 2, 14, 46, 42, 46, 30, 38, 18, 2, 50, 46, 22, 18, 10, 14, 50, 22]\n"
          ]
        }
      ]
    },
    {
      "cell_type": "markdown",
      "source": [
        "5. What is a \"rank-3 tensor\"?\n",
        "\n",
        "  Basically the pytorch version of a numpy array with extra functionality (including running on GPU as well as CPU) is a tensor.  A rank-3 tensor is a three-dimensional tensor.\n",
        "\n",
        "1. What is the difference between tensor rank and shape? How do you get the rank from the shape?\n",
        "\n",
        "  Rank is a measure of dimensionality where shape tells you the length of each axis.\n",
        "\n",
        "  You can get the shape as follows:\n",
        "\n",
        "  `tensor_variable.shape`\n",
        "\n",
        "  You can get the rank as follows:\n",
        "\n",
        "  `len(tensor_variable.shape)`\n",
        "\n",
        "  or\n",
        "  \n",
        "  `stacked_threes.ndim`\n",
        "\n",
        "1. What are RMSE and L1 norm?\n",
        "\n",
        "  - Mean absolute difference (L1 norm)\n",
        "\n",
        "  $\\text{mean absolute difference} = \\frac{1}{n} \\left| \\sum_{i=1}^n (a_i - \\hat{a_i}) \\right|$\n",
        "\n",
        "  Where $a_i$ and $\\hat{a_i}$ are the same pixels in the images being compared.\n",
        "\n",
        "  `(a_3 - mean3).abs().mean()`\n",
        "\n",
        "  - Root Mean Squared Error (RMSE) (L2 norm)\n",
        "\n",
        "  $\\text{RMSE} = \\sqrt{ \\frac{1}{n} \\sum_{i=1}^n (a_i - \\hat{a_i})^2}$\n",
        "\n",
        "  `dist_3_sqr = ((a_3 - mean3)**2).mean().sqrt()`\n",
        "\n",
        "1. How can you apply a calculation on thousands of numbers at once, many thousands of times faster than a Python loop?\n",
        "\n",
        "  Broadcasting (see Q. 10).\n",
        "  \n",
        "1. Create a 3×3 tensor or array containing the numbers from 1 to 9. Double it. Select the bottom-right four numbers."
      ],
      "metadata": {
        "id": "vjH8jp9g_9Sb"
      }
    },
    {
      "cell_type": "code",
      "source": [
        "data = [[1,2,3],[4,5,6],[7,8,9]]\n",
        "tns = tensor(data)\n",
        "tns *= 2\n",
        "tns[1:3,1:3]"
      ],
      "metadata": {
        "id": "AaScvy9AIII0",
        "outputId": "61c44134-0286-40fe-a12a-d9b21b7a8840",
        "colab": {
          "base_uri": "https://localhost:8080/"
        }
      },
      "execution_count": 42,
      "outputs": [
        {
          "output_type": "execute_result",
          "data": {
            "text/plain": [
              "tensor([[10, 12],\n",
              "        [16, 18]])"
            ]
          },
          "metadata": {},
          "execution_count": 42
        }
      ]
    },
    {
      "cell_type": "markdown",
      "source": [
        "10. What is broadcasting?\n",
        "\n",
        "  Broadcasting is a feature where pytorch will automatically expand the tensor with the smaller rank to have the same size as the one with the larger rank making things like operations on images and batches of images be able to use the same code.  This doesn't use any additional memory in the expansion of the smaller rank tensor (it just knows to reuse those values).  The whole calculation is done in C (or CUDA if running on a GPU) running tens of thousands of times faster than pure Python (up to millions of times faster on a GPU)!\n",
        "\n",
        "1. Are metrics generally calculated using the training set, or the validation set? Why?\n",
        "\n",
        "  validation set\n",
        "\n",
        "1. What is SGD?\n",
        "\n",
        "  SGD is Stochastic Gradient Descent\n",
        "\n",
        "  Gradient Descent: Start with some model with weights.  When running an input we generate a loss at the output.  For every weight we can calculate the gradient and adjust the weight in a small step in the direction that decreases our loss.\n",
        "\n",
        "1. Why does SGD use mini-batches?\n",
        "1. What are the seven steps in SGD for machine learning?\n",
        "\n",
        "  From fast.ai:\n",
        "  - *Initialize* the weights\n",
        "  - For each image, use these weights to *predict* whether it appears to be a three or seven\n",
        "  - Based on these predictions, calculate how good the model is (its *loss*)\n",
        "  - Calculate the *gradient*, which measures for each weight, how changing the weight would change the loss\n",
        "  - *Step* (that is, change) all weights based on that calculation\n",
        "  - Go back to the second step, and *repeat* the process\n",
        "  - ... until you decide to *stop* the training process (for instance because the model is good enough, or you don't want to wait any longer)\n",
        "\n",
        "```\n",
        "             ┌►loss ──► gradient──┐\n",
        "             │                    │\n",
        "             │                    ▼\n",
        "init──►predict◄──────────────────step──►stop\n",
        "\n",
        "                     repeat\n",
        "```\n",
        "\n",
        "15. How do we initialize the weights in a model?\n",
        "\n",
        "  Typically randomly.\n",
        "\n",
        "1. What is \"loss\"?\n",
        "\n",
        "  It's a type of metric used for training purposes instead of necessarily being optimized for the end needs of the resulting system.  The loss should be positive with small values if the result is closer to ideal and larger the further away it is from the right answer.\n",
        "\n",
        "1. Why can't we always use a high learning rate?\n",
        "\n",
        "  It may overshoot the local minima and never converge.  Loss will increase as a result over multiple iterations.\n",
        "\n",
        "1. What is a \"gradient\"?\n",
        "\n",
        "  It's a derivative at a point.\n",
        "\n",
        "1. Do you need to know how to calculate gradients yourself?\n",
        "\n",
        "  No.  You can mark a tensor to tell pytorch to keep gradient information.\n",
        "\n",
        "  `a = tensor([3.,4.,10.]).requires_grad_()`\n",
        "\n",
        "  Perform some function / operations on the variable\n",
        "\n",
        "  `b = f(a)`\n",
        "\n",
        "  Tell pytorch to calculate gradients.\n",
        "\n",
        "  `b.backward()`\n",
        "\n",
        "  And extract the gradient for the variable of interest\n",
        "\n",
        "  `a.grad()`\n",
        "\n",
        "1. Why can't we use accuracy as a loss function?\n",
        "\n",
        "  We often need the loss function to be more sensitive to subtle weight changes than our evaluation metric.  Shouldn't have a gradient of 0 (say when weights change but not enough to change the classification of the item).\n",
        "\n",
        "1. Draw the sigmoid function. What is special about its shape?\n",
        "1. What is the difference between a loss function and a metric?\n",
        "1. What is the function to calculate new weights using a learning rate?\n",
        "1. What does the `DataLoader` class do?\n",
        "1. Write pseudocode showing the basic steps taken in each epoch for SGD.\n",
        "1. Create a function that, if passed two arguments `[1,2,3,4]` and `'abcd'`, returns `[(1, 'a'), (2, 'b'), (3, 'c'), (4, 'd')]`. What is special about that output data structure?\n",
        "1. What does `view` do in PyTorch?\n",
        "1. What are the \"bias\" parameters in a neural network? Why do we need them?\n",
        "1. What does the `@` operator do in Python?\n",
        "1. What does the `backward` method do?\n",
        "1. Why do we have to zero the gradients?\n",
        "1. What information do we have to pass to `Learner`?\n",
        "1. Show Python or pseudocode for the basic steps of a training loop.\n",
        "1. What is \"ReLU\"? Draw a plot of it for values from `-2` to `+2`.\n",
        "1. What is an \"activation function\"?\n",
        "1. What's the difference between `F.relu` and `nn.ReLU`?\n",
        "1. The universal approximation theorem shows that any function can be approximated as closely as needed using just one nonlinearity. So why do we normally use more?"
      ],
      "metadata": {
        "id": "aHoZl0dMINit"
      }
    },
    {
      "cell_type": "markdown",
      "metadata": {
        "id": "RE_bWhxK2g3j"
      },
      "source": [
        "### Further Research"
      ]
    },
    {
      "cell_type": "markdown",
      "metadata": {
        "id": "grl-VVlo2g3k"
      },
      "source": [
        "1. Create your own implementation of `Learner` from scratch, based on the training loop shown in this chapter.\n",
        "1. Complete all the steps in this chapter using the full MNIST datasets (that is, for all digits, not just 3s and 7s). This is a significant project and will take you quite a bit of time to complete! You'll need to do some of your own research to figure out how to overcome some obstacles you'll meet on the way."
      ]
    },
    {
      "cell_type": "code",
      "execution_count": null,
      "metadata": {
        "id": "psM4wWpD2g3m"
      },
      "outputs": [],
      "source": [
        ""
      ]
    }
  ],
  "metadata": {
    "jupytext": {
      "split_at_heading": true
    },
    "kernelspec": {
      "display_name": "Python 3",
      "language": "python",
      "name": "python3"
    },
    "colab": {
      "name": "04_mnist_basics.ipynb",
      "provenance": []
    }
  },
  "nbformat": 4,
  "nbformat_minor": 0
}